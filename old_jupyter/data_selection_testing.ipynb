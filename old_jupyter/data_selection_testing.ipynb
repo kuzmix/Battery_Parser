{
 "cells": [
  {
   "cell_type": "code",
   "metadata": {
    "collapsed": true,
    "ExecuteTime": {
     "end_time": "2024-06-25T12:27:22.530906Z",
     "start_time": "2024-06-25T12:27:21.626859Z"
    }
   },
   "source": [
    "import battery_parser as bp\n",
    "import os\n",
    "import pandas as pd\n",
    "import numpy as np\n",
    "import re\n",
    "import copy\n",
    "import itertools"
   ],
   "outputs": [],
   "execution_count": 1
  },
  {
   "cell_type": "code",
   "source": [
    "#get all files from directory\n",
    "# root_dir  = r'D:\\!Science\\Физтех\\Циклирования\\28.05.24 - результаты'\n",
    "# files = bp.list_files(directory=root_dir, filetype='xlsx')\n",
    "# \n",
    "# #parse info\n",
    "# patterns = [r'([A-Z]{3})', r'([^\\\\]*)', r'([0-9][^\\\\]*)', r'.?([0-9]?[0-9])', r'.*-(13[0-9])-.-([0-9]).*-([0-9]{14})']\n",
    "# column_names = ['Chem','Tech', 'Step', 'Pouch','Potentiostat', 'Channel', 'Datetime_id']\n",
    "# pattern = r'\\\\'.join(patterns)\n",
    "# parser = bp.importing.Regex_parse()\n",
    "# result = parser(strings=files,pattern=pattern,column_names= column_names)\n",
    "# \n",
    "# #data enhancement\n",
    "# type_convert = {i:str for i in result.columns}\n",
    "# result = result.astype({'Pouch':int}, copy=True)\n",
    "# result = result.astype(type_convert, copy=True)\n",
    "# \n",
    "# #Create ID - unique for any pouch\n",
    "# result['ID'] = result['Chem'] + result['Pouch']\n",
    "# result.insert(0, 'ID', result.pop('ID'))\n",
    "# \n",
    "# #Add info about thermos and cycling protocol\n",
    "# thermos = {'1':['NMC14', 'NMC15', 'LTO7', 'LTO6', 'LFP4', 'LFP5'],\n",
    "#            '2':['LFP2', 'LFP3', 'NMC6', 'NMC7', 'LTO11', 'LTO12'],\n",
    "#            '3':['NMC12', 'NMC13', 'LTO13', 'LTO3', 'LFP6', 'LFP7']}\n",
    "# protocol = {'gost45':['NMC6', 'NMC7', 'LTO11', 'LTO12', 'LFP2', 'LFP3'],\n",
    "#             'gost60':['NMC12', 'NMC13', 'LTO13', 'LTO3', 'LFP6', 'LFP7'],\n",
    "#             'Imax45':['NMC14', 'NMC15', 'LTO7', 'LTO6', 'LFP4', 'LFP5'],\n",
    "#             'CCroom':['NMC10', 'NMC11', 'LTO4', 'LTO5', 'LFP1', 'LFP8']}\n",
    "# \n",
    "# if bp.modifications.check_dict_intersection(thermos) or bp.modifications.check_dict_intersection(protocol):\n",
    "#     print('Dict Intersection!')\n",
    "# \n",
    "# thermos_creator = bp.modifications.Find_key(thermos)\n",
    "# technique_creator = bp.modifications.Find_key(protocol)\n",
    "# \n",
    "# result['Protocol'] = result['ID'].apply(technique_creator)\n",
    "# result.insert(2, 'Protocol', result.pop('Protocol'))\n",
    "# result['Thermos'] = result['ID'].apply(thermos_creator)\n",
    "# result.insert(6, 'Thermos', result.pop('Thermos'))\n",
    "# \n",
    "# #Create Step_id - unique value for all steps\n",
    "# result.sort_values('Step', inplace=True)\n",
    "# \n",
    "# step_id = [bp.modifications.step_id_creator(pouch) for name, pouch in result.groupby('ID')]\n",
    "# result['Step_id'] = pd.concat(step_id, )\n",
    "# result.insert(4, 'Step_id', result.pop('Step_id'))\n",
    "# \n",
    "# \n",
    "# result"
   ],
   "metadata": {
    "collapsed": false
   },
   "outputs": [],
   "execution_count": null
  },
  {
   "cell_type": "code",
   "source": [
    "# #Тест по размеру каждого шага\n",
    "# sizes ={}\n",
    "# for name, dataframe in result.groupby(['ID','Step_id']):\n",
    "#     sizeof = np.sum([os.path.getsize(i) for i in dataframe['Path']])\n",
    "#     sizes[name] = sizeof\n",
    "# pd.Series(sizes)"
   ],
   "metadata": {
    "collapsed": false
   },
   "outputs": [],
   "execution_count": null
  },
  {
   "cell_type": "code",
   "source": "",
   "metadata": {
    "collapsed": false
   },
   "outputs": [],
   "execution_count": null
  },
  {
   "cell_type": "code",
   "source": [
    "result_path = r'D:\\!Science\\Физтех\\Циклирования\\Результаты\\File_statistics.csv'\n",
    "# bp.exporting.save_experiment(result, result_path)\n",
    "result = bp.exporting.load_experiment(result_path)\n",
    "result.sort_values(['Datetime_id', 'Path'], inplace=True)"
   ],
   "metadata": {
    "collapsed": false,
    "ExecuteTime": {
     "end_time": "2024-06-25T12:27:52.277355Z",
     "start_time": "2024-06-25T12:27:52.220761Z"
    }
   },
   "outputs": [],
   "execution_count": 3
  },
  {
   "cell_type": "code",
   "source": [
    "def create_statistics(result_slice:pd.DataFrame, statistic_pattern):\n",
    "    data = [bp.import_xls(filename, data_name_pattern='record', temp_name_pattern='auxTemp', temp_column_pattern='T1') for filename in result_slice['Path']]\n",
    "    dataset = pd.concat(data,ignore_index=True)\n",
    "    bp.rename_columns(dataset, {'Power(W)':'P'})\n",
    "    bp.parse_time(dataset, time_column='Time', datetime_column='Datetime')\n",
    "    bp.parse_time(dataset, time_column='Total Time')\n",
    "    x = dataset['Total Time'].diff()\n",
    "    cracks = x[x < 0]\n",
    "    for idx, value in cracks.items():\n",
    "        break_time = dataset['Datetime'][idx]-dataset['Datetime'][idx-1]\n",
    "        dataset['Total Time'].loc[idx:] += break_time.total_seconds() + dataset['Total Time'][idx-1]\n",
    "\n",
    "\n",
    "    statistics = bp.generate_statistics(dataset, group_marker=[(dataset['Time'] < dataset['Time'].shift()).cumsum(), (dataset['Step Type'] != dataset['Step Type'].shift()).cumsum()], statistics_pattern=statistic_pattern)\n",
    "    statistics['Net Q'] = np.sign(statistics['I_mean'])*statistics['Q_max']\n",
    "    statistics['Net Energy'] = np.sign(statistics['I_mean'])*statistics['Energy_max']\n",
    "    bp.rename_columns(statistics, {'Step Type_unique_values':'Step Type'})\n",
    "    statistics['Step Type'] = statistics['Step Type'].str.lower()\n",
    "\n",
    "    return statistics, dataset\n",
    "\n",
    "def check_time_consequence(df, column='Total Time_min'):\n",
    "    if np.where(statistics[column] < statistics[column].shift(), )[0].size >0:\n",
    "        raise ValueError('Not consistent data!')"
   ],
   "metadata": {
    "collapsed": false,
    "ExecuteTime": {
     "end_time": "2024-06-25T12:27:53.176410Z",
     "start_time": "2024-06-25T12:27:53.167163Z"
    }
   },
   "outputs": [],
   "execution_count": 4
  },
  {
   "cell_type": "code",
   "source": "slices = [i for i in result.groupby(['ID', 'Step_id'])]\n",
   "metadata": {
    "collapsed": false,
    "ExecuteTime": {
     "end_time": "2024-06-25T12:27:54.108319Z",
     "start_time": "2024-06-25T12:27:54.091527Z"
    }
   },
   "outputs": [],
   "execution_count": 5
  },
  {
   "cell_type": "code",
   "source": [
    "statistic_pattern = {'Step Type':'unique_values',\n",
    "                     'I':['mean', 'std'],\n",
    "                     'Time':['range', 'diff'],\n",
    "                     'Q':['max'],\n",
    "                     'E':['first', 'last','mean'],\n",
    "                     'T':['mean', 'min', 'max'],\n",
    "                     'Datetime':['min', 'max'],\n",
    "                     'Total Time':'min',\n",
    "                     'Energy':'max',\n",
    "                     'P':['mean', 'last']}"
   ],
   "metadata": {
    "collapsed": false,
    "ExecuteTime": {
     "end_time": "2024-06-25T12:27:54.879952Z",
     "start_time": "2024-06-25T12:27:54.875632Z"
    }
   },
   "outputs": [],
   "execution_count": 6
  },
  {
   "cell_type": "code",
   "source": [
    "rewrite =False\n",
    "for slice in slices:\n",
    "    pouch, step = slice[0]\n",
    "    print(pouch, step)\n",
    "    \n",
    "    save_path = fr'D:\\!Science\\Физтех\\Циклирования\\Результаты\\Статистика\\{step}\\{pouch}.csv'\n",
    "    save_data_path = fr'D:\\!Science\\Физтех\\Циклирования\\Результаты\\Данные\\{step}\\{pouch}.csv'\n",
    "    if (os.path.exists(save_path) and os.path.exists(save_data_path)) and not rewrite:\n",
    "        continue\n",
    "    statistics, data = create_statistics(slice[1], statistic_pattern)\n",
    "    check_time_consequence(statistics,)\n",
    "    bp.exporting.save_experiment(statistics, save_path)\n",
    "    bp.exporting.save_experiment(data, save_data_path)"
   ],
   "metadata": {
    "collapsed": false,
    "ExecuteTime": {
     "end_time": "2024-06-25T12:23:08.052833Z",
     "start_time": "2024-06-25T11:14:40.456071Z"
    }
   },
   "outputs": [
    {
     "name": "stdout",
     "output_type": "stream",
     "text": [
      "LFP1 1\n",
      "LFP1 2\n",
      "LFP1 3\n",
      "LFP1 4\n",
      "LFP1 5\n",
      "LFP1 6\n",
      "LFP2 1\n",
      "LFP2 2\n",
      "LFP2 3\n",
      "LFP2 4\n",
      "LFP2 5\n",
      "LFP2 6\n",
      "LFP3 1\n",
      "LFP3 2\n",
      "LFP3 3\n",
      "LFP3 4\n",
      "LFP3 5\n",
      "LFP3 6\n",
      "LFP4 1\n",
      "LFP4 2\n",
      "LFP4 3\n",
      "LFP4 4\n",
      "LFP4 5\n",
      "LFP4 6\n",
      "LFP5 1\n",
      "LFP5 2\n",
      "LFP5 3\n",
      "LFP5 4\n",
      "LFP5 5\n",
      "LFP5 6\n",
      "LFP6 1\n",
      "LFP6 2\n",
      "LFP6 3\n",
      "LFP6 4\n",
      "LFP6 5\n",
      "LFP7 1\n",
      "LFP7 2\n",
      "LFP7 3\n",
      "LFP7 4\n",
      "LFP7 5\n",
      "LFP8 1\n",
      "LFP8 2\n",
      "LFP8 3\n",
      "LFP8 4\n",
      "LFP8 5\n",
      "LFP8 6\n",
      "LTO11 1\n",
      "LTO11 2\n",
      "LTO11 3\n",
      "LTO11 4\n",
      "LTO11 5\n"
     ]
    },
    {
     "name": "stderr",
     "output_type": "stream",
     "text": [
      "D:\\Python\\Projects\\Battery_Parser\\venv\\Lib\\site-packages\\openpyxl\\styles\\stylesheet.py:226: UserWarning: Workbook contains no default style, apply openpyxl's default\n",
      "  warn(\"Workbook contains no default style, apply openpyxl's default\")\n",
      "D:\\Python\\Projects\\Battery_Parser\\venv\\Lib\\site-packages\\openpyxl\\styles\\stylesheet.py:226: UserWarning: Workbook contains no default style, apply openpyxl's default\n",
      "  warn(\"Workbook contains no default style, apply openpyxl's default\")\n"
     ]
    },
    {
     "name": "stdout",
     "output_type": "stream",
     "text": [
      "LTO11 6\n"
     ]
    },
    {
     "name": "stderr",
     "output_type": "stream",
     "text": [
      "D:\\Python\\Projects\\Battery_Parser\\venv\\Lib\\site-packages\\openpyxl\\styles\\stylesheet.py:226: UserWarning: Workbook contains no default style, apply openpyxl's default\n",
      "  warn(\"Workbook contains no default style, apply openpyxl's default\")\n"
     ]
    },
    {
     "name": "stdout",
     "output_type": "stream",
     "text": [
      "LTO12 1\n",
      "LTO12 2\n",
      "LTO12 3\n",
      "LTO12 4\n",
      "LTO12 5\n"
     ]
    },
    {
     "name": "stderr",
     "output_type": "stream",
     "text": [
      "D:\\Python\\Projects\\Battery_Parser\\venv\\Lib\\site-packages\\openpyxl\\styles\\stylesheet.py:226: UserWarning: Workbook contains no default style, apply openpyxl's default\n",
      "  warn(\"Workbook contains no default style, apply openpyxl's default\")\n",
      "D:\\Python\\Projects\\Battery_Parser\\venv\\Lib\\site-packages\\openpyxl\\styles\\stylesheet.py:226: UserWarning: Workbook contains no default style, apply openpyxl's default\n",
      "  warn(\"Workbook contains no default style, apply openpyxl's default\")\n"
     ]
    },
    {
     "name": "stdout",
     "output_type": "stream",
     "text": [
      "LTO12 6\n"
     ]
    },
    {
     "name": "stderr",
     "output_type": "stream",
     "text": [
      "D:\\Python\\Projects\\Battery_Parser\\venv\\Lib\\site-packages\\openpyxl\\styles\\stylesheet.py:226: UserWarning: Workbook contains no default style, apply openpyxl's default\n",
      "  warn(\"Workbook contains no default style, apply openpyxl's default\")\n"
     ]
    },
    {
     "name": "stdout",
     "output_type": "stream",
     "text": [
      "LTO13 1\n",
      "LTO13 2\n",
      "LTO13 3\n",
      "LTO13 4\n",
      "LTO13 5\n"
     ]
    },
    {
     "name": "stderr",
     "output_type": "stream",
     "text": [
      "D:\\Python\\Projects\\Battery_Parser\\venv\\Lib\\site-packages\\openpyxl\\styles\\stylesheet.py:226: UserWarning: Workbook contains no default style, apply openpyxl's default\n",
      "  warn(\"Workbook contains no default style, apply openpyxl's default\")\n",
      "D:\\Python\\Projects\\Battery_Parser\\venv\\Lib\\site-packages\\openpyxl\\styles\\stylesheet.py:226: UserWarning: Workbook contains no default style, apply openpyxl's default\n",
      "  warn(\"Workbook contains no default style, apply openpyxl's default\")\n"
     ]
    },
    {
     "name": "stdout",
     "output_type": "stream",
     "text": [
      "LTO3 1\n",
      "LTO3 2\n",
      "LTO3 3\n",
      "LTO3 4\n",
      "LTO3 5\n"
     ]
    },
    {
     "name": "stderr",
     "output_type": "stream",
     "text": [
      "D:\\Python\\Projects\\Battery_Parser\\venv\\Lib\\site-packages\\openpyxl\\styles\\stylesheet.py:226: UserWarning: Workbook contains no default style, apply openpyxl's default\n",
      "  warn(\"Workbook contains no default style, apply openpyxl's default\")\n",
      "D:\\Python\\Projects\\Battery_Parser\\venv\\Lib\\site-packages\\openpyxl\\styles\\stylesheet.py:226: UserWarning: Workbook contains no default style, apply openpyxl's default\n",
      "  warn(\"Workbook contains no default style, apply openpyxl's default\")\n"
     ]
    },
    {
     "name": "stdout",
     "output_type": "stream",
     "text": [
      "LTO4 1\n",
      "LTO4 2\n",
      "LTO4 3\n",
      "LTO4 4\n",
      "LTO4 5\n"
     ]
    },
    {
     "name": "stderr",
     "output_type": "stream",
     "text": [
      "D:\\Python\\Projects\\Battery_Parser\\venv\\Lib\\site-packages\\openpyxl\\styles\\stylesheet.py:226: UserWarning: Workbook contains no default style, apply openpyxl's default\n",
      "  warn(\"Workbook contains no default style, apply openpyxl's default\")\n"
     ]
    },
    {
     "name": "stdout",
     "output_type": "stream",
     "text": [
      "LTO4 6\n"
     ]
    },
    {
     "name": "stderr",
     "output_type": "stream",
     "text": [
      "D:\\Python\\Projects\\Battery_Parser\\venv\\Lib\\site-packages\\openpyxl\\styles\\stylesheet.py:226: UserWarning: Workbook contains no default style, apply openpyxl's default\n",
      "  warn(\"Workbook contains no default style, apply openpyxl's default\")\n"
     ]
    },
    {
     "name": "stdout",
     "output_type": "stream",
     "text": [
      "LTO5 1\n",
      "LTO5 2\n",
      "LTO5 3\n",
      "LTO5 4\n",
      "LTO5 5\n"
     ]
    },
    {
     "name": "stderr",
     "output_type": "stream",
     "text": [
      "D:\\Python\\Projects\\Battery_Parser\\venv\\Lib\\site-packages\\openpyxl\\styles\\stylesheet.py:226: UserWarning: Workbook contains no default style, apply openpyxl's default\n",
      "  warn(\"Workbook contains no default style, apply openpyxl's default\")\n"
     ]
    },
    {
     "name": "stdout",
     "output_type": "stream",
     "text": [
      "LTO5 6\n"
     ]
    },
    {
     "name": "stderr",
     "output_type": "stream",
     "text": [
      "D:\\Python\\Projects\\Battery_Parser\\venv\\Lib\\site-packages\\openpyxl\\styles\\stylesheet.py:226: UserWarning: Workbook contains no default style, apply openpyxl's default\n",
      "  warn(\"Workbook contains no default style, apply openpyxl's default\")\n"
     ]
    },
    {
     "name": "stdout",
     "output_type": "stream",
     "text": [
      "LTO6 1\n",
      "LTO6 2\n",
      "LTO6 3\n",
      "LTO6 4\n",
      "LTO6 5\n"
     ]
    },
    {
     "name": "stderr",
     "output_type": "stream",
     "text": [
      "D:\\Python\\Projects\\Battery_Parser\\venv\\Lib\\site-packages\\openpyxl\\styles\\stylesheet.py:226: UserWarning: Workbook contains no default style, apply openpyxl's default\n",
      "  warn(\"Workbook contains no default style, apply openpyxl's default\")\n"
     ]
    },
    {
     "name": "stdout",
     "output_type": "stream",
     "text": [
      "LTO6 6\n"
     ]
    },
    {
     "name": "stderr",
     "output_type": "stream",
     "text": [
      "D:\\Python\\Projects\\Battery_Parser\\venv\\Lib\\site-packages\\openpyxl\\styles\\stylesheet.py:226: UserWarning: Workbook contains no default style, apply openpyxl's default\n",
      "  warn(\"Workbook contains no default style, apply openpyxl's default\")\n"
     ]
    },
    {
     "name": "stdout",
     "output_type": "stream",
     "text": [
      "LTO7 1\n",
      "LTO7 2\n",
      "LTO7 3\n",
      "LTO7 4\n",
      "LTO7 5\n"
     ]
    },
    {
     "name": "stderr",
     "output_type": "stream",
     "text": [
      "D:\\Python\\Projects\\Battery_Parser\\venv\\Lib\\site-packages\\openpyxl\\styles\\stylesheet.py:226: UserWarning: Workbook contains no default style, apply openpyxl's default\n",
      "  warn(\"Workbook contains no default style, apply openpyxl's default\")\n"
     ]
    },
    {
     "name": "stdout",
     "output_type": "stream",
     "text": [
      "LTO7 6\n"
     ]
    },
    {
     "name": "stderr",
     "output_type": "stream",
     "text": [
      "D:\\Python\\Projects\\Battery_Parser\\venv\\Lib\\site-packages\\openpyxl\\styles\\stylesheet.py:226: UserWarning: Workbook contains no default style, apply openpyxl's default\n",
      "  warn(\"Workbook contains no default style, apply openpyxl's default\")\n"
     ]
    },
    {
     "name": "stdout",
     "output_type": "stream",
     "text": [
      "NMC10 1\n",
      "NMC10 2\n",
      "NMC10 3\n",
      "NMC10 4\n",
      "NMC10 5\n"
     ]
    },
    {
     "name": "stderr",
     "output_type": "stream",
     "text": [
      "D:\\Python\\Projects\\Battery_Parser\\venv\\Lib\\site-packages\\openpyxl\\styles\\stylesheet.py:226: UserWarning: Workbook contains no default style, apply openpyxl's default\n",
      "  warn(\"Workbook contains no default style, apply openpyxl's default\")\n"
     ]
    },
    {
     "name": "stdout",
     "output_type": "stream",
     "text": [
      "NMC10 6\n"
     ]
    },
    {
     "name": "stderr",
     "output_type": "stream",
     "text": [
      "D:\\Python\\Projects\\Battery_Parser\\venv\\Lib\\site-packages\\openpyxl\\styles\\stylesheet.py:226: UserWarning: Workbook contains no default style, apply openpyxl's default\n",
      "  warn(\"Workbook contains no default style, apply openpyxl's default\")\n"
     ]
    },
    {
     "name": "stdout",
     "output_type": "stream",
     "text": [
      "NMC11 1\n",
      "NMC11 2\n",
      "NMC11 3\n",
      "NMC11 4\n",
      "NMC11 5\n"
     ]
    },
    {
     "name": "stderr",
     "output_type": "stream",
     "text": [
      "D:\\Python\\Projects\\Battery_Parser\\venv\\Lib\\site-packages\\openpyxl\\styles\\stylesheet.py:226: UserWarning: Workbook contains no default style, apply openpyxl's default\n",
      "  warn(\"Workbook contains no default style, apply openpyxl's default\")\n"
     ]
    },
    {
     "name": "stdout",
     "output_type": "stream",
     "text": [
      "NMC11 6\n"
     ]
    },
    {
     "name": "stderr",
     "output_type": "stream",
     "text": [
      "D:\\Python\\Projects\\Battery_Parser\\venv\\Lib\\site-packages\\openpyxl\\styles\\stylesheet.py:226: UserWarning: Workbook contains no default style, apply openpyxl's default\n",
      "  warn(\"Workbook contains no default style, apply openpyxl's default\")\n"
     ]
    },
    {
     "name": "stdout",
     "output_type": "stream",
     "text": [
      "NMC12 1\n",
      "NMC12 2\n",
      "NMC12 3\n",
      "NMC12 4\n",
      "NMC12 5\n"
     ]
    },
    {
     "name": "stderr",
     "output_type": "stream",
     "text": [
      "D:\\Python\\Projects\\Battery_Parser\\venv\\Lib\\site-packages\\openpyxl\\styles\\stylesheet.py:226: UserWarning: Workbook contains no default style, apply openpyxl's default\n",
      "  warn(\"Workbook contains no default style, apply openpyxl's default\")\n",
      "D:\\Python\\Projects\\Battery_Parser\\venv\\Lib\\site-packages\\openpyxl\\styles\\stylesheet.py:226: UserWarning: Workbook contains no default style, apply openpyxl's default\n",
      "  warn(\"Workbook contains no default style, apply openpyxl's default\")\n"
     ]
    },
    {
     "name": "stdout",
     "output_type": "stream",
     "text": [
      "NMC13 1\n",
      "NMC13 2\n",
      "NMC13 3\n",
      "NMC13 4\n",
      "NMC13 5\n"
     ]
    },
    {
     "name": "stderr",
     "output_type": "stream",
     "text": [
      "D:\\Python\\Projects\\Battery_Parser\\venv\\Lib\\site-packages\\openpyxl\\styles\\stylesheet.py:226: UserWarning: Workbook contains no default style, apply openpyxl's default\n",
      "  warn(\"Workbook contains no default style, apply openpyxl's default\")\n",
      "D:\\Python\\Projects\\Battery_Parser\\venv\\Lib\\site-packages\\openpyxl\\styles\\stylesheet.py:226: UserWarning: Workbook contains no default style, apply openpyxl's default\n",
      "  warn(\"Workbook contains no default style, apply openpyxl's default\")\n"
     ]
    },
    {
     "name": "stdout",
     "output_type": "stream",
     "text": [
      "NMC14 1\n",
      "NMC14 2\n",
      "NMC14 3\n",
      "NMC14 4\n",
      "NMC14 5\n"
     ]
    },
    {
     "name": "stderr",
     "output_type": "stream",
     "text": [
      "D:\\Python\\Projects\\Battery_Parser\\venv\\Lib\\site-packages\\openpyxl\\styles\\stylesheet.py:226: UserWarning: Workbook contains no default style, apply openpyxl's default\n",
      "  warn(\"Workbook contains no default style, apply openpyxl's default\")\n"
     ]
    },
    {
     "name": "stdout",
     "output_type": "stream",
     "text": [
      "NMC14 6\n"
     ]
    },
    {
     "name": "stderr",
     "output_type": "stream",
     "text": [
      "D:\\Python\\Projects\\Battery_Parser\\venv\\Lib\\site-packages\\openpyxl\\styles\\stylesheet.py:226: UserWarning: Workbook contains no default style, apply openpyxl's default\n",
      "  warn(\"Workbook contains no default style, apply openpyxl's default\")\n"
     ]
    },
    {
     "name": "stdout",
     "output_type": "stream",
     "text": [
      "NMC15 1\n",
      "NMC15 2\n",
      "NMC15 3\n",
      "NMC15 4\n",
      "NMC15 5\n"
     ]
    },
    {
     "name": "stderr",
     "output_type": "stream",
     "text": [
      "D:\\Python\\Projects\\Battery_Parser\\venv\\Lib\\site-packages\\openpyxl\\styles\\stylesheet.py:226: UserWarning: Workbook contains no default style, apply openpyxl's default\n",
      "  warn(\"Workbook contains no default style, apply openpyxl's default\")\n"
     ]
    },
    {
     "name": "stdout",
     "output_type": "stream",
     "text": [
      "NMC15 6\n"
     ]
    },
    {
     "name": "stderr",
     "output_type": "stream",
     "text": [
      "D:\\Python\\Projects\\Battery_Parser\\venv\\Lib\\site-packages\\openpyxl\\styles\\stylesheet.py:226: UserWarning: Workbook contains no default style, apply openpyxl's default\n",
      "  warn(\"Workbook contains no default style, apply openpyxl's default\")\n"
     ]
    },
    {
     "name": "stdout",
     "output_type": "stream",
     "text": [
      "NMC6 1\n",
      "NMC6 2\n",
      "NMC6 3\n",
      "NMC6 4\n",
      "NMC6 5\n"
     ]
    },
    {
     "name": "stderr",
     "output_type": "stream",
     "text": [
      "D:\\Python\\Projects\\Battery_Parser\\venv\\Lib\\site-packages\\openpyxl\\styles\\stylesheet.py:226: UserWarning: Workbook contains no default style, apply openpyxl's default\n",
      "  warn(\"Workbook contains no default style, apply openpyxl's default\")\n",
      "D:\\Python\\Projects\\Battery_Parser\\venv\\Lib\\site-packages\\openpyxl\\styles\\stylesheet.py:226: UserWarning: Workbook contains no default style, apply openpyxl's default\n",
      "  warn(\"Workbook contains no default style, apply openpyxl's default\")\n"
     ]
    },
    {
     "name": "stdout",
     "output_type": "stream",
     "text": [
      "NMC6 6\n"
     ]
    },
    {
     "name": "stderr",
     "output_type": "stream",
     "text": [
      "D:\\Python\\Projects\\Battery_Parser\\venv\\Lib\\site-packages\\openpyxl\\styles\\stylesheet.py:226: UserWarning: Workbook contains no default style, apply openpyxl's default\n",
      "  warn(\"Workbook contains no default style, apply openpyxl's default\")\n"
     ]
    },
    {
     "name": "stdout",
     "output_type": "stream",
     "text": [
      "NMC7 1\n",
      "NMC7 2\n",
      "NMC7 3\n",
      "NMC7 4\n",
      "NMC7 5\n"
     ]
    },
    {
     "name": "stderr",
     "output_type": "stream",
     "text": [
      "D:\\Python\\Projects\\Battery_Parser\\venv\\Lib\\site-packages\\openpyxl\\styles\\stylesheet.py:226: UserWarning: Workbook contains no default style, apply openpyxl's default\n",
      "  warn(\"Workbook contains no default style, apply openpyxl's default\")\n",
      "D:\\Python\\Projects\\Battery_Parser\\venv\\Lib\\site-packages\\openpyxl\\styles\\stylesheet.py:226: UserWarning: Workbook contains no default style, apply openpyxl's default\n",
      "  warn(\"Workbook contains no default style, apply openpyxl's default\")\n"
     ]
    },
    {
     "name": "stdout",
     "output_type": "stream",
     "text": [
      "NMC7 6\n"
     ]
    },
    {
     "name": "stderr",
     "output_type": "stream",
     "text": [
      "D:\\Python\\Projects\\Battery_Parser\\venv\\Lib\\site-packages\\openpyxl\\styles\\stylesheet.py:226: UserWarning: Workbook contains no default style, apply openpyxl's default\n",
      "  warn(\"Workbook contains no default style, apply openpyxl's default\")\n"
     ]
    }
   ],
   "execution_count": 6
  },
  {
   "metadata": {
    "ExecuteTime": {
     "end_time": "2024-06-25T10:50:28.730510Z",
     "start_time": "2024-06-25T10:50:28.703237Z"
    }
   },
   "cell_type": "code",
   "source": [
    "# where = np.where(statistics['Total Time_min']< statistics['Total Time_min'].shift())[0][0]\n",
    "# statistics.iloc[where-10:where+10]"
   ],
   "outputs": [
    {
     "data": {
      "text/plain": [
       "      Step Type     I_mean      I_std  Time_range  Time_diff    Q_max  \\\n",
       "43021   cp dchg -21.537354   0.017681        12.0   1.000000   0.0718   \n",
       "43022    cp chg  10.690867   0.037480         8.0   1.000000   0.0237   \n",
       "43023      rest   0.000000   0.000000        16.0   1.000000   0.0000   \n",
       "43024   cp dchg -10.719164   0.006042        24.0   1.000000   0.0715   \n",
       "43025   cp dchg -21.547485   0.016186        12.0   1.000000   0.0718   \n",
       "43026    cp chg  10.696756   0.036942         8.0   1.000000   0.0237   \n",
       "43027      rest   0.000000   0.000000        16.0   1.000000   0.0000   \n",
       "43028   cp dchg -10.724441   0.005286        36.0   1.000000   0.1072   \n",
       "43029   cp dchg -87.698289   0.638202         8.0   1.000000   0.1952   \n",
       "43030   cp dchg -54.736708   0.083290        24.0   1.000000   0.3648   \n",
       "43031   cc dchg -44.988500   0.010041         5.0   5.000000   0.0675   \n",
       "43032      rest   0.000000   0.000000       900.0  10.000000   0.0000   \n",
       "43033  cccv chg  33.250096  18.697692      5007.0   9.994012  46.2994   \n",
       "43034      rest   0.000000   0.000000        16.0   1.000000   0.0000   \n",
       "43035   cp dchg  -9.876503   0.106077        28.0   1.000000   0.0768   \n",
       "43036   cp dchg -20.280223   0.105031        12.0   1.000000   0.0676   \n",
       "43037    cp chg  10.116789   0.042781         8.0   1.000000   0.0225   \n",
       "43038      rest   0.000000   0.000000        16.0   1.000000   0.0000   \n",
       "43039   cp dchg -10.182524   0.038439        24.0   1.000000   0.0679   \n",
       "43040   cp dchg -20.648138   0.062742        12.0   1.000000   0.0688   \n",
       "\n",
       "       E_first  E_last    E_mean     T_mean T_min T_max        Datetime_min  \\\n",
       "43021   3.2569  3.2440  3.246869       59.9  59.9  59.9 2024-06-24 10:19:41   \n",
       "43022   3.2440  3.2741  3.268322       59.9  59.9  59.9 2024-06-24 10:19:53   \n",
       "43023   3.2673  3.2682  3.267412       59.9  59.9  59.9 2024-06-24 10:20:01   \n",
       "43024   3.2682  3.2557  3.257884     59.884  59.7  60.1 2024-06-24 10:20:17   \n",
       "43025   3.2557  3.2428  3.245700  59.853846  59.7  59.9 2024-06-24 10:20:41   \n",
       "43026   3.2428  3.2732  3.267256  59.877778  59.7  59.9 2024-06-24 10:20:53   \n",
       "43027   3.2661  3.2672  3.266394  59.888235  59.7  59.9 2024-06-24 10:21:01   \n",
       "43028   3.2672  3.2536  3.255935  59.889189  59.7  59.9 2024-06-24 10:21:17   \n",
       "43029   3.2536  3.1771  3.192878  59.877778  59.7  59.9 2024-06-24 10:21:53   \n",
       "43030   3.1770  3.1933  3.195992       59.9  59.9  59.9 2024-06-24 10:22:01   \n",
       "43031   2.5943  2.4993  2.546800       57.0  57.0  57.0 2024-05-27 10:48:57   \n",
       "43032   2.5226  2.5684  2.560700  57.376923  57.0  57.8 2024-05-27 10:49:02   \n",
       "43033   2.5828  3.6503  3.435585   62.47988  57.2  65.8 2024-05-27 11:04:02   \n",
       "43034   3.6497  3.6328  3.640600  62.905882  62.8  63.1 2024-05-27 12:27:29   \n",
       "43035   3.6328  3.4864  3.538310  62.906897  62.7  63.1 2024-05-27 12:27:45   \n",
       "43036   3.4862  3.4247  3.450154  62.823077  62.7  62.9 2024-05-27 12:28:13   \n",
       "43037   3.4245  3.4662  3.453478  62.788889  62.7  62.9 2024-05-27 12:28:25   \n",
       "43038   3.4604  3.4599  3.459735  62.823529  62.7  62.9 2024-05-27 12:28:33   \n",
       "43039   3.4599  3.4096  3.429604     62.732  62.5  62.8 2024-05-27 12:28:49   \n",
       "43040   3.4095  3.3727  3.387392  62.684615  62.5  62.7 2024-05-27 12:29:13   \n",
       "\n",
       "             Datetime_max  Total Time_min  Energy_max      P_mean    P_last  \\\n",
       "43021 2024-06-24 10:19:52       2416608.0      0.2331  -69.928877  -69.9017   \n",
       "43022 2024-06-24 10:20:00       2416620.0      0.0776   34.940922   34.9325   \n",
       "43023 2024-06-24 10:20:16       2416628.0      0.0000    0.000000    0.0000   \n",
       "43024 2024-06-24 10:20:40       2416644.0      0.2328  -34.921780  -34.9236   \n",
       "43025 2024-06-24 10:20:52       2416668.0      0.2331  -69.936654  -69.9116   \n",
       "43026 2024-06-24 10:21:00       2416680.0      0.0776   34.948722   34.9276   \n",
       "43027 2024-06-24 10:21:16       2416688.0      0.0000    0.000000    0.0000   \n",
       "43028 2024-06-24 10:21:52       2416704.0      0.3492  -34.918059  -34.9065   \n",
       "43029 2024-06-24 10:22:00       2416740.0      0.6222 -279.996544 -279.9960   \n",
       "43030 2024-06-24 10:22:24       2416748.0      1.1662 -174.937728 -174.9252   \n",
       "43031 2024-05-27 10:49:02          -835.0      0.1721 -114.577100 -112.4221   \n",
       "43032 2024-05-27 11:04:02          -830.0      0.0000    0.000000    0.0000   \n",
       "43033 2024-05-27 12:27:29            70.0    155.6089  111.714175    3.6489   \n",
       "43034 2024-05-27 12:27:45          5077.0      0.0000    0.000000    0.0000   \n",
       "43035 2024-05-27 12:28:13          5093.0      0.2717  -34.942076  -34.9162   \n",
       "43036 2024-05-27 12:28:25          5121.0      0.2332  -69.968100  -69.9249   \n",
       "43037 2024-05-27 12:28:33          5133.0      0.0777   34.937633   34.9292   \n",
       "43038 2024-05-27 12:28:49          5141.0      0.0000    0.000000    0.0000   \n",
       "43039 2024-05-27 12:29:13          5157.0      0.2328  -34.921524  -34.9091   \n",
       "43040 2024-05-27 12:29:25          5181.0      0.2331  -69.942731  -69.9992   \n",
       "\n",
       "         Net Q  Net Energy  \n",
       "43021  -0.0718     -0.2331  \n",
       "43022   0.0237      0.0776  \n",
       "43023   0.0000      0.0000  \n",
       "43024  -0.0715     -0.2328  \n",
       "43025  -0.0718     -0.2331  \n",
       "43026   0.0237      0.0776  \n",
       "43027   0.0000      0.0000  \n",
       "43028  -0.1072     -0.3492  \n",
       "43029  -0.1952     -0.6222  \n",
       "43030  -0.3648     -1.1662  \n",
       "43031  -0.0675     -0.1721  \n",
       "43032   0.0000      0.0000  \n",
       "43033  46.2994    155.6089  \n",
       "43034   0.0000      0.0000  \n",
       "43035  -0.0768     -0.2717  \n",
       "43036  -0.0676     -0.2332  \n",
       "43037   0.0225      0.0777  \n",
       "43038   0.0000      0.0000  \n",
       "43039  -0.0679     -0.2328  \n",
       "43040  -0.0688     -0.2331  "
      ],
      "text/html": [
       "<div>\n",
       "<style scoped>\n",
       "    .dataframe tbody tr th:only-of-type {\n",
       "        vertical-align: middle;\n",
       "    }\n",
       "\n",
       "    .dataframe tbody tr th {\n",
       "        vertical-align: top;\n",
       "    }\n",
       "\n",
       "    .dataframe thead th {\n",
       "        text-align: right;\n",
       "    }\n",
       "</style>\n",
       "<table border=\"1\" class=\"dataframe\">\n",
       "  <thead>\n",
       "    <tr style=\"text-align: right;\">\n",
       "      <th></th>\n",
       "      <th>Step Type</th>\n",
       "      <th>I_mean</th>\n",
       "      <th>I_std</th>\n",
       "      <th>Time_range</th>\n",
       "      <th>Time_diff</th>\n",
       "      <th>Q_max</th>\n",
       "      <th>E_first</th>\n",
       "      <th>E_last</th>\n",
       "      <th>E_mean</th>\n",
       "      <th>T_mean</th>\n",
       "      <th>T_min</th>\n",
       "      <th>T_max</th>\n",
       "      <th>Datetime_min</th>\n",
       "      <th>Datetime_max</th>\n",
       "      <th>Total Time_min</th>\n",
       "      <th>Energy_max</th>\n",
       "      <th>P_mean</th>\n",
       "      <th>P_last</th>\n",
       "      <th>Net Q</th>\n",
       "      <th>Net Energy</th>\n",
       "    </tr>\n",
       "  </thead>\n",
       "  <tbody>\n",
       "    <tr>\n",
       "      <th>43021</th>\n",
       "      <td>cp dchg</td>\n",
       "      <td>-21.537354</td>\n",
       "      <td>0.017681</td>\n",
       "      <td>12.0</td>\n",
       "      <td>1.000000</td>\n",
       "      <td>0.0718</td>\n",
       "      <td>3.2569</td>\n",
       "      <td>3.2440</td>\n",
       "      <td>3.246869</td>\n",
       "      <td>59.9</td>\n",
       "      <td>59.9</td>\n",
       "      <td>59.9</td>\n",
       "      <td>2024-06-24 10:19:41</td>\n",
       "      <td>2024-06-24 10:19:52</td>\n",
       "      <td>2416608.0</td>\n",
       "      <td>0.2331</td>\n",
       "      <td>-69.928877</td>\n",
       "      <td>-69.9017</td>\n",
       "      <td>-0.0718</td>\n",
       "      <td>-0.2331</td>\n",
       "    </tr>\n",
       "    <tr>\n",
       "      <th>43022</th>\n",
       "      <td>cp chg</td>\n",
       "      <td>10.690867</td>\n",
       "      <td>0.037480</td>\n",
       "      <td>8.0</td>\n",
       "      <td>1.000000</td>\n",
       "      <td>0.0237</td>\n",
       "      <td>3.2440</td>\n",
       "      <td>3.2741</td>\n",
       "      <td>3.268322</td>\n",
       "      <td>59.9</td>\n",
       "      <td>59.9</td>\n",
       "      <td>59.9</td>\n",
       "      <td>2024-06-24 10:19:53</td>\n",
       "      <td>2024-06-24 10:20:00</td>\n",
       "      <td>2416620.0</td>\n",
       "      <td>0.0776</td>\n",
       "      <td>34.940922</td>\n",
       "      <td>34.9325</td>\n",
       "      <td>0.0237</td>\n",
       "      <td>0.0776</td>\n",
       "    </tr>\n",
       "    <tr>\n",
       "      <th>43023</th>\n",
       "      <td>rest</td>\n",
       "      <td>0.000000</td>\n",
       "      <td>0.000000</td>\n",
       "      <td>16.0</td>\n",
       "      <td>1.000000</td>\n",
       "      <td>0.0000</td>\n",
       "      <td>3.2673</td>\n",
       "      <td>3.2682</td>\n",
       "      <td>3.267412</td>\n",
       "      <td>59.9</td>\n",
       "      <td>59.9</td>\n",
       "      <td>59.9</td>\n",
       "      <td>2024-06-24 10:20:01</td>\n",
       "      <td>2024-06-24 10:20:16</td>\n",
       "      <td>2416628.0</td>\n",
       "      <td>0.0000</td>\n",
       "      <td>0.000000</td>\n",
       "      <td>0.0000</td>\n",
       "      <td>0.0000</td>\n",
       "      <td>0.0000</td>\n",
       "    </tr>\n",
       "    <tr>\n",
       "      <th>43024</th>\n",
       "      <td>cp dchg</td>\n",
       "      <td>-10.719164</td>\n",
       "      <td>0.006042</td>\n",
       "      <td>24.0</td>\n",
       "      <td>1.000000</td>\n",
       "      <td>0.0715</td>\n",
       "      <td>3.2682</td>\n",
       "      <td>3.2557</td>\n",
       "      <td>3.257884</td>\n",
       "      <td>59.884</td>\n",
       "      <td>59.7</td>\n",
       "      <td>60.1</td>\n",
       "      <td>2024-06-24 10:20:17</td>\n",
       "      <td>2024-06-24 10:20:40</td>\n",
       "      <td>2416644.0</td>\n",
       "      <td>0.2328</td>\n",
       "      <td>-34.921780</td>\n",
       "      <td>-34.9236</td>\n",
       "      <td>-0.0715</td>\n",
       "      <td>-0.2328</td>\n",
       "    </tr>\n",
       "    <tr>\n",
       "      <th>43025</th>\n",
       "      <td>cp dchg</td>\n",
       "      <td>-21.547485</td>\n",
       "      <td>0.016186</td>\n",
       "      <td>12.0</td>\n",
       "      <td>1.000000</td>\n",
       "      <td>0.0718</td>\n",
       "      <td>3.2557</td>\n",
       "      <td>3.2428</td>\n",
       "      <td>3.245700</td>\n",
       "      <td>59.853846</td>\n",
       "      <td>59.7</td>\n",
       "      <td>59.9</td>\n",
       "      <td>2024-06-24 10:20:41</td>\n",
       "      <td>2024-06-24 10:20:52</td>\n",
       "      <td>2416668.0</td>\n",
       "      <td>0.2331</td>\n",
       "      <td>-69.936654</td>\n",
       "      <td>-69.9116</td>\n",
       "      <td>-0.0718</td>\n",
       "      <td>-0.2331</td>\n",
       "    </tr>\n",
       "    <tr>\n",
       "      <th>43026</th>\n",
       "      <td>cp chg</td>\n",
       "      <td>10.696756</td>\n",
       "      <td>0.036942</td>\n",
       "      <td>8.0</td>\n",
       "      <td>1.000000</td>\n",
       "      <td>0.0237</td>\n",
       "      <td>3.2428</td>\n",
       "      <td>3.2732</td>\n",
       "      <td>3.267256</td>\n",
       "      <td>59.877778</td>\n",
       "      <td>59.7</td>\n",
       "      <td>59.9</td>\n",
       "      <td>2024-06-24 10:20:53</td>\n",
       "      <td>2024-06-24 10:21:00</td>\n",
       "      <td>2416680.0</td>\n",
       "      <td>0.0776</td>\n",
       "      <td>34.948722</td>\n",
       "      <td>34.9276</td>\n",
       "      <td>0.0237</td>\n",
       "      <td>0.0776</td>\n",
       "    </tr>\n",
       "    <tr>\n",
       "      <th>43027</th>\n",
       "      <td>rest</td>\n",
       "      <td>0.000000</td>\n",
       "      <td>0.000000</td>\n",
       "      <td>16.0</td>\n",
       "      <td>1.000000</td>\n",
       "      <td>0.0000</td>\n",
       "      <td>3.2661</td>\n",
       "      <td>3.2672</td>\n",
       "      <td>3.266394</td>\n",
       "      <td>59.888235</td>\n",
       "      <td>59.7</td>\n",
       "      <td>59.9</td>\n",
       "      <td>2024-06-24 10:21:01</td>\n",
       "      <td>2024-06-24 10:21:16</td>\n",
       "      <td>2416688.0</td>\n",
       "      <td>0.0000</td>\n",
       "      <td>0.000000</td>\n",
       "      <td>0.0000</td>\n",
       "      <td>0.0000</td>\n",
       "      <td>0.0000</td>\n",
       "    </tr>\n",
       "    <tr>\n",
       "      <th>43028</th>\n",
       "      <td>cp dchg</td>\n",
       "      <td>-10.724441</td>\n",
       "      <td>0.005286</td>\n",
       "      <td>36.0</td>\n",
       "      <td>1.000000</td>\n",
       "      <td>0.1072</td>\n",
       "      <td>3.2672</td>\n",
       "      <td>3.2536</td>\n",
       "      <td>3.255935</td>\n",
       "      <td>59.889189</td>\n",
       "      <td>59.7</td>\n",
       "      <td>59.9</td>\n",
       "      <td>2024-06-24 10:21:17</td>\n",
       "      <td>2024-06-24 10:21:52</td>\n",
       "      <td>2416704.0</td>\n",
       "      <td>0.3492</td>\n",
       "      <td>-34.918059</td>\n",
       "      <td>-34.9065</td>\n",
       "      <td>-0.1072</td>\n",
       "      <td>-0.3492</td>\n",
       "    </tr>\n",
       "    <tr>\n",
       "      <th>43029</th>\n",
       "      <td>cp dchg</td>\n",
       "      <td>-87.698289</td>\n",
       "      <td>0.638202</td>\n",
       "      <td>8.0</td>\n",
       "      <td>1.000000</td>\n",
       "      <td>0.1952</td>\n",
       "      <td>3.2536</td>\n",
       "      <td>3.1771</td>\n",
       "      <td>3.192878</td>\n",
       "      <td>59.877778</td>\n",
       "      <td>59.7</td>\n",
       "      <td>59.9</td>\n",
       "      <td>2024-06-24 10:21:53</td>\n",
       "      <td>2024-06-24 10:22:00</td>\n",
       "      <td>2416740.0</td>\n",
       "      <td>0.6222</td>\n",
       "      <td>-279.996544</td>\n",
       "      <td>-279.9960</td>\n",
       "      <td>-0.1952</td>\n",
       "      <td>-0.6222</td>\n",
       "    </tr>\n",
       "    <tr>\n",
       "      <th>43030</th>\n",
       "      <td>cp dchg</td>\n",
       "      <td>-54.736708</td>\n",
       "      <td>0.083290</td>\n",
       "      <td>24.0</td>\n",
       "      <td>1.000000</td>\n",
       "      <td>0.3648</td>\n",
       "      <td>3.1770</td>\n",
       "      <td>3.1933</td>\n",
       "      <td>3.195992</td>\n",
       "      <td>59.9</td>\n",
       "      <td>59.9</td>\n",
       "      <td>59.9</td>\n",
       "      <td>2024-06-24 10:22:01</td>\n",
       "      <td>2024-06-24 10:22:24</td>\n",
       "      <td>2416748.0</td>\n",
       "      <td>1.1662</td>\n",
       "      <td>-174.937728</td>\n",
       "      <td>-174.9252</td>\n",
       "      <td>-0.3648</td>\n",
       "      <td>-1.1662</td>\n",
       "    </tr>\n",
       "    <tr>\n",
       "      <th>43031</th>\n",
       "      <td>cc dchg</td>\n",
       "      <td>-44.988500</td>\n",
       "      <td>0.010041</td>\n",
       "      <td>5.0</td>\n",
       "      <td>5.000000</td>\n",
       "      <td>0.0675</td>\n",
       "      <td>2.5943</td>\n",
       "      <td>2.4993</td>\n",
       "      <td>2.546800</td>\n",
       "      <td>57.0</td>\n",
       "      <td>57.0</td>\n",
       "      <td>57.0</td>\n",
       "      <td>2024-05-27 10:48:57</td>\n",
       "      <td>2024-05-27 10:49:02</td>\n",
       "      <td>-835.0</td>\n",
       "      <td>0.1721</td>\n",
       "      <td>-114.577100</td>\n",
       "      <td>-112.4221</td>\n",
       "      <td>-0.0675</td>\n",
       "      <td>-0.1721</td>\n",
       "    </tr>\n",
       "    <tr>\n",
       "      <th>43032</th>\n",
       "      <td>rest</td>\n",
       "      <td>0.000000</td>\n",
       "      <td>0.000000</td>\n",
       "      <td>900.0</td>\n",
       "      <td>10.000000</td>\n",
       "      <td>0.0000</td>\n",
       "      <td>2.5226</td>\n",
       "      <td>2.5684</td>\n",
       "      <td>2.560700</td>\n",
       "      <td>57.376923</td>\n",
       "      <td>57.0</td>\n",
       "      <td>57.8</td>\n",
       "      <td>2024-05-27 10:49:02</td>\n",
       "      <td>2024-05-27 11:04:02</td>\n",
       "      <td>-830.0</td>\n",
       "      <td>0.0000</td>\n",
       "      <td>0.000000</td>\n",
       "      <td>0.0000</td>\n",
       "      <td>0.0000</td>\n",
       "      <td>0.0000</td>\n",
       "    </tr>\n",
       "    <tr>\n",
       "      <th>43033</th>\n",
       "      <td>cccv chg</td>\n",
       "      <td>33.250096</td>\n",
       "      <td>18.697692</td>\n",
       "      <td>5007.0</td>\n",
       "      <td>9.994012</td>\n",
       "      <td>46.2994</td>\n",
       "      <td>2.5828</td>\n",
       "      <td>3.6503</td>\n",
       "      <td>3.435585</td>\n",
       "      <td>62.47988</td>\n",
       "      <td>57.2</td>\n",
       "      <td>65.8</td>\n",
       "      <td>2024-05-27 11:04:02</td>\n",
       "      <td>2024-05-27 12:27:29</td>\n",
       "      <td>70.0</td>\n",
       "      <td>155.6089</td>\n",
       "      <td>111.714175</td>\n",
       "      <td>3.6489</td>\n",
       "      <td>46.2994</td>\n",
       "      <td>155.6089</td>\n",
       "    </tr>\n",
       "    <tr>\n",
       "      <th>43034</th>\n",
       "      <td>rest</td>\n",
       "      <td>0.000000</td>\n",
       "      <td>0.000000</td>\n",
       "      <td>16.0</td>\n",
       "      <td>1.000000</td>\n",
       "      <td>0.0000</td>\n",
       "      <td>3.6497</td>\n",
       "      <td>3.6328</td>\n",
       "      <td>3.640600</td>\n",
       "      <td>62.905882</td>\n",
       "      <td>62.8</td>\n",
       "      <td>63.1</td>\n",
       "      <td>2024-05-27 12:27:29</td>\n",
       "      <td>2024-05-27 12:27:45</td>\n",
       "      <td>5077.0</td>\n",
       "      <td>0.0000</td>\n",
       "      <td>0.000000</td>\n",
       "      <td>0.0000</td>\n",
       "      <td>0.0000</td>\n",
       "      <td>0.0000</td>\n",
       "    </tr>\n",
       "    <tr>\n",
       "      <th>43035</th>\n",
       "      <td>cp dchg</td>\n",
       "      <td>-9.876503</td>\n",
       "      <td>0.106077</td>\n",
       "      <td>28.0</td>\n",
       "      <td>1.000000</td>\n",
       "      <td>0.0768</td>\n",
       "      <td>3.6328</td>\n",
       "      <td>3.4864</td>\n",
       "      <td>3.538310</td>\n",
       "      <td>62.906897</td>\n",
       "      <td>62.7</td>\n",
       "      <td>63.1</td>\n",
       "      <td>2024-05-27 12:27:45</td>\n",
       "      <td>2024-05-27 12:28:13</td>\n",
       "      <td>5093.0</td>\n",
       "      <td>0.2717</td>\n",
       "      <td>-34.942076</td>\n",
       "      <td>-34.9162</td>\n",
       "      <td>-0.0768</td>\n",
       "      <td>-0.2717</td>\n",
       "    </tr>\n",
       "    <tr>\n",
       "      <th>43036</th>\n",
       "      <td>cp dchg</td>\n",
       "      <td>-20.280223</td>\n",
       "      <td>0.105031</td>\n",
       "      <td>12.0</td>\n",
       "      <td>1.000000</td>\n",
       "      <td>0.0676</td>\n",
       "      <td>3.4862</td>\n",
       "      <td>3.4247</td>\n",
       "      <td>3.450154</td>\n",
       "      <td>62.823077</td>\n",
       "      <td>62.7</td>\n",
       "      <td>62.9</td>\n",
       "      <td>2024-05-27 12:28:13</td>\n",
       "      <td>2024-05-27 12:28:25</td>\n",
       "      <td>5121.0</td>\n",
       "      <td>0.2332</td>\n",
       "      <td>-69.968100</td>\n",
       "      <td>-69.9249</td>\n",
       "      <td>-0.0676</td>\n",
       "      <td>-0.2332</td>\n",
       "    </tr>\n",
       "    <tr>\n",
       "      <th>43037</th>\n",
       "      <td>cp chg</td>\n",
       "      <td>10.116789</td>\n",
       "      <td>0.042781</td>\n",
       "      <td>8.0</td>\n",
       "      <td>1.000000</td>\n",
       "      <td>0.0225</td>\n",
       "      <td>3.4245</td>\n",
       "      <td>3.4662</td>\n",
       "      <td>3.453478</td>\n",
       "      <td>62.788889</td>\n",
       "      <td>62.7</td>\n",
       "      <td>62.9</td>\n",
       "      <td>2024-05-27 12:28:25</td>\n",
       "      <td>2024-05-27 12:28:33</td>\n",
       "      <td>5133.0</td>\n",
       "      <td>0.0777</td>\n",
       "      <td>34.937633</td>\n",
       "      <td>34.9292</td>\n",
       "      <td>0.0225</td>\n",
       "      <td>0.0777</td>\n",
       "    </tr>\n",
       "    <tr>\n",
       "      <th>43038</th>\n",
       "      <td>rest</td>\n",
       "      <td>0.000000</td>\n",
       "      <td>0.000000</td>\n",
       "      <td>16.0</td>\n",
       "      <td>1.000000</td>\n",
       "      <td>0.0000</td>\n",
       "      <td>3.4604</td>\n",
       "      <td>3.4599</td>\n",
       "      <td>3.459735</td>\n",
       "      <td>62.823529</td>\n",
       "      <td>62.7</td>\n",
       "      <td>62.9</td>\n",
       "      <td>2024-05-27 12:28:33</td>\n",
       "      <td>2024-05-27 12:28:49</td>\n",
       "      <td>5141.0</td>\n",
       "      <td>0.0000</td>\n",
       "      <td>0.000000</td>\n",
       "      <td>0.0000</td>\n",
       "      <td>0.0000</td>\n",
       "      <td>0.0000</td>\n",
       "    </tr>\n",
       "    <tr>\n",
       "      <th>43039</th>\n",
       "      <td>cp dchg</td>\n",
       "      <td>-10.182524</td>\n",
       "      <td>0.038439</td>\n",
       "      <td>24.0</td>\n",
       "      <td>1.000000</td>\n",
       "      <td>0.0679</td>\n",
       "      <td>3.4599</td>\n",
       "      <td>3.4096</td>\n",
       "      <td>3.429604</td>\n",
       "      <td>62.732</td>\n",
       "      <td>62.5</td>\n",
       "      <td>62.8</td>\n",
       "      <td>2024-05-27 12:28:49</td>\n",
       "      <td>2024-05-27 12:29:13</td>\n",
       "      <td>5157.0</td>\n",
       "      <td>0.2328</td>\n",
       "      <td>-34.921524</td>\n",
       "      <td>-34.9091</td>\n",
       "      <td>-0.0679</td>\n",
       "      <td>-0.2328</td>\n",
       "    </tr>\n",
       "    <tr>\n",
       "      <th>43040</th>\n",
       "      <td>cp dchg</td>\n",
       "      <td>-20.648138</td>\n",
       "      <td>0.062742</td>\n",
       "      <td>12.0</td>\n",
       "      <td>1.000000</td>\n",
       "      <td>0.0688</td>\n",
       "      <td>3.4095</td>\n",
       "      <td>3.3727</td>\n",
       "      <td>3.387392</td>\n",
       "      <td>62.684615</td>\n",
       "      <td>62.5</td>\n",
       "      <td>62.7</td>\n",
       "      <td>2024-05-27 12:29:13</td>\n",
       "      <td>2024-05-27 12:29:25</td>\n",
       "      <td>5181.0</td>\n",
       "      <td>0.2331</td>\n",
       "      <td>-69.942731</td>\n",
       "      <td>-69.9992</td>\n",
       "      <td>-0.0688</td>\n",
       "      <td>-0.2331</td>\n",
       "    </tr>\n",
       "  </tbody>\n",
       "</table>\n",
       "</div>"
      ]
     },
     "execution_count": 14,
     "metadata": {},
     "output_type": "execute_result"
    }
   ],
   "execution_count": 14
  },
  {
   "cell_type": "code",
   "execution_count": null,
   "outputs": [],
   "source": [
    "slice = bp.exporting.load_experiment(save_path, parse_dates = ['Datetime_min', 'Datetime_max'])\n",
    "slice['Step Type'].str.findall('.*dchg')"
   ],
   "metadata": {
    "collapsed": false
   }
  },
  {
   "cell_type": "code",
   "execution_count": 137,
   "outputs": [
    {
     "name": "stderr",
     "output_type": "stream",
     "text": [
      "C:\\Users\\sk804\\AppData\\Local\\Temp\\ipykernel_12556\\667288033.py:1: UserWarning: Boolean Series key will be reindexed to match DataFrame index.\n",
      "  slice_1 = result[result['Step_id']==3][result['ID']=='NMC10']\n"
     ]
    },
    {
     "data": {
      "text/plain": "          ID Chem Protocol                                  Tech  Step_id  \\\nIndex                                                                       \n67     NMC10  NMC   CCroom  Заявка № 60 Образцы C-NMC № 010, 011        3   \n68     NMC10  NMC   CCroom  Заявка № 60 Образцы C-NMC № 010, 011        3   \n\n                                   Step  Pouch Thermos  Potentiostat  Channel  \\\nIndex                                                                           \n67     3. Пункт 5 Циклирование 28 суток     10      []           132        1   \n68     3. Пункт 5 Циклирование 28 суток     10      []           132        1   \n\n          Datetime_id  \\\nIndex                   \n67     20240404103731   \n68     20240411142851   \n\n                                                                                                                                                                                                          Path  \nIndex                                                                                                                                                                                                           \n67     D:\\!Science\\Физтех\\Циклирования\\28.05.24 - результаты\\NMC\\Заявка № 60 Образцы C-NMC № 010, 011\\3. Пункт 5 Циклирование 28 суток\\010\\до сбоя\\BTS82-132-1-1-113-20240404103731-Циклирование 28 суток.xlsx  \n68                     D:\\!Science\\Физтех\\Циклирования\\28.05.24 - результаты\\NMC\\Заявка № 60 Образцы C-NMC № 010, 011\\3. Пункт 5 Циклирование 28 суток\\010\\после сбоя\\BTS82-132-1-1-116-20240411142851-п5.xlsx  ",
      "text/html": "<div>\n<style scoped>\n    .dataframe tbody tr th:only-of-type {\n        vertical-align: middle;\n    }\n\n    .dataframe tbody tr th {\n        vertical-align: top;\n    }\n\n    .dataframe thead th {\n        text-align: right;\n    }\n</style>\n<table border=\"1\" class=\"dataframe\">\n  <thead>\n    <tr style=\"text-align: right;\">\n      <th></th>\n      <th>ID</th>\n      <th>Chem</th>\n      <th>Protocol</th>\n      <th>Tech</th>\n      <th>Step_id</th>\n      <th>Step</th>\n      <th>Pouch</th>\n      <th>Thermos</th>\n      <th>Potentiostat</th>\n      <th>Channel</th>\n      <th>Datetime_id</th>\n      <th>Path</th>\n    </tr>\n    <tr>\n      <th>Index</th>\n      <th></th>\n      <th></th>\n      <th></th>\n      <th></th>\n      <th></th>\n      <th></th>\n      <th></th>\n      <th></th>\n      <th></th>\n      <th></th>\n      <th></th>\n      <th></th>\n    </tr>\n  </thead>\n  <tbody>\n    <tr>\n      <th>67</th>\n      <td>NMC10</td>\n      <td>NMC</td>\n      <td>CCroom</td>\n      <td>Заявка № 60 Образцы C-NMC № 010, 011</td>\n      <td>3</td>\n      <td>3. Пункт 5 Циклирование 28 суток</td>\n      <td>10</td>\n      <td>[]</td>\n      <td>132</td>\n      <td>1</td>\n      <td>20240404103731</td>\n      <td>D:\\!Science\\Физтех\\Циклирования\\28.05.24 - результаты\\NMC\\Заявка № 60 Образцы C-NMC № 010, 011\\3. Пункт 5 Циклирование 28 суток\\010\\до сбоя\\BTS82-132-1-1-113-20240404103731-Циклирование 28 суток.xlsx</td>\n    </tr>\n    <tr>\n      <th>68</th>\n      <td>NMC10</td>\n      <td>NMC</td>\n      <td>CCroom</td>\n      <td>Заявка № 60 Образцы C-NMC № 010, 011</td>\n      <td>3</td>\n      <td>3. Пункт 5 Циклирование 28 суток</td>\n      <td>10</td>\n      <td>[]</td>\n      <td>132</td>\n      <td>1</td>\n      <td>20240411142851</td>\n      <td>D:\\!Science\\Физтех\\Циклирования\\28.05.24 - результаты\\NMC\\Заявка № 60 Образцы C-NMC № 010, 011\\3. Пункт 5 Циклирование 28 суток\\010\\после сбоя\\BTS82-132-1-1-116-20240411142851-п5.xlsx</td>\n    </tr>\n  </tbody>\n</table>\n</div>"
     },
     "execution_count": 137,
     "metadata": {},
     "output_type": "execute_result"
    }
   ],
   "source": [
    "slice_1 = result[result['Step_id']==3][result['ID']=='NMC10']\n",
    "slice_1"
   ],
   "metadata": {
    "collapsed": false,
    "ExecuteTime": {
     "end_time": "2024-06-06T20:46:40.747877600Z",
     "start_time": "2024-06-06T20:46:40.717972400Z"
    }
   }
  },
  {
   "cell_type": "code",
   "execution_count": 140,
   "outputs": [
    {
     "name": "stdout",
     "output_type": "stream",
     "text": [
      "LFP3 3\n"
     ]
    },
    {
     "name": "stderr",
     "output_type": "stream",
     "text": [
      "D:\\Python\\Projects\\Battery_Parser\\venv\\Lib\\site-packages\\openpyxl\\styles\\stylesheet.py:226: UserWarning: Workbook contains no default style, apply openpyxl's default\n",
      "  warn(\"Workbook contains no default style, apply openpyxl's default\")\n",
      "D:\\Python\\Projects\\Battery_Parser\\venv\\Lib\\site-packages\\openpyxl\\styles\\stylesheet.py:226: UserWarning: Workbook contains no default style, apply openpyxl's default\n",
      "  warn(\"Workbook contains no default style, apply openpyxl's default\")\n"
     ]
    }
   ],
   "source": [
    "# Проверка что всё время в статистике идёт подряд и нет скачков.\n",
    "slices =[i for i in  result.groupby(['ID', 'Step_id'])]\n",
    "slice = slices[10]\n",
    "# pouch, step = slice_1[0]\n",
    "# print(pouch, step)\n",
    "statistics, data = create_statistics(slice_1, statistic_pattern)"
   ],
   "metadata": {
    "collapsed": false,
    "ExecuteTime": {
     "end_time": "2024-06-06T20:50:04.269567400Z",
     "start_time": "2024-06-06T20:49:09.061075700Z"
    }
   }
  },
  {
   "cell_type": "code",
   "execution_count": 111,
   "outputs": [],
   "source": [
    "# dataset = pd.concat(data,ignore_index=True)\n",
    "# bp.rename_columns(dataset, {'Power(W)':'P'})\n",
    "# bp.parse_time(dataset, time_column='Time', datetime_column='Datetime')\n",
    "# bp.parse_time(dataset, time_column='Total Time')\n",
    "# statistics = bp.generate_statistics(dataset, group_marker=(dataset['Time'] < dataset['Time'].shift()).cumsum(), statistics_pattern=statistic_pattern)\n",
    "# statistics['Net Q'] = np.sign(statistics['I_mean'])*statistics['Q_max']\n",
    "# statistics['Net Energy'] = np.sign(statistics['I_mean'])*statistics['Energy_max']\n",
    "# bp.rename_columns(statistics, {'Step Type_unique_values':'Step Type'})\n",
    "# statistics['Step Type'] = statistics['Step Type'].str.lower()\n"
   ],
   "metadata": {
    "collapsed": false,
    "ExecuteTime": {
     "end_time": "2024-06-06T20:35:05.816677700Z",
     "start_time": "2024-06-06T20:34:36.372331800Z"
    }
   }
  },
  {
   "cell_type": "code",
   "source": [
    "data_path = r'D:\\!Science\\Физтех\\Циклирования\\Результаты\\Данные'\n",
    "slices = [i for i in result.groupby(['ID', 'Step_id'])]\n",
    "data = {}\n",
    "for slice in slices:\n",
    "    pouch, step = slice[0]\n",
    "    \n",
    "    if step in [5,6]:\n",
    "        print(pouch, step)\n",
    "        filepath = fr'{data_path}\\{step}\\{pouch}.csv'\n",
    "        data[slice[0]] = bp.exporting.load_experiment(filepath, parse_dates = ['Datetime'])"
   ],
   "metadata": {
    "collapsed": false,
    "ExecuteTime": {
     "end_time": "2024-06-25T12:29:05.096968Z",
     "start_time": "2024-06-25T12:28:07.409136Z"
    }
   },
   "outputs": [
    {
     "name": "stdout",
     "output_type": "stream",
     "text": [
      "LFP1 5\n",
      "LFP1 6\n",
      "LFP2 5\n",
      "LFP2 6\n",
      "LFP3 5\n",
      "LFP3 6\n",
      "LFP4 5\n",
      "LFP4 6\n",
      "LFP5 5\n",
      "LFP5 6\n",
      "LFP6 5\n",
      "LFP7 5\n",
      "LFP8 5\n",
      "LFP8 6\n",
      "LTO11 5\n",
      "LTO11 6\n",
      "LTO12 5\n",
      "LTO12 6\n",
      "LTO13 5\n",
      "LTO3 5\n",
      "LTO4 5\n",
      "LTO4 6\n",
      "LTO5 5\n",
      "LTO5 6\n",
      "LTO6 5\n",
      "LTO6 6\n",
      "LTO7 5\n",
      "LTO7 6\n",
      "NMC10 5\n",
      "NMC10 6\n",
      "NMC11 5\n",
      "NMC11 6\n",
      "NMC12 5\n",
      "NMC13 5\n",
      "NMC14 5\n",
      "NMC14 6\n",
      "NMC15 5\n",
      "NMC15 6\n",
      "NMC6 5\n",
      "NMC6 6\n",
      "NMC7 5\n",
      "NMC7 6\n"
     ]
    }
   ],
   "execution_count": 7
  },
  {
   "cell_type": "code",
   "source": [
    "for key, dataset in data.items():\n",
    "    pouch, step = key\n",
    "    statistics = bp.generate_statistics(dataset, group_marker=[(dataset['Time'] < dataset['Time'].shift()).cumsum(), (dataset['Step Type'] != dataset['Step Type'].shift()).cumsum()], statistics_pattern=statistic_pattern)\n",
    "    statistics['Net Q'] = np.sign(statistics['I_mean'])*statistics['Q_max']\n",
    "    statistics['Net Energy'] = np.sign(statistics['I_mean'])*statistics['Energy_max']\n",
    "    bp.rename_columns(statistics, {'Step Type_unique_values':'Step Type'})\n",
    "    statistics['Step Type'] = statistics['Step Type'].str.lower()\n",
    "    statistics.reset_index(drop=True, inplace=True)\n",
    "    check_time_consequence(statistics,)\n",
    "    save_path = fr'D:\\!Science\\Физтех\\Циклирования\\Результаты\\Статистика\\{step}\\{pouch}.csv'\n",
    "    bp.exporting.save_experiment(statistics, save_path)"
   ],
   "metadata": {
    "collapsed": false,
    "ExecuteTime": {
     "end_time": "2024-06-25T12:31:59.113241Z",
     "start_time": "2024-06-25T12:29:14.130673Z"
    }
   },
   "outputs": [],
   "execution_count": 8
  }
 ],
 "metadata": {
  "kernelspec": {
   "display_name": "Python 3",
   "language": "python",
   "name": "python3"
  },
  "language_info": {
   "codemirror_mode": {
    "name": "ipython",
    "version": 2
   },
   "file_extension": ".py",
   "mimetype": "text/x-python",
   "name": "python",
   "nbconvert_exporter": "python",
   "pygments_lexer": "ipython2",
   "version": "2.7.6"
  }
 },
 "nbformat": 4,
 "nbformat_minor": 0
}
