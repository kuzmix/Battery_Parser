{
 "cells": [
  {
   "cell_type": "code",
   "execution_count": 45,
   "outputs": [],
   "source": [
    "import battery_parser as bp\n",
    "import os\n",
    "import pandas as pd\n",
    "import numpy as np\n",
    "import re\n",
    "import copy"
   ],
   "metadata": {
    "collapsed": false,
    "ExecuteTime": {
     "end_time": "2024-06-04T15:32:45.381993200Z",
     "start_time": "2024-06-04T15:32:45.360648300Z"
    }
   }
  },
  {
   "cell_type": "code",
   "execution_count": 12,
   "outputs": [],
   "source": [
    "borders = {'LFP':[2.51,3.64, 280.0], 'NMC':[2.51, 4.19, 195.0],'LTO':[1.51, 2.84, 102.0]}\n"
   ],
   "metadata": {
    "collapsed": false,
    "ExecuteTime": {
     "end_time": "2024-06-04T11:11:12.648223Z",
     "start_time": "2024-06-04T11:11:12.641042900Z"
    }
   }
  },
  {
   "cell_type": "code",
   "execution_count": 3,
   "outputs": [],
   "source": [
    "# from importlib import reload\n",
    "# reload(bp)"
   ],
   "metadata": {
    "collapsed": false,
    "ExecuteTime": {
     "end_time": "2024-06-04T10:14:02.982001Z",
     "start_time": "2024-06-04T10:14:02.977979400Z"
    }
   }
  },
  {
   "cell_type": "code",
   "execution_count": 10,
   "outputs": [],
   "source": [
    "class Check_pattern:  # TODO перенести в файл с обработкой (который будет)\n",
    "    \"\"\"\n",
    "    Creates object that checks if given value list/dataframe corresponds to given pattern.\n",
    "    Pattern engine use slicing window with size equal to pattern length. Each pattern element is dict in form {'column_name':(compare operation, value)} for one condition per column or {'column_name':[(compare operation1, value1), (compare operation2, value2)]} for multiple conditions for the column.\n",
    "    Args:\n",
    "        pattern:\n",
    "    \"\"\"\n",
    "\n",
    "    def __init__(self, pattern:list, ):\n",
    "        self.length = len(pattern)\n",
    "        self.pattern = [self.transform_pattern(step) for step in pattern]\n",
    "\n",
    "\n",
    "    def __call__(self, split: pd.DataFrame):\n",
    "        \"\"\"\n",
    "        Checks if values in list are consistent with pattern. List length should be\n",
    "        equal to pattern length.\n",
    "        Args:\n",
    "            split (): list of values.\n",
    "\n",
    "        Returns:\n",
    "\n",
    "        \"\"\"\n",
    "        assert len(self.pattern) == len(split)\n",
    "        checks = [self.check_series(series[1], conditions)\n",
    "                  for series, conditions\n",
    "                  in zip(split.reset_index(drop=True).iterrows(), self.pattern)]\n",
    "        return all(checks)\n",
    "\n",
    "    def __len__(self):\n",
    "        return len(self.pattern)\n",
    "\n",
    "    @staticmethod\n",
    "    def transform_pattern(step:dict):\n",
    "        step_transform = []\n",
    "        for key in step.keys():\n",
    "            if len(step[key]) > 1 and isinstance(step[key], list):\n",
    "                step_transform.extend([(key, *comparator ) for comparator in step[key]])\n",
    "            else:\n",
    "                step_transform.append((key, *step[key]))\n",
    "        return step_transform\n",
    "\n",
    "\n",
    "    def check_series(self, series, conditions):\n",
    "        results = []\n",
    "        for column, operator, value in conditions:\n",
    "            result = self.check_condition(a=series[column], b=value, operation=operator)\n",
    "            results.append(result)\n",
    "        return all(results)\n",
    "\n",
    "    @staticmethod\n",
    "    def check_condition(a, b, operation):\n",
    "        match operation:\n",
    "            case 'less':\n",
    "                return a < b\n",
    "            case 'more':\n",
    "                return a > b\n",
    "            case 'equal':\n",
    "                return a == b\n",
    "            case 'contain':\n",
    "                return b in a\n",
    "            case 'approx':\n",
    "                borders = [b*0.99, b*1.01]\n",
    "                borders.sort()\n",
    "                return (a >= borders[0]) and (a <= borders[1])\n",
    "\n",
    "\n",
    "def window_slider(window_size, stat_data):\n",
    "    len_data = len(stat_data)\n",
    "    slices = []\n",
    "    for i in range(len_data-window_size+1):\n",
    "        slices.append(stat_data.iloc[i:i+window_size])\n",
    "    return slices\n",
    "\n",
    "def find_pattern(statistics: pd.DataFrame, pattern: list):\n",
    "    pattern_checker = Check_pattern(pattern)\n",
    "    window_size = len(pattern_checker)\n",
    "\n",
    "    slices = window_slider(window_size, statistics)\n",
    "    roll = {sl.iloc[0].name:pattern_checker(sl) for sl in slices}\n",
    "    roll = pd.DataFrame.from_dict(roll, 'index', columns=['result'])\n",
    "    windows = []\n",
    "    for i in roll[roll['result']].index:\n",
    "        start_index = i\n",
    "        end_index =  start_index + window_size\n",
    "        windows.append(list(range(start_index, end_index)))\n",
    "    return windows"
   ],
   "metadata": {
    "collapsed": false,
    "ExecuteTime": {
     "end_time": "2024-06-04T10:16:21.291212700Z",
     "start_time": "2024-06-04T10:16:21.281202500Z"
    }
   }
  },
  {
   "cell_type": "code",
   "execution_count": 19,
   "outputs": [],
   "source": [
    "def create_pattern(e_min, e_max):\n",
    "    p = {'discharge':[{'Step Type':('contain', 'dchg')}],\n",
    "         'charge':[{'Step Type':('contain', 'chg')}],\n",
    "        'discharge_total':[{'E_last':('less', e_min), 'Step Type':('contain', 'dchg')}],\n",
    "         'charge_total':[{'E_last':('more', e_max), 'Step Type':('contain', 'chg')}],\n",
    "         'rest':[{'Step Type':('contain','rest')}],\n",
    "         'power':[{'Step Type':('contain','rest')}, {'Step Type':('contain','dchg'), 'Time_range':('equal', 10)},{'Step Type':('contain','rest')}],\n",
    "         'R':[{'Step Type':('contain','dchg'), 'Time_range':('equal', 30)}, {'Step Type':('contain','dchg'), 'Time_range':('equal', 5)}]}\n",
    "\n",
    "    return p"
   ],
   "metadata": {
    "collapsed": false,
    "ExecuteTime": {
     "end_time": "2024-06-04T11:19:08.588141900Z",
     "start_time": "2024-06-04T11:19:08.567911300Z"
    }
   }
  },
  {
   "cell_type": "code",
   "execution_count": 20,
   "outputs": [],
   "source": [
    "def create_dst(p_max):\n",
    "    power_percent = [0.0, 0.125, 0.25, -0.125, 0.0,\n",
    "                    0.125, 0.25, -0.125, 0.0, 0.125,\n",
    "                    0.25, -0.125, 0.0, 0.125, 1.0,\n",
    "                    0.625, -0.25, 0.25, -0.5, 0.0]\n",
    "    power = [i*p_max for i in power_percent]\n",
    "    time_a = [16,28,12,8,16,\n",
    "            24,12,8,16,24,\n",
    "            12,8,16,36,8,\n",
    "            24,8,32,8,44]\n",
    "    time_b = [16,28,12,8,16,\n",
    "            24,12,8,16,24,\n",
    "            12,8,16,36,8,\n",
    "            120,8,32,8,44]\n",
    "\n",
    "    dst_all = []\n",
    "    for i in power:\n",
    "        if i>0:\n",
    "            step='cp dchg'\n",
    "        elif i < 0:\n",
    "            step = 'cp chg'\n",
    "        elif i == 0:\n",
    "            step = 'rest'\n",
    "        one_move = {'Step Type':('contain', step), 'P_mean':('approx', -i)}\n",
    "        dst_all.append(one_move)\n",
    "\n",
    "    dst_b = []\n",
    "    for step, time in zip(dst_all, time_b):\n",
    "        times = {'Time_range':('equal', time)}\n",
    "        times.update(step)\n",
    "        dst_b.append(times)\n",
    "\n",
    "    dst_a = []\n",
    "    for step, time in zip(dst_all, time_a):\n",
    "        times = {'Time_range':('equal', time)}\n",
    "        times.update(step)\n",
    "        dst_a.append(times)\n",
    "    return dst_all, dst_a, dst_b\n"
   ],
   "metadata": {
    "collapsed": false,
    "ExecuteTime": {
     "end_time": "2024-06-04T11:19:10.798217700Z",
     "start_time": "2024-06-04T11:19:10.792669Z"
    }
   }
  },
  {
   "cell_type": "code",
   "execution_count": 29,
   "outputs": [],
   "source": [
    "def step_1(data):\n",
    "    test_result = {'Q_dch':data[data['Step Type'].str.contains(' dchg')].iloc[-1]['Q_max'],\n",
    "                   'En_dch':data[data['Step Type'].str.contains(' dchg')].iloc[-1]['Energy_max'],\n",
    "                   'Q_ch':data[data['Step Type'].str.contains(' chg')].iloc[-1]['Q_max'],\n",
    "                   'En_ch':data[data['Step Type'].str.contains(' chg')].iloc[-1]['Energy_max'],\n",
    "                   'Datetime':data.iloc[0]['Datetime_min']}\n",
    "    test_result['Q_eff'] = test_result['Q_dch']/test_result['Q_ch']\n",
    "    test_result['T_max'] = data['T_max'].max()\n",
    "    test_result['index'] = data.index[0]\n",
    "    test_result['En_eff'] = test_result['En_dch']/test_result['En_ch']\n",
    "    return data.index[-1]+1, test_result slice1\n",
    "\n",
    "def step_2(data):\n",
    "    result = {}\n",
    "    result['P_max'] = data[data['Step Type'].str.contains(' dchg')].iloc[-1]['P_last']\n",
    "    return data.index[-1]+1, result\n",
    "\n",
    "def step_2_1(data):\n",
    "    _E = data['E_last']\n",
    "    _I = data['I_mean']\n",
    "    result = {'R':(_E.iloc[-1]-_E.iloc[-2])/(_I.iloc[-1]-_I.iloc[-2])}\n",
    "    return data.index[-1]+1, result\n",
    "\n",
    "def step_3(data):\n",
    "    if data['Step Type'].nunique() != 3:\n",
    "        print('dst step 3 wrong cut!')\n",
    "    else:\n",
    "        print('dst step 3 ok')\n",
    "    result = {}\n",
    "    result['full_dst'] = len(find_pattern(data, p['dst_all']))\n",
    "    result['Q_dchg'] = -data[data['Net Q']<0]['Net Q'].sum()\n",
    "    result['Q_chg'] = data[data['Net Q']>0]['Net Q'].sum()\n",
    "    result['Q'] = result['Q_dchg'] - result['Q_chg']\n",
    "    return data.index[-1]+1, result\n",
    "\n",
    "# def step_3_1(data):\n",
    "#     pass"
   ],
   "metadata": {
    "collapsed": false,
    "ExecuteTime": {
     "end_time": "2024-06-04T12:27:29.012791400Z",
     "start_time": "2024-06-04T12:27:29.012791400Z"
    }
   }
  },
  {
   "cell_type": "code",
   "execution_count": 30,
   "outputs": [],
   "source": [
    "def extract_results1(statistics_data):\n",
    "    pattern = []\n",
    "    for i  in p:\n",
    "        if 'full_cycle' in i:\n",
    "            pattern.extend(find_pattern(statistics_data, p[i]))\n",
    "    results = {}\n",
    "    data = statistics_data.loc[pattern[0]]\n",
    "    start_idx, result = step_1(data)\n",
    "    results['1'] = result\n",
    "\n",
    "    pattern = find_pattern(statistics_data.loc[start_idx:], p['power'])\n",
    "    data = statistics_data.loc[pattern[0]]\n",
    "    start_idx, result = step_2(data)\n",
    "    results['2'] = result\n",
    "\n",
    "    pattern = find_pattern(statistics_data.loc[start_idx:], p['R'])\n",
    "    data = statistics_data.loc[pattern[0]]\n",
    "    start_idx, result = step_2_1(data)\n",
    "    results['2.1'] = result\n",
    "\n",
    "    start_search = find_pattern(statistics_data.loc[start_idx:], p['charge'])[0][0]\n",
    "    end_search = find_pattern(statistics_data.loc[start_search:], p['discharge'])[0][0]\n",
    "    data = statistics_data.loc[start_search+1:end_search]\n",
    "    start_idx, result = step_3(data)\n",
    "    results['3'] = result\n",
    "\n",
    "    # pattern = p['discharge']\n",
    "    return results"
   ],
   "metadata": {
    "collapsed": false,
    "ExecuteTime": {
     "end_time": "2024-06-04T12:27:31.976533800Z",
     "start_time": "2024-06-04T12:27:31.970452300Z"
    }
   }
  },
  {
   "cell_type": "markdown",
   "source": [
    "Разработка метода извлечения данных из файлов ndax - для пунктов 1- 4,1.\n",
    "1. Задать папку, где лежат нужные эксперименты (в формате .xlsx)"
   ],
   "metadata": {
    "collapsed": false
   }
  },
  {
   "cell_type": "markdown",
   "source": [
    "1. полный цикл, извлечение данных"
   ],
   "metadata": {
    "collapsed": false
   }
  },
  {
   "cell_type": "code",
   "execution_count": 31,
   "outputs": [
    {
     "name": "stderr",
     "output_type": "stream",
     "text": [
      "D:\\Python\\Projects\\Battery_Parser\\venv\\Lib\\site-packages\\openpyxl\\styles\\stylesheet.py:226: UserWarning: Workbook contains no default style, apply openpyxl's default\n",
      "  warn(\"Workbook contains no default style, apply openpyxl's default\")\n"
     ]
    },
    {
     "name": "stdout",
     "output_type": "stream",
     "text": [
      "dst step 3 ok\n",
      "{'1': {'Q_dch': 48.6748, 'En_dch': 154.5293, 'Q_ch': 48.3056, 'En_ch': 164.3237, 'Datetime': Timestamp('2024-04-08 14:38:06'), 'Q_eff': 1.0076430061938988, 'T_max': 33.3, 'index': 0, 'En_eff': 0.9403956945954844}, '2': {'P_max': -283.8343}, '2.1': {'R': 0.001466933487564924}, '3': {'full_dst': 44, 'Q_dchg': 58.5287, 'Q_chg': 9.4807, 'Q': 49.048}, 'type': 'LFP', 'filepath': ['D:\\\\!Science\\\\Физтех\\\\Циклирования\\\\28.05.24 - результаты\\\\LFP\\\\Заявка №73 Старение+45 2-3\\\\1. Пункт 1-4.1\\\\№2\\\\BTS82-130-1-1-231-20240408143806-Программа п1-п4.1 C-LFP.xlsx'], 'Number': 0}\n"
     ]
    },
    {
     "name": "stderr",
     "output_type": "stream",
     "text": [
      "D:\\Python\\Projects\\Battery_Parser\\venv\\Lib\\site-packages\\openpyxl\\styles\\stylesheet.py:226: UserWarning: Workbook contains no default style, apply openpyxl's default\n",
      "  warn(\"Workbook contains no default style, apply openpyxl's default\")\n"
     ]
    },
    {
     "name": "stdout",
     "output_type": "stream",
     "text": [
      "dst step 3 ok\n",
      "{'1': {'Q_dch': 48.1755, 'En_dch': 153.067, 'Q_ch': 47.9617, 'En_ch': 162.9328, 'Datetime': Timestamp('2024-04-08 14:38:18'), 'Q_eff': 1.0044577235585894, 'T_max': 33.5, 'index': 0, 'En_eff': 0.9394486561330807}, '2': {'P_max': -284.004}, '2.1': {'R': 0.0014444503593525645}, '3': {'full_dst': 43, 'Q_dchg': 58.2802, 'Q_chg': 9.479099999999999, 'Q': 48.801100000000005}, 'type': 'LFP', 'filepath': ['D:\\\\!Science\\\\Физтех\\\\Циклирования\\\\28.05.24 - результаты\\\\LFP\\\\Заявка №73 Старение+45 2-3\\\\1. Пункт 1-4.1\\\\№3\\\\BTS82-130-1-2-231-20240408143819-Программа п1-п4.1 C-LFP.xlsx'], 'Number': 1}\n"
     ]
    },
    {
     "name": "stderr",
     "output_type": "stream",
     "text": [
      "D:\\Python\\Projects\\Battery_Parser\\venv\\Lib\\site-packages\\openpyxl\\styles\\stylesheet.py:226: UserWarning: Workbook contains no default style, apply openpyxl's default\n",
      "  warn(\"Workbook contains no default style, apply openpyxl's default\")\n"
     ]
    },
    {
     "name": "stdout",
     "output_type": "stream",
     "text": [
      "dst step 3 ok\n",
      "{'1': {'Q_dch': 48.4945, 'En_dch': 154.1196, 'Q_ch': 48.3462, 'En_ch': 164.3422, 'Datetime': Timestamp('2024-04-08 14:48:12'), 'Q_eff': 1.003067459283253, 'T_max': 34.2, 'index': 0, 'En_eff': 0.9377968653212626}, '2': {'P_max': -284.1479}, '2.1': {'R': 0.0014139762662133497}, '3': {'full_dst': 44, 'Q_dchg': 58.4405, 'Q_chg': 9.486500000000001, 'Q': 48.954}, 'type': 'LFP', 'filepath': ['D:\\\\!Science\\\\Физтех\\\\Циклирования\\\\28.05.24 - результаты\\\\LFP\\\\Заявка №74 Старение +45 4-5\\\\1. Пункт 1-4.1\\\\4\\\\BTS82-130-1-3-231-20240408144813-Программа п1-п4.1 C-LFP.xlsx'], 'Number': 2}\n"
     ]
    },
    {
     "name": "stderr",
     "output_type": "stream",
     "text": [
      "D:\\Python\\Projects\\Battery_Parser\\venv\\Lib\\site-packages\\openpyxl\\styles\\stylesheet.py:226: UserWarning: Workbook contains no default style, apply openpyxl's default\n",
      "  warn(\"Workbook contains no default style, apply openpyxl's default\")\n"
     ]
    },
    {
     "name": "stdout",
     "output_type": "stream",
     "text": [
      "dst step 3 ok\n",
      "{'1': {'Q_dch': 48.1846, 'En_dch': 152.7099, 'Q_ch': 47.9966, 'En_ch': 163.6609, 'Datetime': Timestamp('2024-04-08 14:48:24'), 'Q_eff': 1.003916944116875, 'T_max': 34.1, 'index': 0, 'En_eff': 0.933087255416535}, '2': {'P_max': -283.5466}, '2.1': {'R': 0.001505445976524997}, '3': {'full_dst': 44, 'Q_dchg': 58.5254, 'Q_chg': 9.4883, 'Q': 49.037099999999995}, 'type': 'LFP', 'filepath': ['D:\\\\!Science\\\\Физтех\\\\Циклирования\\\\28.05.24 - результаты\\\\LFP\\\\Заявка №74 Старение +45 4-5\\\\1. Пункт 1-4.1\\\\5\\\\BTS82-130-1-4-231-20240408144824-Программа п1-п4.1 C-LFP.xlsx'], 'Number': 3}\n"
     ]
    },
    {
     "name": "stderr",
     "output_type": "stream",
     "text": [
      "D:\\Python\\Projects\\Battery_Parser\\venv\\Lib\\site-packages\\openpyxl\\styles\\stylesheet.py:226: UserWarning: Workbook contains no default style, apply openpyxl's default\n",
      "  warn(\"Workbook contains no default style, apply openpyxl's default\")\n"
     ]
    },
    {
     "name": "stdout",
     "output_type": "stream",
     "text": [
      "dst step 3 ok\n",
      "{'1': {'Q_dch': 47.8721, 'En_dch': 151.6549, 'Q_ch': 47.7803, 'En_ch': 162.9984, 'Datetime': Timestamp('2024-04-08 14:57:29'), 'Q_eff': 1.0019212939223907, 'T_max': 33.7, 'index': 0, 'En_eff': 0.9304072923415199}, '2': {'P_max': -283.4297}, '2.1': {'R': 0.0015196194722506171}, '3': {'full_dst': 43, 'Q_dchg': 57.6249, 'Q_chg': 9.2521, 'Q': 48.3728}, 'type': 'LFP', 'filepath': ['D:\\\\!Science\\\\Физтех\\\\Циклирования\\\\28.05.24 - результаты\\\\LFP\\\\Заявка №75 Старение +60\\\\1. Пункт 1-4.1\\\\№6\\\\BTS82-130-1-5-231-20240408145729-Программа п1-п4.1 C-LFP.xlsx'], 'Number': 4}\n"
     ]
    },
    {
     "name": "stderr",
     "output_type": "stream",
     "text": [
      "D:\\Python\\Projects\\Battery_Parser\\venv\\Lib\\site-packages\\openpyxl\\styles\\stylesheet.py:226: UserWarning: Workbook contains no default style, apply openpyxl's default\n",
      "  warn(\"Workbook contains no default style, apply openpyxl's default\")\n"
     ]
    },
    {
     "name": "stdout",
     "output_type": "stream",
     "text": [
      "dst step 3 ok\n",
      "{'1': {'Q_dch': 47.9248, 'En_dch': 151.7264, 'Q_ch': 47.7608, 'En_ch': 163.0331, 'Datetime': Timestamp('2024-04-08 14:57:41'), 'Q_eff': 1.003433778328671, 'T_max': 32.5, 'index': 0, 'En_eff': 0.9306478255029195}, '2': {'P_max': -283.369}, '2.1': {'R': 0.0015221775046291143}, '3': {'full_dst': 43, 'Q_dchg': 58.5459, 'Q_chg': 9.491800000000001, 'Q': 49.054100000000005}, 'type': 'LFP', 'filepath': ['D:\\\\!Science\\\\Физтех\\\\Циклирования\\\\28.05.24 - результаты\\\\LFP\\\\Заявка №75 Старение +60\\\\1. Пункт 1-4.1\\\\№7\\\\BTS82-130-1-6-231-20240408145742-Программа п1-п4.1 C-LFP.xlsx'], 'Number': 5}\n"
     ]
    },
    {
     "name": "stderr",
     "output_type": "stream",
     "text": [
      "D:\\Python\\Projects\\Battery_Parser\\venv\\Lib\\site-packages\\openpyxl\\styles\\stylesheet.py:226: UserWarning: Workbook contains no default style, apply openpyxl's default\n",
      "  warn(\"Workbook contains no default style, apply openpyxl's default\")\n"
     ]
    },
    {
     "name": "stdout",
     "output_type": "stream",
     "text": [
      "dst step 3 ok\n",
      "{'1': {'Q_dch': 48.6388, 'En_dch': 154.3025, 'Q_ch': 48.5086, 'En_ch': 164.9036, 'Datetime': Timestamp('2024-04-09 16:14:50'), 'Q_eff': 1.002684060146036, 'T_max': 33.1, 'index': 0, 'En_eff': 0.9357133501027267}, '2': {'P_max': -284.0557}, '2.1': {'R': 0.0014362105181603148}, '3': {'full_dst': 44, 'Q_dchg': 58.6315, 'Q_chg': 9.4734, 'Q': 49.158100000000005}, 'type': 'LFP', 'filepath': ['D:\\\\!Science\\\\Физтех\\\\Циклирования\\\\28.05.24 - результаты\\\\LFP\\\\Заявка №76 Старение НКУ\\\\1. п1-4.1\\\\1\\\\BTS82-130-1-8-232-20240409161449-Программа п1-п4.1 C-LFP.xlsx'], 'Number': 6}\n"
     ]
    },
    {
     "name": "stderr",
     "output_type": "stream",
     "text": [
      "D:\\Python\\Projects\\Battery_Parser\\venv\\Lib\\site-packages\\openpyxl\\styles\\stylesheet.py:226: UserWarning: Workbook contains no default style, apply openpyxl's default\n",
      "  warn(\"Workbook contains no default style, apply openpyxl's default\")\n"
     ]
    },
    {
     "name": "stdout",
     "output_type": "stream",
     "text": [
      "dst step 3 wrong cut!\n",
      "{'1': {'Q_dch': 47.8126, 'En_dch': 151.2771, 'Q_ch': 47.9242, 'En_ch': 163.5297, 'Datetime': Timestamp('2024-04-09 16:14:39'), 'Q_eff': 0.9976713226303204, 'T_max': 32.4, 'index': 0, 'En_eff': 0.9250741608405079}, '2': {'P_max': -283.4419}, '2.1': {'R': 0.0015112784027793917}, '3': {'full_dst': 43, 'Q_dchg': 108.0658, 'Q_chg': 58.61560000000001, 'Q': 49.45019999999999}, 'type': 'LFP', 'filepath': ['D:\\\\!Science\\\\Физтех\\\\Циклирования\\\\28.05.24 - результаты\\\\LFP\\\\Заявка №76 Старение НКУ\\\\1. п1-4.1\\\\8\\\\BTS82-130-1-7-233-20240409161438-Программа п1-п4.1 C-LFP.xlsx'], 'Number': 7}\n"
     ]
    },
    {
     "name": "stderr",
     "output_type": "stream",
     "text": [
      "D:\\Python\\Projects\\Battery_Parser\\venv\\Lib\\site-packages\\openpyxl\\styles\\stylesheet.py:226: UserWarning: Workbook contains no default style, apply openpyxl's default\n",
      "  warn(\"Workbook contains no default style, apply openpyxl's default\")\n"
     ]
    },
    {
     "name": "stdout",
     "output_type": "stream",
     "text": [
      "dst step 3 ok\n",
      "{'1': {'Q_dch': 15.3559, 'En_dch': 34.9669, 'Q_ch': 15.251, 'En_ch': 35.976, 'Datetime': Timestamp('2024-04-03 11:05:46'), 'Q_eff': 1.0068782374926235, 'T_max': 33.0, 'index': 0, 'En_eff': 0.9719507449410719}, '2': {'P_max': -92.6965}, '2.1': {'R': 0.0014288785916929888}, '3': {'full_dst': 26, 'Q_dchg': 17.8095, 'Q_chg': 2.8918, 'Q': 14.9177}, 'type': 'LTO', 'filepath': ['D:\\\\!Science\\\\Физтех\\\\Циклирования\\\\28.05.24 - результаты\\\\LTO\\\\4. Заявка №68 К4 К5\\\\1. Пункт 1-4.1\\\\К4\\\\BTS82-131-1-1-2818575909-20240403110546-Программа Пункт 1-4.1 LTO-NMC.xlsx'], 'Number': 8}\n"
     ]
    },
    {
     "name": "stderr",
     "output_type": "stream",
     "text": [
      "D:\\Python\\Projects\\Battery_Parser\\venv\\Lib\\site-packages\\openpyxl\\styles\\stylesheet.py:226: UserWarning: Workbook contains no default style, apply openpyxl's default\n",
      "  warn(\"Workbook contains no default style, apply openpyxl's default\")\n"
     ]
    },
    {
     "name": "stdout",
     "output_type": "stream",
     "text": [
      "dst step 3 ok\n",
      "{'1': {'Q_dch': 15.3176, 'En_dch': 34.8187, 'Q_ch': 15.2083, 'En_ch': 35.8468, 'Datetime': Timestamp('2024-04-03 11:05:58'), 'Q_eff': 1.0071868650671016, 'T_max': 31.7, 'index': 0, 'En_eff': 0.9713196156979144}, '2': {'P_max': -92.5352}, '2.1': {'R': 0.001443264099517359}, '3': {'full_dst': 26, 'Q_dchg': 17.835, 'Q_chg': 2.8952, 'Q': 14.939800000000002}, 'type': 'LTO', 'filepath': ['D:\\\\!Science\\\\Физтех\\\\Циклирования\\\\28.05.24 - результаты\\\\LTO\\\\4. Заявка №68 К4 К5\\\\1. Пункт 1-4.1\\\\К5\\\\BTS82-131-1-2-2818575909-20240403110558-Программа Пункт 1-4.1 LTO-NMC.xlsx'], 'Number': 9}\n"
     ]
    },
    {
     "name": "stderr",
     "output_type": "stream",
     "text": [
      "D:\\Python\\Projects\\Battery_Parser\\venv\\Lib\\site-packages\\openpyxl\\styles\\stylesheet.py:226: UserWarning: Workbook contains no default style, apply openpyxl's default\n",
      "  warn(\"Workbook contains no default style, apply openpyxl's default\")\n"
     ]
    },
    {
     "name": "stdout",
     "output_type": "stream",
     "text": [
      "dst step 3 ok\n",
      "{'1': {'Q_dch': 15.3166, 'En_dch': 34.8351, 'Q_ch': 15.2966, 'En_ch': 36.0251, 'Datetime': Timestamp('2024-04-03 11:11:26'), 'Q_eff': 1.0013074800936155, 'T_max': 32.1, 'index': 0, 'En_eff': 0.9669674754546135}, '2': {'P_max': -92.6877}, '2.1': {'R': 0.0013630053309114764}, '3': {'full_dst': 26, 'Q_dchg': 17.8622, 'Q_chg': 2.9030000000000005, 'Q': 14.959200000000001}, 'type': 'LTO', 'filepath': ['D:\\\\!Science\\\\Физтех\\\\Циклирования\\\\28.05.24 - результаты\\\\LTO\\\\5. Заявка №69 К11 К12\\\\1. п1-4.1\\\\К11\\\\BTS82-131-1-3-2818575909-20240403111126-Программа Пункт 1-4.1 LTO-NMC.xlsx'], 'Number': 10}\n"
     ]
    },
    {
     "name": "stderr",
     "output_type": "stream",
     "text": [
      "D:\\Python\\Projects\\Battery_Parser\\venv\\Lib\\site-packages\\openpyxl\\styles\\stylesheet.py:226: UserWarning: Workbook contains no default style, apply openpyxl's default\n",
      "  warn(\"Workbook contains no default style, apply openpyxl's default\")\n"
     ]
    },
    {
     "name": "stdout",
     "output_type": "stream",
     "text": [
      "dst step 3 ok\n",
      "{'1': {'Q_dch': 15.3177, 'En_dch': 34.8243, 'Q_ch': 15.2892, 'En_ch': 36.0437, 'Datetime': Timestamp('2024-04-03 11:11:36'), 'Q_eff': 1.0018640609057374, 'T_max': 31.0, 'index': 0, 'En_eff': 0.966168845040881}, '2': {'P_max': -92.5874}, '2.1': {'R': 0.0014345964173098026}, '3': {'full_dst': 26, 'Q_dchg': 17.864500000000003, 'Q_chg': 2.8995, 'Q': 14.965000000000003}, 'type': 'LTO', 'filepath': ['D:\\\\!Science\\\\Физтех\\\\Циклирования\\\\28.05.24 - результаты\\\\LTO\\\\5. Заявка №69 К11 К12\\\\1. п1-4.1\\\\К12\\\\BTS82-131-1-4-2818575909-20240403111136-Программа Пункт 1-4.1 LTO-NMC.xlsx'], 'Number': 11}\n"
     ]
    },
    {
     "name": "stderr",
     "output_type": "stream",
     "text": [
      "D:\\Python\\Projects\\Battery_Parser\\venv\\Lib\\site-packages\\openpyxl\\styles\\stylesheet.py:226: UserWarning: Workbook contains no default style, apply openpyxl's default\n",
      "  warn(\"Workbook contains no default style, apply openpyxl's default\")\n"
     ]
    },
    {
     "name": "stdout",
     "output_type": "stream",
     "text": [
      "dst step 3 ok\n",
      "{'1': {'Q_dch': 15.2528, 'En_dch': 34.7315, 'Q_ch': 15.1477, 'En_ch': 35.7494, 'Datetime': Timestamp('2024-04-03 11:14:05'), 'Q_eff': 1.0069383470757938, 'T_max': 30.4, 'index': 0, 'En_eff': 0.9715267948552981}, '2': {'P_max': -92.7304}, '2.1': {'R': 0.001392964702509463}, '3': {'full_dst': 26, 'Q_dchg': 17.8031, 'Q_chg': 2.8918, 'Q': 14.9113}, 'type': 'LTO', 'filepath': ['D:\\\\!Science\\\\Физтех\\\\Циклирования\\\\28.05.24 - результаты\\\\LTO\\\\6. Заявка №70 К6 К7\\\\1. п1-4.1\\\\К6\\\\BTS82-131-1-5-2818575909-20240403111405-Программа Пункт 1-4.1 LTO-NMC.xlsx'], 'Number': 12}\n"
     ]
    },
    {
     "name": "stderr",
     "output_type": "stream",
     "text": [
      "D:\\Python\\Projects\\Battery_Parser\\venv\\Lib\\site-packages\\openpyxl\\styles\\stylesheet.py:226: UserWarning: Workbook contains no default style, apply openpyxl's default\n",
      "  warn(\"Workbook contains no default style, apply openpyxl's default\")\n"
     ]
    },
    {
     "name": "stdout",
     "output_type": "stream",
     "text": [
      "dst step 3 ok\n",
      "{'1': {'Q_dch': 15.2809, 'En_dch': 34.6991, 'Q_ch': 15.2066, 'En_ch': 35.8225, 'Datetime': Timestamp('2024-04-03 11:14:14'), 'Q_eff': 1.004886036326332, 'T_max': 30.5, 'index': 0, 'En_eff': 0.9686398213413359}, '2': {'P_max': -92.4964}, '2.1': {'R': 0.0014193282345631747}, '3': {'full_dst': 26, 'Q_dchg': 17.8553, 'Q_chg': 2.9000000000000004, 'Q': 14.9553}, 'type': 'LTO', 'filepath': ['D:\\\\!Science\\\\Физтех\\\\Циклирования\\\\28.05.24 - результаты\\\\LTO\\\\6. Заявка №70 К6 К7\\\\1. п1-4.1\\\\К7\\\\BTS82-131-1-6-2818575909-20240403111415-Программа Пункт 1-4.1 LTO-NMC.xlsx'], 'Number': 13}\n"
     ]
    },
    {
     "name": "stderr",
     "output_type": "stream",
     "text": [
      "D:\\Python\\Projects\\Battery_Parser\\venv\\Lib\\site-packages\\openpyxl\\styles\\stylesheet.py:226: UserWarning: Workbook contains no default style, apply openpyxl's default\n",
      "  warn(\"Workbook contains no default style, apply openpyxl's default\")\n"
     ]
    },
    {
     "name": "stdout",
     "output_type": "stream",
     "text": [
      "dst step 3 ok\n",
      "{'1': {'Q_dch': 15.2281, 'En_dch': 34.5875, 'Q_ch': 15.1338, 'En_ch': 35.6179, 'Datetime': Timestamp('2024-04-03 11:17:18'), 'Q_eff': 1.006231085385032, 'T_max': 29.9, 'index': 0, 'En_eff': 0.9710707256744502}, '2': {'P_max': -92.5148}, '2.1': {'R': 0.001365783553943593}, '3': {'full_dst': 26, 'Q_dchg': 17.866, 'Q_chg': 2.9039, 'Q': 14.9621}, 'type': 'LTO', 'filepath': ['D:\\\\!Science\\\\Физтех\\\\Циклирования\\\\28.05.24 - результаты\\\\LTO\\\\7. Заявка № 71 К3 К13\\\\1 п1-4.1\\\\К13\\\\BTS82-131-1-8-2818575909-20240403111718-Программа Пункт 1-4.1 LTO-NMC.xlsx'], 'Number': 14}\n"
     ]
    },
    {
     "name": "stderr",
     "output_type": "stream",
     "text": [
      "D:\\Python\\Projects\\Battery_Parser\\venv\\Lib\\site-packages\\openpyxl\\styles\\stylesheet.py:226: UserWarning: Workbook contains no default style, apply openpyxl's default\n",
      "  warn(\"Workbook contains no default style, apply openpyxl's default\")\n"
     ]
    },
    {
     "name": "stdout",
     "output_type": "stream",
     "text": [
      "dst step 3 ok\n",
      "{'1': {'Q_dch': 15.3766, 'En_dch': 34.9707, 'Q_ch': 15.399, 'En_ch': 36.2511, 'Datetime': Timestamp('2024-04-03 11:17:09'), 'Q_eff': 0.9985453600883175, 'T_max': 30.0, 'index': 0, 'En_eff': 0.9646796924782972}, '2': {'P_max': -92.6411}, '2.1': {'R': 0.0013750420539357224}, '3': {'full_dst': 26, 'Q_dchg': 17.850700000000003, 'Q_chg': 2.9, 'Q': 14.950700000000003}, 'type': 'LTO', 'filepath': ['D:\\\\!Science\\\\Физтех\\\\Циклирования\\\\28.05.24 - результаты\\\\LTO\\\\7. Заявка № 71 К3 К13\\\\1 п1-4.1\\\\К3\\\\BTS82-131-1-7-2818575909-20240403111709-Программа Пункт 1-4.1 LTO-NMC.xlsx'], 'Number': 15}\n"
     ]
    },
    {
     "name": "stderr",
     "output_type": "stream",
     "text": [
      "D:\\Python\\Projects\\Battery_Parser\\venv\\Lib\\site-packages\\openpyxl\\styles\\stylesheet.py:226: UserWarning: Workbook contains no default style, apply openpyxl's default\n",
      "  warn(\"Workbook contains no default style, apply openpyxl's default\")\n"
     ]
    },
    {
     "name": "stdout",
     "output_type": "stream",
     "text": [
      "dst step 3 ok\n",
      "{'1': {'Q_dch': 17.8888, 'En_dch': 65.8582, 'Q_ch': 17.7845, 'En_ch': 67.7339, 'Datetime': Timestamp('2024-03-25 10:01:27'), 'Q_eff': 1.0058646574264105, 'T_max': 31.6, 'index': 0, 'En_eff': 0.9723078104169403}, '2': {'P_max': -193.1927}, '2.1': {'R': 0.0017326505160851025}, '3': {'full_dst': 26, 'Q_dchg': 21.2164, 'Q_chg': 3.4246, 'Q': 17.791800000000002}, 'type': 'NMC', 'filepath': ['D:\\\\!Science\\\\Физтех\\\\Циклирования\\\\28.05.24 - результаты\\\\NMC\\\\Заявка № 60 Образцы C-NMC № 010, 011\\\\1. Пункт 1-4.1\\\\010\\\\BTS82-131-1-1-2818575908-20240325100127-пункт 1-4.1.xlsx'], 'Number': 16}\n"
     ]
    },
    {
     "name": "stderr",
     "output_type": "stream",
     "text": [
      "D:\\Python\\Projects\\Battery_Parser\\venv\\Lib\\site-packages\\openpyxl\\styles\\stylesheet.py:226: UserWarning: Workbook contains no default style, apply openpyxl's default\n",
      "  warn(\"Workbook contains no default style, apply openpyxl's default\")\n"
     ]
    },
    {
     "name": "stdout",
     "output_type": "stream",
     "text": [
      "dst step 3 ok\n",
      "{'1': {'Q_dch': 17.9814, 'En_dch': 66.1849, 'Q_ch': 17.826, 'En_ch': 67.8543, 'Datetime': Timestamp('2024-03-25 10:01:37'), 'Q_eff': 1.008717603500505, 'T_max': 32.4, 'index': 0, 'En_eff': 0.975397285065206}, '2': {'P_max': -192.9649}, '2.1': {'R': 0.0017987331906272222}, '3': {'full_dst': 26, 'Q_dchg': 21.2515, 'Q_chg': 3.4231, 'Q': 17.828400000000002}, 'type': 'NMC', 'filepath': ['D:\\\\!Science\\\\Физтех\\\\Циклирования\\\\28.05.24 - результаты\\\\NMC\\\\Заявка № 60 Образцы C-NMC № 010, 011\\\\1. Пункт 1-4.1\\\\011\\\\BTS82-131-1-2-2818575908-20240325100138-пункт 1-4.1.xlsx'], 'Number': 17}\n"
     ]
    },
    {
     "name": "stderr",
     "output_type": "stream",
     "text": [
      "D:\\Python\\Projects\\Battery_Parser\\venv\\Lib\\site-packages\\openpyxl\\styles\\stylesheet.py:226: UserWarning: Workbook contains no default style, apply openpyxl's default\n",
      "  warn(\"Workbook contains no default style, apply openpyxl's default\")\n"
     ]
    },
    {
     "name": "stdout",
     "output_type": "stream",
     "text": [
      "dst step 3 ok\n",
      "{'1': {'Q_dch': 17.9286, 'En_dch': 65.9671, 'Q_ch': 18.3305, 'En_ch': 69.6355, 'Datetime': Timestamp('2024-03-14 16:19:30'), 'Q_eff': 0.9780747933771582, 'T_max': 32.3, 'index': 0, 'En_eff': 0.9473199732894861}, '2': {'P_max': -192.8555}, '2.1': {'R': 0.0018819624727837618}, '3': {'full_dst': 26, 'Q_dchg': 21.225, 'Q_chg': 3.4214, 'Q': 17.803600000000003}, 'type': 'NMC', 'filepath': ['D:\\\\!Science\\\\Физтех\\\\Циклирования\\\\28.05.24 - результаты\\\\NMC\\\\Заявка №57 KAMAZ 006-007\\\\1. Пункт 1-4.1\\\\006\\\\BTS82-133-1-1-79-20240314161930-пункт 1-4.1.xlsx'], 'Number': 18}\n"
     ]
    },
    {
     "name": "stderr",
     "output_type": "stream",
     "text": [
      "D:\\Python\\Projects\\Battery_Parser\\venv\\Lib\\site-packages\\openpyxl\\styles\\stylesheet.py:226: UserWarning: Workbook contains no default style, apply openpyxl's default\n",
      "  warn(\"Workbook contains no default style, apply openpyxl's default\")\n"
     ]
    },
    {
     "name": "stdout",
     "output_type": "stream",
     "text": [
      "dst step 3 ok\n",
      "{'1': {'Q_dch': 17.8399, 'En_dch': 65.6204, 'Q_ch': 17.7114, 'En_ch': 67.4626, 'Datetime': Timestamp('2024-03-14 16:19:46'), 'Q_eff': 1.0072552141558544, 'T_max': 32.8, 'index': 0, 'En_eff': 0.9726930180574127}, '2': {'P_max': -192.6968}, '2.1': {'R': 0.0018957681015129653}, '3': {'full_dst': 26, 'Q_dchg': 21.1884, 'Q_chg': 3.4217, 'Q': 17.7667}, 'type': 'NMC', 'filepath': ['D:\\\\!Science\\\\Физтех\\\\Циклирования\\\\28.05.24 - результаты\\\\NMC\\\\Заявка №57 KAMAZ 006-007\\\\1. Пункт 1-4.1\\\\007\\\\BTS82-133-1-2-77-20240314161946-пункт 1-4.1.xlsx'], 'Number': 19}\n"
     ]
    },
    {
     "name": "stderr",
     "output_type": "stream",
     "text": [
      "D:\\Python\\Projects\\Battery_Parser\\venv\\Lib\\site-packages\\openpyxl\\styles\\stylesheet.py:226: UserWarning: Workbook contains no default style, apply openpyxl's default\n",
      "  warn(\"Workbook contains no default style, apply openpyxl's default\")\n"
     ]
    },
    {
     "name": "stdout",
     "output_type": "stream",
     "text": [
      "dst step 3 wrong cut!\n",
      "{'1': {'Q_dch': 17.5466, 'En_dch': 64.5725, 'Q_ch': 17.5694, 'En_ch': 66.9743, 'Datetime': Timestamp('2024-03-25 10:25:50'), 'Q_eff': 0.9987022892073719, 'T_max': 30.0, 'index': 0, 'En_eff': 0.9641384829703334}, '2': {'P_max': -192.7618}, '2.1': {'R': 0.0018398790276220717}, '3': {'full_dst': 26, 'Q_dchg': 40.0192, 'Q_chg': 21.057, 'Q': 18.9622}, 'type': 'NMC', 'filepath': ['D:\\\\!Science\\\\Физтех\\\\Циклирования\\\\28.05.24 - результаты\\\\NMC\\\\Заявка №64 C-NMC №014 №015\\\\1. Пункт 1-4.1\\\\014\\\\BTS82-131-1-5-2818575908-20240325102550-пункт 1-4.1.xlsx'], 'Number': 20}\n"
     ]
    },
    {
     "name": "stderr",
     "output_type": "stream",
     "text": [
      "D:\\Python\\Projects\\Battery_Parser\\venv\\Lib\\site-packages\\openpyxl\\styles\\stylesheet.py:226: UserWarning: Workbook contains no default style, apply openpyxl's default\n",
      "  warn(\"Workbook contains no default style, apply openpyxl's default\")\n"
     ]
    },
    {
     "name": "stdout",
     "output_type": "stream",
     "text": [
      "dst step 3 ok\n",
      "{'1': {'Q_dch': 17.6382, 'En_dch': 64.8659, 'Q_ch': 17.7534, 'En_ch': 67.63, 'Datetime': Timestamp('2024-03-25 10:26:02'), 'Q_eff': 0.993511102098753, 'T_max': 30.0, 'index': 0, 'En_eff': 0.9591290847257135}, '2': {'P_max': -192.807}, '2.1': {'R': 0.0018333915611215932}, '3': {'full_dst': 26, 'Q_dchg': 21.2101, 'Q_chg': 3.4249, 'Q': 17.7852}, 'type': 'NMC', 'filepath': ['D:\\\\!Science\\\\Физтех\\\\Циклирования\\\\28.05.24 - результаты\\\\NMC\\\\Заявка №64 C-NMC №014 №015\\\\1. Пункт 1-4.1\\\\015\\\\BTS82-131-1-6-2818575908-20240325102602-пункт 1-4.1.xlsx'], 'Number': 21}\n"
     ]
    },
    {
     "name": "stderr",
     "output_type": "stream",
     "text": [
      "D:\\Python\\Projects\\Battery_Parser\\venv\\Lib\\site-packages\\openpyxl\\styles\\stylesheet.py:226: UserWarning: Workbook contains no default style, apply openpyxl's default\n",
      "  warn(\"Workbook contains no default style, apply openpyxl's default\")\n"
     ]
    },
    {
     "name": "stdout",
     "output_type": "stream",
     "text": [
      "dst step 3 ok\n",
      "{'1': {'Q_dch': 17.7959, 'En_dch': 65.5125, 'Q_ch': 17.7652, 'En_ch': 67.6347, 'Datetime': Timestamp('2024-03-25 10:17:02'), 'Q_eff': 1.0017280976290726, 'T_max': 31.9, 'index': 0, 'En_eff': 0.9686226153143284}, '2': {'P_max': -192.8628}, '2.1': {'R': 0.0018475631123532133}, '3': {'full_dst': 26, 'Q_dchg': 21.2247, 'Q_chg': 3.4307, 'Q': 17.793999999999997}, 'type': 'NMC', 'filepath': ['D:\\\\!Science\\\\Физтех\\\\Циклирования\\\\28.05.24 - результаты\\\\NMC\\\\Заявка№ 61\\\\1. п 1- п4.1\\\\012\\\\BTS82-131-1-3-2818575908-20240325101703-пункт 1-4.1.xlsx'], 'Number': 22}\n"
     ]
    },
    {
     "name": "stderr",
     "output_type": "stream",
     "text": [
      "D:\\Python\\Projects\\Battery_Parser\\venv\\Lib\\site-packages\\openpyxl\\styles\\stylesheet.py:226: UserWarning: Workbook contains no default style, apply openpyxl's default\n",
      "  warn(\"Workbook contains no default style, apply openpyxl's default\")\n"
     ]
    },
    {
     "name": "stdout",
     "output_type": "stream",
     "text": [
      "dst step 3 ok\n",
      "{'1': {'Q_dch': 17.7674, 'En_dch': 65.4086, 'Q_ch': 17.79, 'En_ch': 67.7375, 'Datetime': Timestamp('2024-03-25 10:17:17'), 'Q_eff': 0.9987296233839236, 'T_max': 31.1, 'index': 0, 'En_eff': 0.9656187488466508}, '2': {'P_max': -192.7644}, '2.1': {'R': 0.0018335744396328893}, '3': {'full_dst': 26, 'Q_dchg': 21.2315, 'Q_chg': 3.429, 'Q': 17.802500000000002}, 'type': 'NMC', 'filepath': ['D:\\\\!Science\\\\Физтех\\\\Циклирования\\\\28.05.24 - результаты\\\\NMC\\\\Заявка№ 61\\\\1. п 1- п4.1\\\\013\\\\BTS82-131-1-4-2818575908-20240325101717-пункт 1-4.1.xlsx'], 'Number': 23}\n"
     ]
    }
   ],
   "source": [
    "test1 = []\n",
    "for i in os.walk(r'D:\\!Science\\Физтех\\Циклирования\\28.05.24 - результаты'):\n",
    "    spl = i[0].split('\\\\')\n",
    "    if '-4.1' in spl[-2] or '- п4.1' in spl[-2]:\n",
    "        test1.append(i[0])\n",
    "\n",
    "\n",
    "results_all = []\n",
    "for i, directory in enumerate(test1):\n",
    "  # Папка где лежат все эксперименты\n",
    "    path_list = directory.split('\\\\')\n",
    "    if 'NMC' in path_list:\n",
    "        key = 'NMC'\n",
    "    elif 'LTO' in path_list:\n",
    "        key = 'LTO'\n",
    "    elif 'LFP' in path_list:\n",
    "        key = 'LFP'\n",
    "    e_min, e_max, p_max = borders[key]\n",
    "    dst_all, dst_a, dst_b = create_dst(p_max)\n",
    "    p = create_pattern(e_min, e_max)\n",
    "    p['dst_all'] = dst_all\n",
    "    p['dst_b'] = dst_b\n",
    "    p['dst_a'] = dst_a\n",
    "    files = bp.list_files(directory=directory, filetype='xlsx')  # Список файлов с форматом xls из указанной папки\n",
    "    data = [bp.import_xls(filename, data_name_pattern='record', temp_name_pattern='auxTemp', temp_column_pattern='T1') for filename in files]  # Список импортированных из этих файлов\n",
    "    test_dataset = pd.concat(data,ignore_index=True)\n",
    "    test_dataset.drop('DataPoint', axis=1, inplace=True) # у нас всего один файл - на нём и работаем\n",
    "    bp.rename_columns(test_dataset)  # Изменяет названия некоторых колонок см. комментарии к функции\n",
    "    test_dataset.rename(columns={'Power(W)':'P'}, inplace=True)\n",
    "    bp.parse_time(test_dataset, time_column='Time', datetime_column='Datetime')  # Изменяет вид колонки времени на\n",
    "    # секунды, и даты в формат datetime\n",
    "    statistic_pattern = {'Step Type':'unique_values',\n",
    "                         'I':['mean', 'std'],\n",
    "                         'Time':['range', 'diff'],\n",
    "                         'Q':['max'],\n",
    "                         'E':['first', 'last','mean'],\n",
    "                         'T':['mean', 'min', 'max'],\n",
    "                         'Datetime':['min', 'max'],\n",
    "                         'Energy':'max',\n",
    "                         'P':['mean', 'last']}  # Можно задать формат статистики, возможные методы статистики см.в комментариях к bp.generate_statistics\n",
    "\n",
    "    statistics_data = bp.generate_statistics(test_dataset,\n",
    "                                             group_marker=(test_dataset['Time'] < test_dataset['Time'].shift()).cumsum(),\n",
    "                                             statistics_pattern=statistic_pattern)  # Подбивает статистику по таблице\n",
    "    statistics_data['Net Q'] = np.sign(statistics_data['I_mean'])*statistics_data['Q_max']\n",
    "    statistics_data['Net Energy'] = np.sign(statistics_data['I_mean'])*statistics_data['Energy_max']\n",
    "    statistics_data.rename(columns={'Step Type_unique_values':'Step Type'}, inplace=True)\n",
    "    statistics_data['Step Type'] = statistics_data['Step Type'].str.lower()\n",
    "    result = extract_results1(statistics_data)\n",
    "    result['type'] = key\n",
    "    result['filepath'] = files\n",
    "    result['Number'] = i\n",
    "    print(result)\n",
    "    result['statistics'] = statistics_data\n",
    "    results_all.append(result)"
   ],
   "metadata": {
    "collapsed": false,
    "ExecuteTime": {
     "end_time": "2024-06-04T12:54:53.591722300Z",
     "start_time": "2024-06-04T12:27:35.315493100Z"
    }
   }
  },
  {
   "cell_type": "code",
   "execution_count": 41,
   "outputs": [
    {
     "name": "stdout",
     "output_type": "stream",
     "text": [
      "dst step 3 ok\n"
     ]
    },
    {
     "data": {
      "text/plain": "{'1': {'Q_dch': 17.7674,\n  'En_dch': 65.4086,\n  'Q_ch': 17.79,\n  'En_ch': 67.7375,\n  'Datetime': Timestamp('2024-03-25 10:17:17'),\n  'Q_eff': 0.9987296233839236,\n  'T_max': 31.1,\n  'index': 0,\n  'En_eff': 0.9656187488466508},\n '2': {'P_max': -192.7644},\n '2.1': {'R': 0.0018335744396328893},\n '3': {'full_dst': 26,\n  'Q_dchg': 21.2315,\n  'Q_chg': 3.429,\n  'Q': 17.802500000000002}}"
     },
     "execution_count": 41,
     "metadata": {},
     "output_type": "execute_result"
    }
   ],
   "source": [
    "data = results_all[20]['statistics']\n",
    "pattern = []\n",
    "for i  in p:\n",
    "    if 'full_cycle' in i:\n",
    "        pattern.extend(find_pattern(statistics_data, p[i]))\n",
    "results = {}\n",
    "data = statistics_data.loc[pattern[0]]\n",
    "start_idx, result = step_1(data)\n",
    "results['1'] = result\n",
    "\n",
    "pattern = find_pattern(statistics_data.loc[start_idx:], p['power'])\n",
    "data = statistics_data.loc[pattern[0]]\n",
    "start_idx, result = step_2(data)\n",
    "results['2'] = result\n",
    "\n",
    "pattern = find_pattern(statistics_data.loc[start_idx:], p['R'])\n",
    "data = statistics_data.loc[pattern[0]]\n",
    "start_idx, result = step_2_1(data)\n",
    "results['2.1'] = result\n",
    "\n",
    "start_search = find_pattern(statistics_data.loc[start_idx:], p['charge'])[0][0]\n",
    "end_search = find_pattern(statistics_data.loc[start_search:], p['discharge'])[0][0]\n",
    "data = statistics_data.loc[start_search+1:end_search]\n",
    "start_idx, result = step_3(data)\n",
    "results['3'] = result\n",
    "results"
   ],
   "metadata": {
    "collapsed": false,
    "ExecuteTime": {
     "end_time": "2024-06-04T12:58:46.291102700Z",
     "start_time": "2024-06-04T12:58:42.099357700Z"
    }
   }
  },
  {
   "cell_type": "code",
   "execution_count": 57,
   "outputs": [
    {
     "name": "stdout",
     "output_type": "stream",
     "text": [
      "['D:\\\\!Science\\\\Физтех\\\\Циклирования\\\\28.05.24 - результаты\\\\LFP\\\\Заявка №73 Старение+45 2-3\\\\1. Пункт 1-4.1\\\\№2\\\\BTS82-130-1-1-231-20240408143806-Программа п1-п4.1 C-LFP.xlsx']\n",
      "['D:\\\\!Science\\\\Физтех\\\\Циклирования\\\\28.05.24 - результаты\\\\LFP\\\\Заявка №73 Старение+45 2-3\\\\1. Пункт 1-4.1\\\\№3\\\\BTS82-130-1-2-231-20240408143819-Программа п1-п4.1 C-LFP.xlsx']\n",
      "['D:\\\\!Science\\\\Физтех\\\\Циклирования\\\\28.05.24 - результаты\\\\LFP\\\\Заявка №74 Старение +45 4-5\\\\1. Пункт 1-4.1\\\\4\\\\BTS82-130-1-3-231-20240408144813-Программа п1-п4.1 C-LFP.xlsx']\n",
      "['D:\\\\!Science\\\\Физтех\\\\Циклирования\\\\28.05.24 - результаты\\\\LFP\\\\Заявка №74 Старение +45 4-5\\\\1. Пункт 1-4.1\\\\5\\\\BTS82-130-1-4-231-20240408144824-Программа п1-п4.1 C-LFP.xlsx']\n",
      "['D:\\\\!Science\\\\Физтех\\\\Циклирования\\\\28.05.24 - результаты\\\\LFP\\\\Заявка №75 Старение +60\\\\1. Пункт 1-4.1\\\\№6\\\\BTS82-130-1-5-231-20240408145729-Программа п1-п4.1 C-LFP.xlsx']\n",
      "['D:\\\\!Science\\\\Физтех\\\\Циклирования\\\\28.05.24 - результаты\\\\LFP\\\\Заявка №75 Старение +60\\\\1. Пункт 1-4.1\\\\№7\\\\BTS82-130-1-6-231-20240408145742-Программа п1-п4.1 C-LFP.xlsx']\n",
      "['D:\\\\!Science\\\\Физтех\\\\Циклирования\\\\28.05.24 - результаты\\\\LFP\\\\Заявка №76 Старение НКУ\\\\1. п1-4.1\\\\1\\\\BTS82-130-1-8-232-20240409161449-Программа п1-п4.1 C-LFP.xlsx']\n",
      "['D:\\\\!Science\\\\Физтех\\\\Циклирования\\\\28.05.24 - результаты\\\\LFP\\\\Заявка №76 Старение НКУ\\\\1. п1-4.1\\\\8\\\\BTS82-130-1-7-233-20240409161438-Программа п1-п4.1 C-LFP.xlsx']\n",
      "['D:\\\\!Science\\\\Физтех\\\\Циклирования\\\\28.05.24 - результаты\\\\LTO\\\\4. Заявка №68 К4 К5\\\\1. Пункт 1-4.1\\\\К4\\\\BTS82-131-1-1-2818575909-20240403110546-Программа Пункт 1-4.1 LTO-NMC.xlsx']\n",
      "['D:\\\\!Science\\\\Физтех\\\\Циклирования\\\\28.05.24 - результаты\\\\LTO\\\\4. Заявка №68 К4 К5\\\\1. Пункт 1-4.1\\\\К5\\\\BTS82-131-1-2-2818575909-20240403110558-Программа Пункт 1-4.1 LTO-NMC.xlsx']\n",
      "['D:\\\\!Science\\\\Физтех\\\\Циклирования\\\\28.05.24 - результаты\\\\LTO\\\\5. Заявка №69 К11 К12\\\\1. п1-4.1\\\\К11\\\\BTS82-131-1-3-2818575909-20240403111126-Программа Пункт 1-4.1 LTO-NMC.xlsx']\n",
      "['D:\\\\!Science\\\\Физтех\\\\Циклирования\\\\28.05.24 - результаты\\\\LTO\\\\5. Заявка №69 К11 К12\\\\1. п1-4.1\\\\К12\\\\BTS82-131-1-4-2818575909-20240403111136-Программа Пункт 1-4.1 LTO-NMC.xlsx']\n",
      "['D:\\\\!Science\\\\Физтех\\\\Циклирования\\\\28.05.24 - результаты\\\\LTO\\\\6. Заявка №70 К6 К7\\\\1. п1-4.1\\\\К6\\\\BTS82-131-1-5-2818575909-20240403111405-Программа Пункт 1-4.1 LTO-NMC.xlsx']\n",
      "['D:\\\\!Science\\\\Физтех\\\\Циклирования\\\\28.05.24 - результаты\\\\LTO\\\\6. Заявка №70 К6 К7\\\\1. п1-4.1\\\\К7\\\\BTS82-131-1-6-2818575909-20240403111415-Программа Пункт 1-4.1 LTO-NMC.xlsx']\n",
      "['D:\\\\!Science\\\\Физтех\\\\Циклирования\\\\28.05.24 - результаты\\\\LTO\\\\7. Заявка № 71 К3 К13\\\\1 п1-4.1\\\\К13\\\\BTS82-131-1-8-2818575909-20240403111718-Программа Пункт 1-4.1 LTO-NMC.xlsx']\n",
      "['D:\\\\!Science\\\\Физтех\\\\Циклирования\\\\28.05.24 - результаты\\\\LTO\\\\7. Заявка № 71 К3 К13\\\\1 п1-4.1\\\\К3\\\\BTS82-131-1-7-2818575909-20240403111709-Программа Пункт 1-4.1 LTO-NMC.xlsx']\n",
      "['D:\\\\!Science\\\\Физтех\\\\Циклирования\\\\28.05.24 - результаты\\\\NMC\\\\Заявка № 60 Образцы C-NMC № 010, 011\\\\1. Пункт 1-4.1\\\\010\\\\BTS82-131-1-1-2818575908-20240325100127-пункт 1-4.1.xlsx']\n",
      "['D:\\\\!Science\\\\Физтех\\\\Циклирования\\\\28.05.24 - результаты\\\\NMC\\\\Заявка № 60 Образцы C-NMC № 010, 011\\\\1. Пункт 1-4.1\\\\011\\\\BTS82-131-1-2-2818575908-20240325100138-пункт 1-4.1.xlsx']\n",
      "['D:\\\\!Science\\\\Физтех\\\\Циклирования\\\\28.05.24 - результаты\\\\NMC\\\\Заявка №57 KAMAZ 006-007\\\\1. Пункт 1-4.1\\\\006\\\\BTS82-133-1-1-79-20240314161930-пункт 1-4.1.xlsx']\n",
      "['D:\\\\!Science\\\\Физтех\\\\Циклирования\\\\28.05.24 - результаты\\\\NMC\\\\Заявка №57 KAMAZ 006-007\\\\1. Пункт 1-4.1\\\\007\\\\BTS82-133-1-2-77-20240314161946-пункт 1-4.1.xlsx']\n",
      "['D:\\\\!Science\\\\Физтех\\\\Циклирования\\\\28.05.24 - результаты\\\\NMC\\\\Заявка №64 C-NMC №014 №015\\\\1. Пункт 1-4.1\\\\014\\\\BTS82-131-1-5-2818575908-20240325102550-пункт 1-4.1.xlsx']\n",
      "['D:\\\\!Science\\\\Физтех\\\\Циклирования\\\\28.05.24 - результаты\\\\NMC\\\\Заявка №64 C-NMC №014 №015\\\\1. Пункт 1-4.1\\\\015\\\\BTS82-131-1-6-2818575908-20240325102602-пункт 1-4.1.xlsx']\n",
      "['D:\\\\!Science\\\\Физтех\\\\Циклирования\\\\28.05.24 - результаты\\\\NMC\\\\Заявка№ 61\\\\1. п 1- п4.1\\\\012\\\\BTS82-131-1-3-2818575908-20240325101703-пункт 1-4.1.xlsx']\n",
      "['D:\\\\!Science\\\\Физтех\\\\Циклирования\\\\28.05.24 - результаты\\\\NMC\\\\Заявка№ 61\\\\1. п 1- п4.1\\\\013\\\\BTS82-131-1-4-2818575908-20240325101717-пункт 1-4.1.xlsx']\n"
     ]
    }
   ],
   "source": [
    "\n",
    "for i, directory in enumerate(test1):\n",
    "  # Папка где лежат все эксперименты\n",
    "    path_list = directory.split('\\\\')\n",
    "    if 'NMC' in path_list:\n",
    "        key = 'NMC'\n",
    "    elif 'LTO' in path_list:\n",
    "        key = 'LTO'\n",
    "    elif 'LFP' in path_list:\n",
    "        key = 'LFP'\n",
    "    e_min, e_max, p_max = borders[key]\n",
    "    dst_all, dst_a, dst_b = create_dst(p_max)\n",
    "    p = create_pattern(e_min, e_max)\n",
    "    p['dst_all'] = dst_all\n",
    "    p['dst_b'] = dst_b\n",
    "    p['dst_a'] = dst_a\n",
    "    files = bp.list_files(directory=directory, filetype='xlsx')  # Список файлов с форматом xls из указанной папки\n",
    "    print(files)"
   ],
   "metadata": {
    "collapsed": false,
    "ExecuteTime": {
     "end_time": "2024-06-04T15:38:20.989825500Z",
     "start_time": "2024-06-04T15:38:20.965096800Z"
    }
   }
  },
  {
   "cell_type": "code",
   "execution_count": 63,
   "outputs": [
    {
     "data": {
      "text/plain": "24"
     },
     "execution_count": 63,
     "metadata": {},
     "output_type": "execute_result"
    }
   ],
   "source": [
    "len(test1)\n"
   ],
   "metadata": {
    "collapsed": false,
    "ExecuteTime": {
     "end_time": "2024-06-04T15:48:43.298372900Z",
     "start_time": "2024-06-04T15:48:43.285493Z"
    }
   }
  },
  {
   "cell_type": "code",
   "execution_count": 61,
   "outputs": [
    {
     "data": {
      "text/plain": "[('131', '4')]"
     },
     "execution_count": 61,
     "metadata": {},
     "output_type": "execute_result"
    }
   ],
   "source": [
    "\n",
    "channel = '-(13[0-9])-.-([0-9])'\n",
    "a= re.findall(channel, files[0])\n",
    "a"
   ],
   "metadata": {
    "collapsed": false,
    "ExecuteTime": {
     "end_time": "2024-06-04T15:46:48.710376400Z",
     "start_time": "2024-06-04T15:46:48.702856800Z"
    }
   }
  }
 ],
 "metadata": {
  "kernelspec": {
   "display_name": "Python 3",
   "language": "python",
   "name": "python3"
  },
  "language_info": {
   "codemirror_mode": {
    "name": "ipython",
    "version": 2
   },
   "file_extension": ".py",
   "mimetype": "text/x-python",
   "name": "python",
   "nbconvert_exporter": "python",
   "pygments_lexer": "ipython2",
   "version": "2.7.6"
  }
 },
 "nbformat": 4,
 "nbformat_minor": 0
}
