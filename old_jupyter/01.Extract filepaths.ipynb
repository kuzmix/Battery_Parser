{
 "cells": [
  {
   "cell_type": "code",
   "metadata": {
    "collapsed": true,
    "ExecuteTime": {
     "end_time": "2024-10-24T20:33:53.925831Z",
     "start_time": "2024-10-24T20:33:53.450050Z"
    }
   },
   "source": [
    "import os\n",
    "\n",
    "import battery_parser as bp"
   ],
   "outputs": [],
   "execution_count": 1
  },
  {
   "cell_type": "code",
   "source": "root_dir = r'D:\\!Science\\Физтех\\Циклирования\\Эксперименты_метро'",
   "metadata": {
    "collapsed": false,
    "ExecuteTime": {
     "end_time": "2024-10-24T20:33:53.936345Z",
     "start_time": "2024-10-24T20:33:53.932848Z"
    }
   },
   "outputs": [],
   "execution_count": 2
  },
  {
   "cell_type": "code",
   "source": [
    "files = bp.list_files(directory=root_dir,\n",
    "                      filetype='xlsx')  #TODO добавить ключ, по которому можно будет регулировать глубину погружения"
   ],
   "metadata": {
    "collapsed": false,
    "ExecuteTime": {
     "end_time": "2024-10-24T20:41:26.069013Z",
     "start_time": "2024-10-24T20:41:26.033240Z"
    }
   },
   "outputs": [],
   "execution_count": 23
  },
  {
   "cell_type": "code",
   "source": [
    "patterns = [r'([A-Z]{3})',\n",
    "            r'[^\\\\]+?№\\s?(\\d\\d)[^\\\\]*',\n",
    "            r'(\\d\\d)[^\\\\]*',\n",
    "            r'[A-Za-z-\\s№А-Я]*([0-9]{1,3}).*?(?:\\\\[^\\\\]*)?',\n",
    "            r'[^\\\\]*-(13[0-9])-.-([0-9]).*-([0-9]{14})']\n",
    "column_names = ['Chem', 'Tech', 'Step_id', 'Pouch', 'Potentiostat', 'Channel', 'Datetime_id']\n",
    "pattern = r'\\\\'.join(patterns)\n",
    "print(pattern)\n",
    "parser = bp.importing.Regex_parse()\n",
    "result = parser(strings=files, pattern=pattern, column_names=column_names)"
   ],
   "metadata": {
    "collapsed": false,
    "ExecuteTime": {
     "end_time": "2024-10-24T20:41:26.809477Z",
     "start_time": "2024-10-24T20:41:26.799477Z"
    }
   },
   "outputs": [
    {
     "name": "stdout",
     "output_type": "stream",
     "text": [
      "([A-Z]{3})\\\\[^\\\\]+?№\\s?(\\d\\d)[^\\\\]*\\\\(\\d\\d)[^\\\\]*\\\\[A-Za-z-\\s№А-Я]*([0-9]{1,3}).*?(?:\\\\[^\\\\]*)?\\\\[^\\\\]*-(13[0-9])-.-([0-9]).*-([0-9]{14})\n"
     ]
    }
   ],
   "execution_count": 24
  },
  {
   "cell_type": "code",
   "source": [
    "type_convert = {i: str for i in result.columns}\n",
    "result = result.astype({'Pouch': int}, copy=True)\n",
    "result = result.astype(type_convert, copy=True)\n",
    "\n",
    "result['ID'] = result['Chem'] + result['Pouch']\n",
    "result.insert(0, 'ID', result.pop('ID'))\n",
    "\n",
    "thermos = {'1': ['NMC14', 'NMC15', 'LTO7', 'LTO6', 'LFP4', 'LFP5'],\n",
    "           '2': ['LFP2', 'LFP3', 'NMC6', 'NMC7', 'LTO11', 'LTO12'],\n",
    "           '3': ['NMC12', 'NMC13', 'LTO13', 'LTO3', 'LFP6', 'LFP7']}\n",
    "protocol = {'gost45': ['NMC6', 'NMC7', 'LTO11', 'LTO12', 'LFP2', 'LFP3', 'LFP10', 'LFP11'],\n",
    "            'gost60': ['NMC12', 'NMC13', 'LTO13', 'LTO3', 'LFP6', 'LFP7', 'LFP12', 'LFP13'],\n",
    "            'Imax45': ['NMC14', 'NMC15', 'LTO7', 'LTO6', 'LFP4', 'LFP5', 'LFP9', 'LFP18'],\n",
    "            'CCroom': ['NMC10', 'NMC11', 'LTO4', 'LTO5', 'LFP1', 'LFP8']}\n"
   ],
   "metadata": {
    "collapsed": false,
    "ExecuteTime": {
     "end_time": "2024-10-24T20:41:30.253396Z",
     "start_time": "2024-10-24T20:41:30.215810Z"
    }
   },
   "outputs": [],
   "execution_count": 25
  },
  {
   "cell_type": "code",
   "source": [
    "if bp.modifications.check_dict_intersection(thermos) or bp.modifications.check_dict_intersection(protocol):\n",
    "    print('Intersection!')\n",
    "\n",
    "\n",
    "class Find_key:\n",
    "    def __init__(self, check_dict):\n",
    "        self.dictionary = check_dict\n",
    "\n",
    "    def __call__(self, element):\n",
    "        result = [key for key, value in self.dictionary.items() if element in value]\n",
    "        if len(result) == 1:\n",
    "            return result[0]\n",
    "        return result\n",
    "\n",
    "\n",
    "thermos_creator = Find_key(thermos)\n",
    "technique_creator = Find_key(protocol)"
   ],
   "metadata": {
    "collapsed": false,
    "ExecuteTime": {
     "end_time": "2024-10-24T20:41:31.865003Z",
     "start_time": "2024-10-24T20:41:31.856525Z"
    }
   },
   "outputs": [],
   "execution_count": 26
  },
  {
   "cell_type": "code",
   "source": [
    "result['Protocol'] = result['ID'].apply(technique_creator)\n",
    "result.insert(2, 'Protocol', result.pop('Protocol'))\n",
    "result['Thermos'] = result['ID'].apply(thermos_creator)\n",
    "result.insert(6, 'Thermos', result.pop('Thermos'))\n"
   ],
   "metadata": {
    "collapsed": false,
    "ExecuteTime": {
     "end_time": "2024-10-24T20:41:33.385509Z",
     "start_time": "2024-10-24T20:41:33.371856Z"
    }
   },
   "outputs": [],
   "execution_count": 27
  },
  {
   "cell_type": "code",
   "source": "result.sort_values('Step_id', inplace=True)",
   "metadata": {
    "collapsed": false,
    "ExecuteTime": {
     "end_time": "2024-10-24T20:41:34.730017Z",
     "start_time": "2024-10-24T20:41:34.724167Z"
    }
   },
   "outputs": [],
   "execution_count": 28
  },
  {
   "metadata": {
    "ExecuteTime": {
     "end_time": "2024-10-24T20:41:35.670264Z",
     "start_time": "2024-10-24T20:41:35.656177Z"
    }
   },
   "cell_type": "code",
   "source": [
    "result_path = os.path.join(r'D:\\!Science\\Физтех\\Циклирования\\Результаты-2', 'File_statistics.csv')\n",
    "bp.exporting.save_experiment(result, result_path)\n"
   ],
   "outputs": [],
   "execution_count": 29
  }
 ],
 "metadata": {
  "kernelspec": {
   "display_name": "Python 3",
   "language": "python",
   "name": "python3"
  },
  "language_info": {
   "codemirror_mode": {
    "name": "ipython",
    "version": 2
   },
   "file_extension": ".py",
   "mimetype": "text/x-python",
   "name": "python",
   "nbconvert_exporter": "python",
   "pygments_lexer": "ipython2",
   "version": "2.7.6"
  }
 },
 "nbformat": 4,
 "nbformat_minor": 0
}
