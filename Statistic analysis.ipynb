{
 "cells": [
  {
   "cell_type": "code",
   "metadata": {
    "collapsed": true,
    "ExecuteTime": {
     "end_time": "2024-06-24T07:54:38.152247Z",
     "start_time": "2024-06-24T07:54:36.520121Z"
    }
   },
   "source": [
    "import battery_parser as bp\n",
    "import os\n",
    "import pandas as pd\n",
    "import numpy as np\n",
    "import re\n",
    "import copy\n",
    "import itertools\n",
    "import matplotlib.pyplot as plt"
   ],
   "outputs": [],
   "execution_count": 1
  },
  {
   "cell_type": "code",
   "source": [
    "root_dir  = r'D:\\!Science\\Физтех\\Циклирования\\Результаты'\n",
    "lst_stat = bp.importing.list_files(os.path.join(root_dir,'Статистика', '3'), 'csv')\n",
    "stats_import = [bp.exporting.load_experiment(i) for i in lst_stat]\n",
    "for data, path in zip(stats_import, lst_stat):\n",
    "    pouch_id = os.path.splitext(os.path.split(path)[1])[0]\n",
    "    data.attrs.setdefault('id', pouch_id)"
   ],
   "metadata": {
    "collapsed": false,
    "ExecuteTime": {
     "end_time": "2024-06-24T07:55:51.779879Z",
     "start_time": "2024-06-24T07:55:48.245816Z"
    }
   },
   "outputs": [],
   "execution_count": 3
  },
  {
   "metadata": {
    "ExecuteTime": {
     "end_time": "2024-06-24T08:06:57.282002Z",
     "start_time": "2024-06-24T08:06:57.273368Z"
    }
   },
   "cell_type": "code",
   "source": "stats = bp.exporting.load_experiment(os.path.join(root_dir, 'File_statistics.csv'))",
   "outputs": [],
   "execution_count": 4
  },
  {
   "metadata": {
    "ExecuteTime": {
     "end_time": "2024-06-24T11:04:32.701268Z",
     "start_time": "2024-06-24T11:04:32.677240Z"
    }
   },
   "cell_type": "code",
   "source": [
    "unique_stats = {}\n",
    "for i in stats.groupby('ID'):\n",
    "    unique_stats[i[0]] = {column:i[1][column].unique() for column in i[1]}\n",
    "    \n",
    "unique_stats = pd.DataFrame.from_dict(unique_stats, orient='index')\n"
   ],
   "outputs": [],
   "execution_count": 45
  },
  {
   "metadata": {
    "ExecuteTime": {
     "end_time": "2024-06-24T09:16:48.018613Z",
     "start_time": "2024-06-24T09:16:48.014068Z"
    }
   },
   "cell_type": "code",
   "source": "stats['date'] = pd.to_datetime(stats['Datetime_id'], format='%Y%m%d%H%M%S')",
   "outputs": [],
   "execution_count": 28
  },
  {
   "metadata": {
    "ExecuteTime": {
     "end_time": "2024-06-24T11:04:36.984871Z",
     "start_time": "2024-06-24T11:04:36.978947Z"
    }
   },
   "cell_type": "code",
   "source": [
    "unique_stats['Chem'] = unique_stats['Chem'].apply(lambda x:x[0])\n",
    "unique_stats['ID'] = unique_stats['ID'].apply(lambda x:x[0])"
   ],
   "outputs": [],
   "execution_count": 46
  },
  {
   "metadata": {},
   "cell_type": "code",
   "outputs": [],
   "execution_count": null,
   "source": ""
  },
  {
   "metadata": {
    "ExecuteTime": {
     "end_time": "2024-06-24T09:30:27.812302Z",
     "start_time": "2024-06-24T09:30:27.804533Z"
    }
   },
   "cell_type": "code",
   "source": [
    "stats_changes = bp.exporting.load_experiment(os.path.join(root_dir,'Changes 1-4.csv'))\n",
    "stats_changes.insert(3,'Chem', unique_stats['Chem'])\n"
   ],
   "outputs": [],
   "execution_count": 40
  },
  {
   "metadata": {
    "ExecuteTime": {
     "end_time": "2024-06-24T11:05:03.135885Z",
     "start_time": "2024-06-24T11:05:03.127366Z"
    }
   },
   "cell_type": "code",
   "source": [
    "stats_step3 = bp.exporting.load_experiment(os.path.join(root_dir,'Step3.csv'))\n",
    "stats_step3.insert(3,'Chem', unique_stats['Chem'])\n",
    "stats_step3.insert(3,'ID', unique_stats['ID'])\n"
   ],
   "outputs": [],
   "execution_count": 47
  },
  {
   "metadata": {
    "ExecuteTime": {
     "end_time": "2024-06-24T11:25:46.398957Z",
     "start_time": "2024-06-24T11:25:46.393487Z"
    }
   },
   "cell_type": "code",
   "source": "stat_mean = stats_changes.groupby([ 'Chem', 'Protocol'] ).mean()",
   "outputs": [],
   "execution_count": 49
  },
  {
   "metadata": {
    "ExecuteTime": {
     "end_time": "2024-06-24T11:31:07.797951Z",
     "start_time": "2024-06-24T11:31:07.791111Z"
    }
   },
   "cell_type": "code",
   "source": "stats_step3_mean = stats_step3.groupby([ 'Chem', 'Protocol'])[['n_cycles','Q_fade', 'Qch_fade']].mean()",
   "outputs": [],
   "execution_count": 52
  }
 ],
 "metadata": {
  "kernelspec": {
   "display_name": "Python 3",
   "language": "python",
   "name": "python3"
  },
  "language_info": {
   "codemirror_mode": {
    "name": "ipython",
    "version": 2
   },
   "file_extension": ".py",
   "mimetype": "text/x-python",
   "name": "python",
   "nbconvert_exporter": "python",
   "pygments_lexer": "ipython2",
   "version": "2.7.6"
  }
 },
 "nbformat": 4,
 "nbformat_minor": 0
}
