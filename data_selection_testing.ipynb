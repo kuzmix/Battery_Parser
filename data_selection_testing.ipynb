{
 "cells": [
  {
   "cell_type": "code",
   "execution_count": 1,
   "metadata": {
    "collapsed": true,
    "ExecuteTime": {
     "end_time": "2024-06-10T10:14:53.810499200Z",
     "start_time": "2024-06-10T10:14:51.120777400Z"
    }
   },
   "outputs": [],
   "source": [
    "import battery_parser as bp\n",
    "import os\n",
    "import pandas as pd\n",
    "import numpy as np\n",
    "import re\n",
    "import copy\n",
    "import itertools"
   ]
  },
  {
   "cell_type": "code",
   "execution_count": 2,
   "outputs": [
    {
     "name": "stdout",
     "output_type": "stream",
     "text": [
      "Warning! For \n",
      " D:\\!Science\\Физтех\\Циклирования\\28.05.24 - результаты\\LFP\\Заявка №73 Старение+45 2-3\\4. п.5 Циклирование 28 дней\\разряд Приложение Б\\BTS82-133-1-7-99-20240416085854-Разряд профилем Б.xlsx \n",
      " found 0 entries!\n",
      "Warning! For \n",
      " D:\\!Science\\Физтех\\Циклирования\\28.05.24 - результаты\\LFP\\Заявка №73 Старение+45 2-3\\4. п.5 Циклирование 28 дней\\разряд Приложение Б\\BTS82-133-1-8-99-20240416085912-Разряд профилем Б.xlsx \n",
      " found 0 entries!\n"
     ]
    },
    {
     "data": {
      "text/plain": "        ID Chem Protocol                         Tech  Step_id  \\\n60    LTO3  LTO   gost60        7. Заявка № 71 К3 К13        1   \n65   LTO13  LTO   gost60        7. Заявка № 71 К3 К13        1   \n95    NMC7  NMC   gost45     Заявка №57 KAMAZ 006-007        1   \n91    NMC6  NMC   gost45     Заявка №57 KAMAZ 006-007        1   \n52   NMC15  NMC   Imax45   Заявка №64 C-NMC №014 №015        1   \n..     ...  ...      ...                          ...      ...   \n115   LFP2  LFP   gost45   Заявка №73 Старение+45 2-3        4   \n85    LFP6  LFP   gost60      Заявка №75 Старение +60        4   \n110   LFP5  LFP   Imax45  Заявка №74 Старение +45 4-5        4   \n81    LFP1  LFP   CCroom      Заявка №76 Старение НКУ        4   \n3     LFP8  LFP   CCroom      Заявка №76 Старение НКУ        4   \n\n                                   Step Pouch Thermos Potentiostat Channel  \\\n60                             1 п1-4.1     3       3          131       7   \n65                             1 п1-4.1    13       3          131       8   \n95                       1. Пункт 1-4.1     7       2          133       2   \n91                       1. Пункт 1-4.1     6       2          133       1   \n52                       1. Пункт 1-4.1    15       1          131       6   \n..                                  ...   ...     ...          ...     ...   \n115  5. Испытание рабочих характеристик     2       2          133       7   \n85   5. Испытание рабочих характеристик     6       3          132       7   \n110  5. Испытание рабочих характеристик     5       1          133       6   \n81                           5. Пункт 6     1      []          132       6   \n3                            5. Пункт 6     8      []          130       1   \n\n        Datetime_id                                               Path  \n60   20240403111709  D:\\!Science\\Физтех\\Циклирования\\28.05.24 - рез...  \n65   20240403111718  D:\\!Science\\Физтех\\Циклирования\\28.05.24 - рез...  \n95   20240314161946  D:\\!Science\\Физтех\\Циклирования\\28.05.24 - рез...  \n91   20240314161930  D:\\!Science\\Физтех\\Циклирования\\28.05.24 - рез...  \n52   20240325102602  D:\\!Science\\Физтех\\Циклирования\\28.05.24 - рез...  \n..              ...                                                ...  \n115  20240513133440  D:\\!Science\\Физтех\\Циклирования\\28.05.24 - рез...  \n85   20240520102038  D:\\!Science\\Физтех\\Циклирования\\28.05.24 - рез...  \n110  20240513144931  D:\\!Science\\Физтех\\Циклирования\\28.05.24 - рез...  \n81   20240514100556  D:\\!Science\\Физтех\\Циклирования\\28.05.24 - рез...  \n3    20240514100637  D:\\!Science\\Физтех\\Циклирования\\28.05.24 - рез...  \n\n[122 rows x 12 columns]",
      "text/html": "<div>\n<style scoped>\n    .dataframe tbody tr th:only-of-type {\n        vertical-align: middle;\n    }\n\n    .dataframe tbody tr th {\n        vertical-align: top;\n    }\n\n    .dataframe thead th {\n        text-align: right;\n    }\n</style>\n<table border=\"1\" class=\"dataframe\">\n  <thead>\n    <tr style=\"text-align: right;\">\n      <th></th>\n      <th>ID</th>\n      <th>Chem</th>\n      <th>Protocol</th>\n      <th>Tech</th>\n      <th>Step_id</th>\n      <th>Step</th>\n      <th>Pouch</th>\n      <th>Thermos</th>\n      <th>Potentiostat</th>\n      <th>Channel</th>\n      <th>Datetime_id</th>\n      <th>Path</th>\n    </tr>\n  </thead>\n  <tbody>\n    <tr>\n      <th>60</th>\n      <td>LTO3</td>\n      <td>LTO</td>\n      <td>gost60</td>\n      <td>7. Заявка № 71 К3 К13</td>\n      <td>1</td>\n      <td>1 п1-4.1</td>\n      <td>3</td>\n      <td>3</td>\n      <td>131</td>\n      <td>7</td>\n      <td>20240403111709</td>\n      <td>D:\\!Science\\Физтех\\Циклирования\\28.05.24 - рез...</td>\n    </tr>\n    <tr>\n      <th>65</th>\n      <td>LTO13</td>\n      <td>LTO</td>\n      <td>gost60</td>\n      <td>7. Заявка № 71 К3 К13</td>\n      <td>1</td>\n      <td>1 п1-4.1</td>\n      <td>13</td>\n      <td>3</td>\n      <td>131</td>\n      <td>8</td>\n      <td>20240403111718</td>\n      <td>D:\\!Science\\Физтех\\Циклирования\\28.05.24 - рез...</td>\n    </tr>\n    <tr>\n      <th>95</th>\n      <td>NMC7</td>\n      <td>NMC</td>\n      <td>gost45</td>\n      <td>Заявка №57 KAMAZ 006-007</td>\n      <td>1</td>\n      <td>1. Пункт 1-4.1</td>\n      <td>7</td>\n      <td>2</td>\n      <td>133</td>\n      <td>2</td>\n      <td>20240314161946</td>\n      <td>D:\\!Science\\Физтех\\Циклирования\\28.05.24 - рез...</td>\n    </tr>\n    <tr>\n      <th>91</th>\n      <td>NMC6</td>\n      <td>NMC</td>\n      <td>gost45</td>\n      <td>Заявка №57 KAMAZ 006-007</td>\n      <td>1</td>\n      <td>1. Пункт 1-4.1</td>\n      <td>6</td>\n      <td>2</td>\n      <td>133</td>\n      <td>1</td>\n      <td>20240314161930</td>\n      <td>D:\\!Science\\Физтех\\Циклирования\\28.05.24 - рез...</td>\n    </tr>\n    <tr>\n      <th>52</th>\n      <td>NMC15</td>\n      <td>NMC</td>\n      <td>Imax45</td>\n      <td>Заявка №64 C-NMC №014 №015</td>\n      <td>1</td>\n      <td>1. Пункт 1-4.1</td>\n      <td>15</td>\n      <td>1</td>\n      <td>131</td>\n      <td>6</td>\n      <td>20240325102602</td>\n      <td>D:\\!Science\\Физтех\\Циклирования\\28.05.24 - рез...</td>\n    </tr>\n    <tr>\n      <th>...</th>\n      <td>...</td>\n      <td>...</td>\n      <td>...</td>\n      <td>...</td>\n      <td>...</td>\n      <td>...</td>\n      <td>...</td>\n      <td>...</td>\n      <td>...</td>\n      <td>...</td>\n      <td>...</td>\n      <td>...</td>\n    </tr>\n    <tr>\n      <th>115</th>\n      <td>LFP2</td>\n      <td>LFP</td>\n      <td>gost45</td>\n      <td>Заявка №73 Старение+45 2-3</td>\n      <td>4</td>\n      <td>5. Испытание рабочих характеристик</td>\n      <td>2</td>\n      <td>2</td>\n      <td>133</td>\n      <td>7</td>\n      <td>20240513133440</td>\n      <td>D:\\!Science\\Физтех\\Циклирования\\28.05.24 - рез...</td>\n    </tr>\n    <tr>\n      <th>85</th>\n      <td>LFP6</td>\n      <td>LFP</td>\n      <td>gost60</td>\n      <td>Заявка №75 Старение +60</td>\n      <td>4</td>\n      <td>5. Испытание рабочих характеристик</td>\n      <td>6</td>\n      <td>3</td>\n      <td>132</td>\n      <td>7</td>\n      <td>20240520102038</td>\n      <td>D:\\!Science\\Физтех\\Циклирования\\28.05.24 - рез...</td>\n    </tr>\n    <tr>\n      <th>110</th>\n      <td>LFP5</td>\n      <td>LFP</td>\n      <td>Imax45</td>\n      <td>Заявка №74 Старение +45 4-5</td>\n      <td>4</td>\n      <td>5. Испытание рабочих характеристик</td>\n      <td>5</td>\n      <td>1</td>\n      <td>133</td>\n      <td>6</td>\n      <td>20240513144931</td>\n      <td>D:\\!Science\\Физтех\\Циклирования\\28.05.24 - рез...</td>\n    </tr>\n    <tr>\n      <th>81</th>\n      <td>LFP1</td>\n      <td>LFP</td>\n      <td>CCroom</td>\n      <td>Заявка №76 Старение НКУ</td>\n      <td>4</td>\n      <td>5. Пункт 6</td>\n      <td>1</td>\n      <td>[]</td>\n      <td>132</td>\n      <td>6</td>\n      <td>20240514100556</td>\n      <td>D:\\!Science\\Физтех\\Циклирования\\28.05.24 - рез...</td>\n    </tr>\n    <tr>\n      <th>3</th>\n      <td>LFP8</td>\n      <td>LFP</td>\n      <td>CCroom</td>\n      <td>Заявка №76 Старение НКУ</td>\n      <td>4</td>\n      <td>5. Пункт 6</td>\n      <td>8</td>\n      <td>[]</td>\n      <td>130</td>\n      <td>1</td>\n      <td>20240514100637</td>\n      <td>D:\\!Science\\Физтех\\Циклирования\\28.05.24 - рез...</td>\n    </tr>\n  </tbody>\n</table>\n<p>122 rows × 12 columns</p>\n</div>"
     },
     "execution_count": 2,
     "metadata": {},
     "output_type": "execute_result"
    }
   ],
   "source": [
    "#get all files from directory\n",
    "root_dir  = r'D:\\!Science\\Физтех\\Циклирования\\28.05.24 - результаты'\n",
    "files = bp.list_files(directory=root_dir, filetype='xlsx')\n",
    "\n",
    "#parse info\n",
    "patterns = [r'([A-Z]{3})', r'([^\\\\]*)', r'([0-9][^\\\\]*)', r'.?([0-9]?[0-9])', r'.*-(13[0-9])-.-([0-9]).*-([0-9]{14})']\n",
    "column_names = ['Chem','Tech', 'Step', 'Pouch','Potentiostat', 'Channel', 'Datetime_id']\n",
    "pattern = r'\\\\'.join(patterns)\n",
    "parser = bp.importing.Regex_parse()\n",
    "result = parser(strings=files,pattern=pattern,column_names= column_names)\n",
    "\n",
    "#data enhancement\n",
    "type_convert = {i:str for i in result.columns}\n",
    "result = result.astype({'Pouch':int}, copy=True)\n",
    "result = result.astype(type_convert, copy=True)\n",
    "\n",
    "#Create ID - unique for any pouch\n",
    "result['ID'] = result['Chem'] + result['Pouch']\n",
    "result.insert(0, 'ID', result.pop('ID'))\n",
    "\n",
    "#Add info about thermos and cycling protocol\n",
    "thermos = {'1':['NMC14', 'NMC15', 'LTO7', 'LTO6', 'LFP4', 'LFP5'],\n",
    "           '2':['LFP2', 'LFP3', 'NMC6', 'NMC7', 'LTO11', 'LTO12'],\n",
    "           '3':['NMC12', 'NMC13', 'LTO13', 'LTO3', 'LFP6', 'LFP7']}\n",
    "protocol = {'gost45':['NMC6', 'NMC7', 'LTO11', 'LTO12', 'LFP2', 'LFP3'],\n",
    "            'gost60':['NMC12', 'NMC13', 'LTO13', 'LTO3', 'LFP6', 'LFP7'],\n",
    "            'Imax45':['NMC14', 'NMC15', 'LTO7', 'LTO6', 'LFP4', 'LFP5'],\n",
    "            'CCroom':['NMC10', 'NMC11', 'LTO4', 'LTO5', 'LFP1', 'LFP8']}\n",
    "\n",
    "if bp.modifications.check_dict_intersection(thermos) or bp.modifications.check_dict_intersection(protocol):\n",
    "    print('Dict Intersection!')\n",
    "\n",
    "thermos_creator = bp.modifications.Find_key(thermos)\n",
    "technique_creator = bp.modifications.Find_key(protocol)\n",
    "\n",
    "result['Protocol'] = result['ID'].apply(technique_creator)\n",
    "result.insert(2, 'Protocol', result.pop('Protocol'))\n",
    "result['Thermos'] = result['ID'].apply(thermos_creator)\n",
    "result.insert(6, 'Thermos', result.pop('Thermos'))\n",
    "\n",
    "#Create Step_id - unique value for all steps\n",
    "result.sort_values('Step', inplace=True)\n",
    "\n",
    "step_id = [bp.modifications.step_id_creator(pouch) for name, pouch in result.groupby('ID')]\n",
    "result['Step_id'] = pd.concat(step_id, )\n",
    "result.insert(4, 'Step_id', result.pop('Step_id'))\n",
    "\n",
    "\n",
    "result"
   ],
   "metadata": {
    "collapsed": false,
    "ExecuteTime": {
     "end_time": "2024-06-10T10:15:23.259465400Z",
     "start_time": "2024-06-10T10:15:23.136060600Z"
    }
   }
  },
  {
   "cell_type": "code",
   "execution_count": 5,
   "outputs": [
    {
     "data": {
      "text/plain": "LFP1  1     27088915\n      2      1883962\n      3     24417722\n      4     40183898\nLFP2  1     27169404\n             ...    \nNMC6  4     14156709\nNMC7  1     14390386\n      2      1090413\n      3    159162047\n      4     14074754\nLength: 96, dtype: int32"
     },
     "execution_count": 5,
     "metadata": {},
     "output_type": "execute_result"
    }
   ],
   "source": [
    "#Тест по размеру каждого шага\n",
    "sizes ={}\n",
    "for name, dataframe in result.groupby(['ID','Step_id']):\n",
    "    sizeof = np.sum([os.path.getsize(i) for i in dataframe['Path']])\n",
    "    sizes[name] = sizeof\n",
    "pd.Series(sizes)"
   ],
   "metadata": {
    "collapsed": false,
    "ExecuteTime": {
     "end_time": "2024-06-08T12:17:11.388165100Z",
     "start_time": "2024-06-08T12:17:11.292241800Z"
    }
   }
  },
  {
   "cell_type": "code",
   "execution_count": 3,
   "outputs": [
    {
     "data": {
      "text/plain": "       ID Chem Protocol                                  Tech  Step_id  \\\n91   NMC6  NMC   gost45              Заявка №57 KAMAZ 006-007        1   \n95   NMC7  NMC   gost45              Заявка №57 KAMAZ 006-007        1   \n22  NMC10  NMC   CCroom  Заявка № 60 Образцы C-NMC № 010, 011        1   \n28  NMC11  NMC   CCroom  Заявка № 60 Образцы C-NMC № 010, 011        1   \n34  NMC12  NMC   gost60                            Заявка№ 61        1   \n..    ...  ...      ...                                   ...      ...   \n59  NMC13  NMC   gost60                            Заявка№ 61        4   \n64   LTO3  LTO   gost60                 7. Заявка № 71 К3 К13        4   \n77  LTO13  LTO   gost60                 7. Заявка № 71 К3 К13        4   \n85   LFP6  LFP   gost60               Заявка №75 Старение +60        4   \n89   LFP7  LFP   gost60               Заявка №75 Старение +60        4   \n\n                                  Step Pouch Thermos Potentiostat Channel  \\\n91                      1. Пункт 1-4.1     6       2          133       1   \n95                      1. Пункт 1-4.1     7       2          133       2   \n22                      1. Пункт 1-4.1    10      []          131       1   \n28                      1. Пункт 1-4.1    11      []          131       2   \n34                        1. п 1- п4.1    12       3          131       3   \n..                                 ...   ...     ...          ...     ...   \n59  4. Испытание рабочих характеристик    13       3          131       6   \n64  4. Испытание рабочих характеристик     3       3          131       7   \n77  4. Испытание рабочих характеристик    13       3          132       4   \n85  5. Испытание рабочих характеристик     6       3          132       7   \n89  5. Испытание рабочих характеристик     7       3          132       8   \n\n       Datetime_id                                               Path  \n91  20240314161930  D:\\!Science\\Физтех\\Циклирования\\28.05.24 - рез...  \n95  20240314161946  D:\\!Science\\Физтех\\Циклирования\\28.05.24 - рез...  \n22  20240325100127  D:\\!Science\\Физтех\\Циклирования\\28.05.24 - рез...  \n28  20240325100138  D:\\!Science\\Физтех\\Циклирования\\28.05.24 - рез...  \n34  20240325101703  D:\\!Science\\Физтех\\Циклирования\\28.05.24 - рез...  \n..             ...                                                ...  \n59  20240520100859  D:\\!Science\\Физтех\\Циклирования\\28.05.24 - рез...  \n64  20240520101600  D:\\!Science\\Физтех\\Циклирования\\28.05.24 - рез...  \n77  20240520101645  D:\\!Science\\Физтех\\Циклирования\\28.05.24 - рез...  \n85  20240520102038  D:\\!Science\\Физтех\\Циклирования\\28.05.24 - рез...  \n89  20240520102120  D:\\!Science\\Физтех\\Циклирования\\28.05.24 - рез...  \n\n[122 rows x 12 columns]",
      "text/html": "<div>\n<style scoped>\n    .dataframe tbody tr th:only-of-type {\n        vertical-align: middle;\n    }\n\n    .dataframe tbody tr th {\n        vertical-align: top;\n    }\n\n    .dataframe thead th {\n        text-align: right;\n    }\n</style>\n<table border=\"1\" class=\"dataframe\">\n  <thead>\n    <tr style=\"text-align: right;\">\n      <th></th>\n      <th>ID</th>\n      <th>Chem</th>\n      <th>Protocol</th>\n      <th>Tech</th>\n      <th>Step_id</th>\n      <th>Step</th>\n      <th>Pouch</th>\n      <th>Thermos</th>\n      <th>Potentiostat</th>\n      <th>Channel</th>\n      <th>Datetime_id</th>\n      <th>Path</th>\n    </tr>\n  </thead>\n  <tbody>\n    <tr>\n      <th>91</th>\n      <td>NMC6</td>\n      <td>NMC</td>\n      <td>gost45</td>\n      <td>Заявка №57 KAMAZ 006-007</td>\n      <td>1</td>\n      <td>1. Пункт 1-4.1</td>\n      <td>6</td>\n      <td>2</td>\n      <td>133</td>\n      <td>1</td>\n      <td>20240314161930</td>\n      <td>D:\\!Science\\Физтех\\Циклирования\\28.05.24 - рез...</td>\n    </tr>\n    <tr>\n      <th>95</th>\n      <td>NMC7</td>\n      <td>NMC</td>\n      <td>gost45</td>\n      <td>Заявка №57 KAMAZ 006-007</td>\n      <td>1</td>\n      <td>1. Пункт 1-4.1</td>\n      <td>7</td>\n      <td>2</td>\n      <td>133</td>\n      <td>2</td>\n      <td>20240314161946</td>\n      <td>D:\\!Science\\Физтех\\Циклирования\\28.05.24 - рез...</td>\n    </tr>\n    <tr>\n      <th>22</th>\n      <td>NMC10</td>\n      <td>NMC</td>\n      <td>CCroom</td>\n      <td>Заявка № 60 Образцы C-NMC № 010, 011</td>\n      <td>1</td>\n      <td>1. Пункт 1-4.1</td>\n      <td>10</td>\n      <td>[]</td>\n      <td>131</td>\n      <td>1</td>\n      <td>20240325100127</td>\n      <td>D:\\!Science\\Физтех\\Циклирования\\28.05.24 - рез...</td>\n    </tr>\n    <tr>\n      <th>28</th>\n      <td>NMC11</td>\n      <td>NMC</td>\n      <td>CCroom</td>\n      <td>Заявка № 60 Образцы C-NMC № 010, 011</td>\n      <td>1</td>\n      <td>1. Пункт 1-4.1</td>\n      <td>11</td>\n      <td>[]</td>\n      <td>131</td>\n      <td>2</td>\n      <td>20240325100138</td>\n      <td>D:\\!Science\\Физтех\\Циклирования\\28.05.24 - рез...</td>\n    </tr>\n    <tr>\n      <th>34</th>\n      <td>NMC12</td>\n      <td>NMC</td>\n      <td>gost60</td>\n      <td>Заявка№ 61</td>\n      <td>1</td>\n      <td>1. п 1- п4.1</td>\n      <td>12</td>\n      <td>3</td>\n      <td>131</td>\n      <td>3</td>\n      <td>20240325101703</td>\n      <td>D:\\!Science\\Физтех\\Циклирования\\28.05.24 - рез...</td>\n    </tr>\n    <tr>\n      <th>...</th>\n      <td>...</td>\n      <td>...</td>\n      <td>...</td>\n      <td>...</td>\n      <td>...</td>\n      <td>...</td>\n      <td>...</td>\n      <td>...</td>\n      <td>...</td>\n      <td>...</td>\n      <td>...</td>\n      <td>...</td>\n    </tr>\n    <tr>\n      <th>59</th>\n      <td>NMC13</td>\n      <td>NMC</td>\n      <td>gost60</td>\n      <td>Заявка№ 61</td>\n      <td>4</td>\n      <td>4. Испытание рабочих характеристик</td>\n      <td>13</td>\n      <td>3</td>\n      <td>131</td>\n      <td>6</td>\n      <td>20240520100859</td>\n      <td>D:\\!Science\\Физтех\\Циклирования\\28.05.24 - рез...</td>\n    </tr>\n    <tr>\n      <th>64</th>\n      <td>LTO3</td>\n      <td>LTO</td>\n      <td>gost60</td>\n      <td>7. Заявка № 71 К3 К13</td>\n      <td>4</td>\n      <td>4. Испытание рабочих характеристик</td>\n      <td>3</td>\n      <td>3</td>\n      <td>131</td>\n      <td>7</td>\n      <td>20240520101600</td>\n      <td>D:\\!Science\\Физтех\\Циклирования\\28.05.24 - рез...</td>\n    </tr>\n    <tr>\n      <th>77</th>\n      <td>LTO13</td>\n      <td>LTO</td>\n      <td>gost60</td>\n      <td>7. Заявка № 71 К3 К13</td>\n      <td>4</td>\n      <td>4. Испытание рабочих характеристик</td>\n      <td>13</td>\n      <td>3</td>\n      <td>132</td>\n      <td>4</td>\n      <td>20240520101645</td>\n      <td>D:\\!Science\\Физтех\\Циклирования\\28.05.24 - рез...</td>\n    </tr>\n    <tr>\n      <th>85</th>\n      <td>LFP6</td>\n      <td>LFP</td>\n      <td>gost60</td>\n      <td>Заявка №75 Старение +60</td>\n      <td>4</td>\n      <td>5. Испытание рабочих характеристик</td>\n      <td>6</td>\n      <td>3</td>\n      <td>132</td>\n      <td>7</td>\n      <td>20240520102038</td>\n      <td>D:\\!Science\\Физтех\\Циклирования\\28.05.24 - рез...</td>\n    </tr>\n    <tr>\n      <th>89</th>\n      <td>LFP7</td>\n      <td>LFP</td>\n      <td>gost60</td>\n      <td>Заявка №75 Старение +60</td>\n      <td>4</td>\n      <td>5. Испытание рабочих характеристик</td>\n      <td>7</td>\n      <td>3</td>\n      <td>132</td>\n      <td>8</td>\n      <td>20240520102120</td>\n      <td>D:\\!Science\\Физтех\\Циклирования\\28.05.24 - рез...</td>\n    </tr>\n  </tbody>\n</table>\n<p>122 rows × 12 columns</p>\n</div>"
     },
     "execution_count": 3,
     "metadata": {},
     "output_type": "execute_result"
    }
   ],
   "source": [
    "result.sort_values(['Datetime_id', 'Path'], inplace=True)\n",
    "result"
   ],
   "metadata": {
    "collapsed": false,
    "ExecuteTime": {
     "end_time": "2024-06-10T10:15:35.418840500Z",
     "start_time": "2024-06-10T10:15:35.350436700Z"
    }
   }
  },
  {
   "cell_type": "code",
   "execution_count": 4,
   "outputs": [
    {
     "data": {
      "text/plain": "          ID Chem Protocol                                  Tech  Step_id  \\\nIndex                                                                       \n91      NMC6  NMC   gost45              Заявка №57 KAMAZ 006-007        1   \n95      NMC7  NMC   gost45              Заявка №57 KAMAZ 006-007        1   \n22     NMC10  NMC   CCroom  Заявка № 60 Образцы C-NMC № 010, 011        1   \n28     NMC11  NMC   CCroom  Заявка № 60 Образцы C-NMC № 010, 011        1   \n34     NMC12  NMC   gost60                            Заявка№ 61        1   \n...      ...  ...      ...                                   ...      ...   \n59     NMC13  NMC   gost60                            Заявка№ 61        4   \n64      LTO3  LTO   gost60                 7. Заявка № 71 К3 К13        4   \n77     LTO13  LTO   gost60                 7. Заявка № 71 К3 К13        4   \n85      LFP6  LFP   gost60               Заявка №75 Старение +60        4   \n89      LFP7  LFP   gost60               Заявка №75 Старение +60        4   \n\n                                     Step  Pouch Thermos  Potentiostat  \\\nIndex                                                                    \n91                         1. Пункт 1-4.1      6       2           133   \n95                         1. Пункт 1-4.1      7       2           133   \n22                         1. Пункт 1-4.1     10      []           131   \n28                         1. Пункт 1-4.1     11      []           131   \n34                           1. п 1- п4.1     12       3           131   \n...                                   ...    ...     ...           ...   \n59     4. Испытание рабочих характеристик     13       3           131   \n64     4. Испытание рабочих характеристик      3       3           131   \n77     4. Испытание рабочих характеристик     13       3           132   \n85     5. Испытание рабочих характеристик      6       3           132   \n89     5. Испытание рабочих характеристик      7       3           132   \n\n       Channel     Datetime_id  \\\nIndex                            \n91           1  20240314161930   \n95           2  20240314161946   \n22           1  20240325100127   \n28           2  20240325100138   \n34           3  20240325101703   \n...        ...             ...   \n59           6  20240520100859   \n64           7  20240520101600   \n77           4  20240520101645   \n85           7  20240520102038   \n89           8  20240520102120   \n\n                                                    Path  \nIndex                                                     \n91     D:\\!Science\\Физтех\\Циклирования\\28.05.24 - рез...  \n95     D:\\!Science\\Физтех\\Циклирования\\28.05.24 - рез...  \n22     D:\\!Science\\Физтех\\Циклирования\\28.05.24 - рез...  \n28     D:\\!Science\\Физтех\\Циклирования\\28.05.24 - рез...  \n34     D:\\!Science\\Физтех\\Циклирования\\28.05.24 - рез...  \n...                                                  ...  \n59     D:\\!Science\\Физтех\\Циклирования\\28.05.24 - рез...  \n64     D:\\!Science\\Физтех\\Циклирования\\28.05.24 - рез...  \n77     D:\\!Science\\Физтех\\Циклирования\\28.05.24 - рез...  \n85     D:\\!Science\\Физтех\\Циклирования\\28.05.24 - рез...  \n89     D:\\!Science\\Физтех\\Циклирования\\28.05.24 - рез...  \n\n[122 rows x 12 columns]",
      "text/html": "<div>\n<style scoped>\n    .dataframe tbody tr th:only-of-type {\n        vertical-align: middle;\n    }\n\n    .dataframe tbody tr th {\n        vertical-align: top;\n    }\n\n    .dataframe thead th {\n        text-align: right;\n    }\n</style>\n<table border=\"1\" class=\"dataframe\">\n  <thead>\n    <tr style=\"text-align: right;\">\n      <th></th>\n      <th>ID</th>\n      <th>Chem</th>\n      <th>Protocol</th>\n      <th>Tech</th>\n      <th>Step_id</th>\n      <th>Step</th>\n      <th>Pouch</th>\n      <th>Thermos</th>\n      <th>Potentiostat</th>\n      <th>Channel</th>\n      <th>Datetime_id</th>\n      <th>Path</th>\n    </tr>\n    <tr>\n      <th>Index</th>\n      <th></th>\n      <th></th>\n      <th></th>\n      <th></th>\n      <th></th>\n      <th></th>\n      <th></th>\n      <th></th>\n      <th></th>\n      <th></th>\n      <th></th>\n      <th></th>\n    </tr>\n  </thead>\n  <tbody>\n    <tr>\n      <th>91</th>\n      <td>NMC6</td>\n      <td>NMC</td>\n      <td>gost45</td>\n      <td>Заявка №57 KAMAZ 006-007</td>\n      <td>1</td>\n      <td>1. Пункт 1-4.1</td>\n      <td>6</td>\n      <td>2</td>\n      <td>133</td>\n      <td>1</td>\n      <td>20240314161930</td>\n      <td>D:\\!Science\\Физтех\\Циклирования\\28.05.24 - рез...</td>\n    </tr>\n    <tr>\n      <th>95</th>\n      <td>NMC7</td>\n      <td>NMC</td>\n      <td>gost45</td>\n      <td>Заявка №57 KAMAZ 006-007</td>\n      <td>1</td>\n      <td>1. Пункт 1-4.1</td>\n      <td>7</td>\n      <td>2</td>\n      <td>133</td>\n      <td>2</td>\n      <td>20240314161946</td>\n      <td>D:\\!Science\\Физтех\\Циклирования\\28.05.24 - рез...</td>\n    </tr>\n    <tr>\n      <th>22</th>\n      <td>NMC10</td>\n      <td>NMC</td>\n      <td>CCroom</td>\n      <td>Заявка № 60 Образцы C-NMC № 010, 011</td>\n      <td>1</td>\n      <td>1. Пункт 1-4.1</td>\n      <td>10</td>\n      <td>[]</td>\n      <td>131</td>\n      <td>1</td>\n      <td>20240325100127</td>\n      <td>D:\\!Science\\Физтех\\Циклирования\\28.05.24 - рез...</td>\n    </tr>\n    <tr>\n      <th>28</th>\n      <td>NMC11</td>\n      <td>NMC</td>\n      <td>CCroom</td>\n      <td>Заявка № 60 Образцы C-NMC № 010, 011</td>\n      <td>1</td>\n      <td>1. Пункт 1-4.1</td>\n      <td>11</td>\n      <td>[]</td>\n      <td>131</td>\n      <td>2</td>\n      <td>20240325100138</td>\n      <td>D:\\!Science\\Физтех\\Циклирования\\28.05.24 - рез...</td>\n    </tr>\n    <tr>\n      <th>34</th>\n      <td>NMC12</td>\n      <td>NMC</td>\n      <td>gost60</td>\n      <td>Заявка№ 61</td>\n      <td>1</td>\n      <td>1. п 1- п4.1</td>\n      <td>12</td>\n      <td>3</td>\n      <td>131</td>\n      <td>3</td>\n      <td>20240325101703</td>\n      <td>D:\\!Science\\Физтех\\Циклирования\\28.05.24 - рез...</td>\n    </tr>\n    <tr>\n      <th>...</th>\n      <td>...</td>\n      <td>...</td>\n      <td>...</td>\n      <td>...</td>\n      <td>...</td>\n      <td>...</td>\n      <td>...</td>\n      <td>...</td>\n      <td>...</td>\n      <td>...</td>\n      <td>...</td>\n      <td>...</td>\n    </tr>\n    <tr>\n      <th>59</th>\n      <td>NMC13</td>\n      <td>NMC</td>\n      <td>gost60</td>\n      <td>Заявка№ 61</td>\n      <td>4</td>\n      <td>4. Испытание рабочих характеристик</td>\n      <td>13</td>\n      <td>3</td>\n      <td>131</td>\n      <td>6</td>\n      <td>20240520100859</td>\n      <td>D:\\!Science\\Физтех\\Циклирования\\28.05.24 - рез...</td>\n    </tr>\n    <tr>\n      <th>64</th>\n      <td>LTO3</td>\n      <td>LTO</td>\n      <td>gost60</td>\n      <td>7. Заявка № 71 К3 К13</td>\n      <td>4</td>\n      <td>4. Испытание рабочих характеристик</td>\n      <td>3</td>\n      <td>3</td>\n      <td>131</td>\n      <td>7</td>\n      <td>20240520101600</td>\n      <td>D:\\!Science\\Физтех\\Циклирования\\28.05.24 - рез...</td>\n    </tr>\n    <tr>\n      <th>77</th>\n      <td>LTO13</td>\n      <td>LTO</td>\n      <td>gost60</td>\n      <td>7. Заявка № 71 К3 К13</td>\n      <td>4</td>\n      <td>4. Испытание рабочих характеристик</td>\n      <td>13</td>\n      <td>3</td>\n      <td>132</td>\n      <td>4</td>\n      <td>20240520101645</td>\n      <td>D:\\!Science\\Физтех\\Циклирования\\28.05.24 - рез...</td>\n    </tr>\n    <tr>\n      <th>85</th>\n      <td>LFP6</td>\n      <td>LFP</td>\n      <td>gost60</td>\n      <td>Заявка №75 Старение +60</td>\n      <td>4</td>\n      <td>5. Испытание рабочих характеристик</td>\n      <td>6</td>\n      <td>3</td>\n      <td>132</td>\n      <td>7</td>\n      <td>20240520102038</td>\n      <td>D:\\!Science\\Физтех\\Циклирования\\28.05.24 - рез...</td>\n    </tr>\n    <tr>\n      <th>89</th>\n      <td>LFP7</td>\n      <td>LFP</td>\n      <td>gost60</td>\n      <td>Заявка №75 Старение +60</td>\n      <td>4</td>\n      <td>5. Испытание рабочих характеристик</td>\n      <td>7</td>\n      <td>3</td>\n      <td>132</td>\n      <td>8</td>\n      <td>20240520102120</td>\n      <td>D:\\!Science\\Физтех\\Циклирования\\28.05.24 - рез...</td>\n    </tr>\n  </tbody>\n</table>\n<p>122 rows × 12 columns</p>\n</div>"
     },
     "execution_count": 4,
     "metadata": {},
     "output_type": "execute_result"
    }
   ],
   "source": [
    "result_path = r'D:\\!Science\\Физтех\\Циклирования\\Результаты\\File_statistics.csv'\n",
    "bp.exporting.save_experiment(result, result_path)\n",
    "result = bp.exporting.load_experiment(result_path)\n",
    "result"
   ],
   "metadata": {
    "collapsed": false,
    "ExecuteTime": {
     "end_time": "2024-06-10T10:15:48.962537600Z",
     "start_time": "2024-06-10T10:15:48.890541400Z"
    }
   }
  },
  {
   "cell_type": "code",
   "execution_count": 5,
   "outputs": [],
   "source": [
    "def create_statistics(result_slice:pd.DataFrame, statistic_pattern):\n",
    "    data = [bp.import_xls(filename, data_name_pattern='record', temp_name_pattern='auxTemp', temp_column_pattern='T1') for filename in result_slice['Path']]\n",
    "    dataset = pd.concat(data,ignore_index=True)\n",
    "    bp.rename_columns(dataset, {'Power(W)':'P'})\n",
    "    bp.parse_time(dataset, time_column='Time', datetime_column='Datetime')\n",
    "    bp.parse_time(dataset, time_column='Total Time')\n",
    "    x = dataset['Total Time'].diff()\n",
    "    cracks = x[x < 0]\n",
    "    for idx, value in cracks.items():\n",
    "        break_time = dataset['Datetime'][idx]-dataset['Datetime'][idx-1]\n",
    "        dataset['Total Time'].loc[idx:] += break_time.total_seconds() + dataset['Total Time'][idx-1]\n",
    "\n",
    "\n",
    "    statistics = bp.generate_statistics(dataset, group_marker=(dataset['Time'] < dataset['Time'].shift()).cumsum(), statistics_pattern=statistic_pattern)\n",
    "    statistics['Net Q'] = np.sign(statistics['I_mean'])*statistics['Q_max']\n",
    "    statistics['Net Energy'] = np.sign(statistics['I_mean'])*statistics['Energy_max']\n",
    "    bp.rename_columns(statistics, {'Step Type_unique_values':'Step Type'})\n",
    "    statistics['Step Type'] = statistics['Step Type'].str.lower()\n",
    "\n",
    "    return statistics, dataset\n",
    "\n",
    "def check_time_consequence(df, column='Total Time_min'):\n",
    "    if np.where(statistics[column] < statistics[column].shift(), )[0].size >0:\n",
    "        raise ValueError('Not consistent data!')"
   ],
   "metadata": {
    "collapsed": false,
    "ExecuteTime": {
     "end_time": "2024-06-10T10:15:57.092003400Z",
     "start_time": "2024-06-10T10:15:57.077022900Z"
    }
   }
  },
  {
   "cell_type": "code",
   "execution_count": 6,
   "outputs": [
    {
     "data": {
      "text/plain": "(('LTO7', 4),\n          ID Chem Protocol                 Tech  Step_id  \\\n Index                                                     \n 99     LTO7  LTO   Imax45  6. Заявка №70 К6 К7        4   \n \n                                      Step  Pouch Thermos  Potentiostat  \\\n Index                                                                    \n 99     4. Испытание рабочих характеристик      7       1           133   \n \n        Channel     Datetime_id  \\\n Index                            \n 99           3  20240513135855   \n \n                                                     Path  \n Index                                                     \n 99     D:\\!Science\\Физтех\\Циклирования\\28.05.24 - рез...  )"
     },
     "execution_count": 6,
     "metadata": {},
     "output_type": "execute_result"
    }
   ],
   "source": [
    "slices = [i for i in result.groupby(['ID', 'Step_id'])]\n",
    "slices[63]"
   ],
   "metadata": {
    "collapsed": false,
    "ExecuteTime": {
     "end_time": "2024-06-10T10:16:03.377830Z",
     "start_time": "2024-06-10T10:16:03.360097Z"
    }
   }
  },
  {
   "cell_type": "code",
   "execution_count": 13,
   "outputs": [],
   "source": [
    "statistic_pattern = {'Step Type':'unique_values',\n",
    "                     'I':['mean', 'std'],\n",
    "                     'Time':['range', 'diff'],\n",
    "                     'Q':['max'],\n",
    "                     'E':['first', 'last','mean'],\n",
    "                     'T':['mean', 'min', 'max'],\n",
    "                     'Datetime':['min', 'max'],\n",
    "                     'Total Time':'min',\n",
    "                     'Energy':'max',\n",
    "                     'P':['mean', 'last']}"
   ],
   "metadata": {
    "collapsed": false,
    "ExecuteTime": {
     "end_time": "2024-06-10T10:22:18.886137500Z",
     "start_time": "2024-06-10T10:22:18.859952100Z"
    }
   }
  },
  {
   "cell_type": "code",
   "execution_count": null,
   "outputs": [],
   "source": [
    "\n",
    "\n",
    "for slice in slices:\n",
    "    pouch, step = slice[0]\n",
    "    print(pouch, step)\n",
    "    statistics, data = create_statistics(slice[1], statistic_pattern)\n",
    "    check_time_consequence(statistics,)\n",
    "    save_path = fr'D:\\!Science\\Физтех\\Циклирования\\Результаты\\Статистика\\{step}\\{pouch}.csv'\n",
    "    save_data_path = fr'D:\\!Science\\Физтех\\Циклирования\\Результаты\\Данные\\{step}\\{pouch}.csv'\n",
    "    bp.exporting.save_experiment(statistics, save_path)\n",
    "    bp.exporting.save_experiment(data, save_data_path)"
   ],
   "metadata": {
    "collapsed": false
   }
  },
  {
   "cell_type": "code",
   "execution_count": 11,
   "outputs": [
    {
     "data": {
      "text/plain": "     Step Type     I_mean     I_std  Time_range  Time_diff    Q_max  E_first  \\\n0      cc dchg -17.993014  0.002701        52.0   8.666667   0.2614   3.1399   \n1         rest   0.000000  0.000000      1800.0  10.000000   0.0000   2.5367   \n2     cccv chg  16.072389  4.972748      4097.0   9.992683  18.3225   3.0329   \n3      cc dchg -17.995147  0.000866      3624.0   9.983471  18.1181   4.1813   \n4         rest   0.000000  0.000000      1800.0  10.000000   0.0000   2.5233   \n...        ...        ...       ...         ...        ...      ...      ...   \n1064   cc dchg  -1.794800       NaN         0.0        NaN   0.0774   2.4996   \n1065      rest   0.000000  0.000000     10800.0  10.000000   0.0000   2.5034   \n1066   cc dchg  -1.794505  0.001008        43.0   1.000000   0.0214   2.6952   \n1067   cc dchg  -1.794700       NaN         0.0        NaN   0.0219   2.4997   \n1068      rest   0.000000  0.000000     10800.0  10.000000   0.0000   2.5017   \n\n      E_last    E_mean     T_mean T_min T_max        Datetime_min  \\\n0     2.4996  2.841386  28.771429  28.6  29.1 2024-05-13 13:43:50   \n1     3.0016  2.959207  27.730387  26.7  29.2 2024-05-13 13:44:43   \n2     4.2004  3.828520  28.518491  25.8  30.2 2024-05-13 14:14:43   \n3     2.4989  3.667616  29.431044  28.3  33.0 2024-05-13 15:23:00   \n4     3.1586  3.125591  30.379006  28.5  33.4 2024-05-13 16:23:24   \n...      ...       ...        ...   ...   ...                 ...   \n1064  2.4996  2.499600       25.4  25.4  25.4 2024-05-19 04:57:51   \n1065  2.6955  2.671606  26.715911  25.3  27.8 2024-05-19 04:57:51   \n1066  2.5042  2.601175  27.095455  26.9  27.1 2024-05-19 07:57:51   \n1067  2.4997  2.499700       27.1  27.1  27.1 2024-05-19 07:58:35   \n1068  2.6215  2.600604   27.33765  27.0  27.6 2024-05-19 07:58:35   \n\n            Datetime_max  Total Time_min  Energy_max     P_mean   P_last  \\\n0    2024-05-13 13:44:42             0.0      0.7560 -51.125429 -44.9713   \n1    2024-05-13 14:14:43            52.0      0.0000   0.000000   0.0000   \n2    2024-05-13 15:23:00          1852.0     69.3524  60.818700   3.7751   \n3    2024-05-13 16:23:24          5949.0     66.4972 -65.999242 -44.9695   \n4    2024-05-13 16:53:24          9573.0      0.0000   0.000000   0.0000   \n...                  ...             ...         ...        ...      ...   \n1064 2024-05-19 04:57:51        486845.0      0.2117  -4.486300  -4.4863   \n1065 2024-05-19 07:57:51        486845.0      0.0000   0.000000   0.0000   \n1066 2024-05-19 07:58:34        497645.0      0.0557  -4.667791  -4.4947   \n1067 2024-05-19 07:58:35        497689.0      0.0569  -4.486100  -4.4861   \n1068 2024-05-19 10:58:34        497689.0      0.0000   0.000000   0.0000   \n\n        Net Q  Net Energy  \n0     -0.2614     -0.7560  \n1      0.0000      0.0000  \n2     18.3225     69.3524  \n3    -18.1181    -66.4972  \n4      0.0000      0.0000  \n...       ...         ...  \n1064  -0.0774     -0.2117  \n1065   0.0000      0.0000  \n1066  -0.0214     -0.0557  \n1067  -0.0219     -0.0569  \n1068   0.0000      0.0000  \n\n[1069 rows x 20 columns]",
      "text/html": "<div>\n<style scoped>\n    .dataframe tbody tr th:only-of-type {\n        vertical-align: middle;\n    }\n\n    .dataframe tbody tr th {\n        vertical-align: top;\n    }\n\n    .dataframe thead th {\n        text-align: right;\n    }\n</style>\n<table border=\"1\" class=\"dataframe\">\n  <thead>\n    <tr style=\"text-align: right;\">\n      <th></th>\n      <th>Step Type</th>\n      <th>I_mean</th>\n      <th>I_std</th>\n      <th>Time_range</th>\n      <th>Time_diff</th>\n      <th>Q_max</th>\n      <th>E_first</th>\n      <th>E_last</th>\n      <th>E_mean</th>\n      <th>T_mean</th>\n      <th>T_min</th>\n      <th>T_max</th>\n      <th>Datetime_min</th>\n      <th>Datetime_max</th>\n      <th>Total Time_min</th>\n      <th>Energy_max</th>\n      <th>P_mean</th>\n      <th>P_last</th>\n      <th>Net Q</th>\n      <th>Net Energy</th>\n    </tr>\n  </thead>\n  <tbody>\n    <tr>\n      <th>0</th>\n      <td>cc dchg</td>\n      <td>-17.993014</td>\n      <td>0.002701</td>\n      <td>52.0</td>\n      <td>8.666667</td>\n      <td>0.2614</td>\n      <td>3.1399</td>\n      <td>2.4996</td>\n      <td>2.841386</td>\n      <td>28.771429</td>\n      <td>28.6</td>\n      <td>29.1</td>\n      <td>2024-05-13 13:43:50</td>\n      <td>2024-05-13 13:44:42</td>\n      <td>0.0</td>\n      <td>0.7560</td>\n      <td>-51.125429</td>\n      <td>-44.9713</td>\n      <td>-0.2614</td>\n      <td>-0.7560</td>\n    </tr>\n    <tr>\n      <th>1</th>\n      <td>rest</td>\n      <td>0.000000</td>\n      <td>0.000000</td>\n      <td>1800.0</td>\n      <td>10.000000</td>\n      <td>0.0000</td>\n      <td>2.5367</td>\n      <td>3.0016</td>\n      <td>2.959207</td>\n      <td>27.730387</td>\n      <td>26.7</td>\n      <td>29.2</td>\n      <td>2024-05-13 13:44:43</td>\n      <td>2024-05-13 14:14:43</td>\n      <td>52.0</td>\n      <td>0.0000</td>\n      <td>0.000000</td>\n      <td>0.0000</td>\n      <td>0.0000</td>\n      <td>0.0000</td>\n    </tr>\n    <tr>\n      <th>2</th>\n      <td>cccv chg</td>\n      <td>16.072389</td>\n      <td>4.972748</td>\n      <td>4097.0</td>\n      <td>9.992683</td>\n      <td>18.3225</td>\n      <td>3.0329</td>\n      <td>4.2004</td>\n      <td>3.828520</td>\n      <td>28.518491</td>\n      <td>25.8</td>\n      <td>30.2</td>\n      <td>2024-05-13 14:14:43</td>\n      <td>2024-05-13 15:23:00</td>\n      <td>1852.0</td>\n      <td>69.3524</td>\n      <td>60.818700</td>\n      <td>3.7751</td>\n      <td>18.3225</td>\n      <td>69.3524</td>\n    </tr>\n    <tr>\n      <th>3</th>\n      <td>cc dchg</td>\n      <td>-17.995147</td>\n      <td>0.000866</td>\n      <td>3624.0</td>\n      <td>9.983471</td>\n      <td>18.1181</td>\n      <td>4.1813</td>\n      <td>2.4989</td>\n      <td>3.667616</td>\n      <td>29.431044</td>\n      <td>28.3</td>\n      <td>33.0</td>\n      <td>2024-05-13 15:23:00</td>\n      <td>2024-05-13 16:23:24</td>\n      <td>5949.0</td>\n      <td>66.4972</td>\n      <td>-65.999242</td>\n      <td>-44.9695</td>\n      <td>-18.1181</td>\n      <td>-66.4972</td>\n    </tr>\n    <tr>\n      <th>4</th>\n      <td>rest</td>\n      <td>0.000000</td>\n      <td>0.000000</td>\n      <td>1800.0</td>\n      <td>10.000000</td>\n      <td>0.0000</td>\n      <td>2.5233</td>\n      <td>3.1586</td>\n      <td>3.125591</td>\n      <td>30.379006</td>\n      <td>28.5</td>\n      <td>33.4</td>\n      <td>2024-05-13 16:23:24</td>\n      <td>2024-05-13 16:53:24</td>\n      <td>9573.0</td>\n      <td>0.0000</td>\n      <td>0.000000</td>\n      <td>0.0000</td>\n      <td>0.0000</td>\n      <td>0.0000</td>\n    </tr>\n    <tr>\n      <th>...</th>\n      <td>...</td>\n      <td>...</td>\n      <td>...</td>\n      <td>...</td>\n      <td>...</td>\n      <td>...</td>\n      <td>...</td>\n      <td>...</td>\n      <td>...</td>\n      <td>...</td>\n      <td>...</td>\n      <td>...</td>\n      <td>...</td>\n      <td>...</td>\n      <td>...</td>\n      <td>...</td>\n      <td>...</td>\n      <td>...</td>\n      <td>...</td>\n      <td>...</td>\n    </tr>\n    <tr>\n      <th>1064</th>\n      <td>cc dchg</td>\n      <td>-1.794800</td>\n      <td>NaN</td>\n      <td>0.0</td>\n      <td>NaN</td>\n      <td>0.0774</td>\n      <td>2.4996</td>\n      <td>2.4996</td>\n      <td>2.499600</td>\n      <td>25.4</td>\n      <td>25.4</td>\n      <td>25.4</td>\n      <td>2024-05-19 04:57:51</td>\n      <td>2024-05-19 04:57:51</td>\n      <td>486845.0</td>\n      <td>0.2117</td>\n      <td>-4.486300</td>\n      <td>-4.4863</td>\n      <td>-0.0774</td>\n      <td>-0.2117</td>\n    </tr>\n    <tr>\n      <th>1065</th>\n      <td>rest</td>\n      <td>0.000000</td>\n      <td>0.000000</td>\n      <td>10800.0</td>\n      <td>10.000000</td>\n      <td>0.0000</td>\n      <td>2.5034</td>\n      <td>2.6955</td>\n      <td>2.671606</td>\n      <td>26.715911</td>\n      <td>25.3</td>\n      <td>27.8</td>\n      <td>2024-05-19 04:57:51</td>\n      <td>2024-05-19 07:57:51</td>\n      <td>486845.0</td>\n      <td>0.0000</td>\n      <td>0.000000</td>\n      <td>0.0000</td>\n      <td>0.0000</td>\n      <td>0.0000</td>\n    </tr>\n    <tr>\n      <th>1066</th>\n      <td>cc dchg</td>\n      <td>-1.794505</td>\n      <td>0.001008</td>\n      <td>43.0</td>\n      <td>1.000000</td>\n      <td>0.0214</td>\n      <td>2.6952</td>\n      <td>2.5042</td>\n      <td>2.601175</td>\n      <td>27.095455</td>\n      <td>26.9</td>\n      <td>27.1</td>\n      <td>2024-05-19 07:57:51</td>\n      <td>2024-05-19 07:58:34</td>\n      <td>497645.0</td>\n      <td>0.0557</td>\n      <td>-4.667791</td>\n      <td>-4.4947</td>\n      <td>-0.0214</td>\n      <td>-0.0557</td>\n    </tr>\n    <tr>\n      <th>1067</th>\n      <td>cc dchg</td>\n      <td>-1.794700</td>\n      <td>NaN</td>\n      <td>0.0</td>\n      <td>NaN</td>\n      <td>0.0219</td>\n      <td>2.4997</td>\n      <td>2.4997</td>\n      <td>2.499700</td>\n      <td>27.1</td>\n      <td>27.1</td>\n      <td>27.1</td>\n      <td>2024-05-19 07:58:35</td>\n      <td>2024-05-19 07:58:35</td>\n      <td>497689.0</td>\n      <td>0.0569</td>\n      <td>-4.486100</td>\n      <td>-4.4861</td>\n      <td>-0.0219</td>\n      <td>-0.0569</td>\n    </tr>\n    <tr>\n      <th>1068</th>\n      <td>rest</td>\n      <td>0.000000</td>\n      <td>0.000000</td>\n      <td>10800.0</td>\n      <td>10.000000</td>\n      <td>0.0000</td>\n      <td>2.5017</td>\n      <td>2.6215</td>\n      <td>2.600604</td>\n      <td>27.33765</td>\n      <td>27.0</td>\n      <td>27.6</td>\n      <td>2024-05-19 07:58:35</td>\n      <td>2024-05-19 10:58:34</td>\n      <td>497689.0</td>\n      <td>0.0000</td>\n      <td>0.000000</td>\n      <td>0.0000</td>\n      <td>0.0000</td>\n      <td>0.0000</td>\n    </tr>\n  </tbody>\n</table>\n<p>1069 rows × 20 columns</p>\n</div>"
     },
     "execution_count": 11,
     "metadata": {},
     "output_type": "execute_result"
    }
   ],
   "source": [
    "statistics"
   ],
   "metadata": {
    "collapsed": false,
    "ExecuteTime": {
     "end_time": "2024-06-10T09:04:12.626222800Z",
     "start_time": "2024-06-10T09:04:12.583031900Z"
    }
   }
  },
  {
   "cell_type": "code",
   "execution_count": null,
   "outputs": [],
   "source": [
    "slice = bp.exporting.load_experiment(save_path, parse_dates = ['Datetime_min', 'Datetime_max'])\n",
    "slice['Step Type'].str.findall('.*dchg')"
   ],
   "metadata": {
    "collapsed": false
   }
  },
  {
   "cell_type": "code",
   "execution_count": 137,
   "outputs": [
    {
     "name": "stderr",
     "output_type": "stream",
     "text": [
      "C:\\Users\\sk804\\AppData\\Local\\Temp\\ipykernel_12556\\667288033.py:1: UserWarning: Boolean Series key will be reindexed to match DataFrame index.\n",
      "  slice_1 = result[result['Step_id']==3][result['ID']=='NMC10']\n"
     ]
    },
    {
     "data": {
      "text/plain": "          ID Chem Protocol                                  Tech  Step_id  \\\nIndex                                                                       \n67     NMC10  NMC   CCroom  Заявка № 60 Образцы C-NMC № 010, 011        3   \n68     NMC10  NMC   CCroom  Заявка № 60 Образцы C-NMC № 010, 011        3   \n\n                                   Step  Pouch Thermos  Potentiostat  Channel  \\\nIndex                                                                           \n67     3. Пункт 5 Циклирование 28 суток     10      []           132        1   \n68     3. Пункт 5 Циклирование 28 суток     10      []           132        1   \n\n          Datetime_id  \\\nIndex                   \n67     20240404103731   \n68     20240411142851   \n\n                                                                                                                                                                                                          Path  \nIndex                                                                                                                                                                                                           \n67     D:\\!Science\\Физтех\\Циклирования\\28.05.24 - результаты\\NMC\\Заявка № 60 Образцы C-NMC № 010, 011\\3. Пункт 5 Циклирование 28 суток\\010\\до сбоя\\BTS82-132-1-1-113-20240404103731-Циклирование 28 суток.xlsx  \n68                     D:\\!Science\\Физтех\\Циклирования\\28.05.24 - результаты\\NMC\\Заявка № 60 Образцы C-NMC № 010, 011\\3. Пункт 5 Циклирование 28 суток\\010\\после сбоя\\BTS82-132-1-1-116-20240411142851-п5.xlsx  ",
      "text/html": "<div>\n<style scoped>\n    .dataframe tbody tr th:only-of-type {\n        vertical-align: middle;\n    }\n\n    .dataframe tbody tr th {\n        vertical-align: top;\n    }\n\n    .dataframe thead th {\n        text-align: right;\n    }\n</style>\n<table border=\"1\" class=\"dataframe\">\n  <thead>\n    <tr style=\"text-align: right;\">\n      <th></th>\n      <th>ID</th>\n      <th>Chem</th>\n      <th>Protocol</th>\n      <th>Tech</th>\n      <th>Step_id</th>\n      <th>Step</th>\n      <th>Pouch</th>\n      <th>Thermos</th>\n      <th>Potentiostat</th>\n      <th>Channel</th>\n      <th>Datetime_id</th>\n      <th>Path</th>\n    </tr>\n    <tr>\n      <th>Index</th>\n      <th></th>\n      <th></th>\n      <th></th>\n      <th></th>\n      <th></th>\n      <th></th>\n      <th></th>\n      <th></th>\n      <th></th>\n      <th></th>\n      <th></th>\n      <th></th>\n    </tr>\n  </thead>\n  <tbody>\n    <tr>\n      <th>67</th>\n      <td>NMC10</td>\n      <td>NMC</td>\n      <td>CCroom</td>\n      <td>Заявка № 60 Образцы C-NMC № 010, 011</td>\n      <td>3</td>\n      <td>3. Пункт 5 Циклирование 28 суток</td>\n      <td>10</td>\n      <td>[]</td>\n      <td>132</td>\n      <td>1</td>\n      <td>20240404103731</td>\n      <td>D:\\!Science\\Физтех\\Циклирования\\28.05.24 - результаты\\NMC\\Заявка № 60 Образцы C-NMC № 010, 011\\3. Пункт 5 Циклирование 28 суток\\010\\до сбоя\\BTS82-132-1-1-113-20240404103731-Циклирование 28 суток.xlsx</td>\n    </tr>\n    <tr>\n      <th>68</th>\n      <td>NMC10</td>\n      <td>NMC</td>\n      <td>CCroom</td>\n      <td>Заявка № 60 Образцы C-NMC № 010, 011</td>\n      <td>3</td>\n      <td>3. Пункт 5 Циклирование 28 суток</td>\n      <td>10</td>\n      <td>[]</td>\n      <td>132</td>\n      <td>1</td>\n      <td>20240411142851</td>\n      <td>D:\\!Science\\Физтех\\Циклирования\\28.05.24 - результаты\\NMC\\Заявка № 60 Образцы C-NMC № 010, 011\\3. Пункт 5 Циклирование 28 суток\\010\\после сбоя\\BTS82-132-1-1-116-20240411142851-п5.xlsx</td>\n    </tr>\n  </tbody>\n</table>\n</div>"
     },
     "execution_count": 137,
     "metadata": {},
     "output_type": "execute_result"
    }
   ],
   "source": [
    "slice_1 = result[result['Step_id']==3][result['ID']=='NMC10']\n",
    "slice_1"
   ],
   "metadata": {
    "collapsed": false,
    "ExecuteTime": {
     "end_time": "2024-06-06T20:46:40.747877600Z",
     "start_time": "2024-06-06T20:46:40.717972400Z"
    }
   }
  },
  {
   "cell_type": "code",
   "execution_count": 140,
   "outputs": [
    {
     "name": "stdout",
     "output_type": "stream",
     "text": [
      "LFP3 3\n"
     ]
    },
    {
     "name": "stderr",
     "output_type": "stream",
     "text": [
      "D:\\Python\\Projects\\Battery_Parser\\venv\\Lib\\site-packages\\openpyxl\\styles\\stylesheet.py:226: UserWarning: Workbook contains no default style, apply openpyxl's default\n",
      "  warn(\"Workbook contains no default style, apply openpyxl's default\")\n",
      "D:\\Python\\Projects\\Battery_Parser\\venv\\Lib\\site-packages\\openpyxl\\styles\\stylesheet.py:226: UserWarning: Workbook contains no default style, apply openpyxl's default\n",
      "  warn(\"Workbook contains no default style, apply openpyxl's default\")\n"
     ]
    }
   ],
   "source": [
    "# Проверка что всё время в статистике идёт подряд и нет скачков.\n",
    "slices =[i for i in  result.groupby(['ID', 'Step_id'])]\n",
    "slice = slices[10]\n",
    "# pouch, step = slice_1[0]\n",
    "# print(pouch, step)\n",
    "statistics, data = create_statistics(slice_1, statistic_pattern)"
   ],
   "metadata": {
    "collapsed": false,
    "ExecuteTime": {
     "end_time": "2024-06-06T20:50:04.269567400Z",
     "start_time": "2024-06-06T20:49:09.061075700Z"
    }
   }
  },
  {
   "cell_type": "code",
   "execution_count": 54,
   "outputs": [
    {
     "data": {
      "text/plain": "      Step Type     I_mean     I_std  Time_range  Time_diff   Q_max  E_first  \\\n75500    cp chg  21.246444  0.140481         8.0        1.0  0.0471   3.2393   \n75501   cp dchg -21.353391  0.034357        32.0        1.0  0.1899   3.3072   \n75502    cp chg  42.137178  0.244954         8.0        1.0  0.0935   3.2740   \n75503      rest   0.000000  0.000000        44.0        1.0  0.0000   3.3101   \n75504      rest   0.000000  0.000000        16.0        1.0  0.0000   3.3073   \n75505   cp dchg -10.601572  0.007603        28.0        1.0  0.0825   3.3084   \n75506   cp dchg -21.299454  0.020659        12.0        1.0  0.0710   3.2946   \n75507    cp chg  10.577322  0.034052         8.0        1.0  0.0235   3.2814   \n75508      rest   0.000000  0.000000        16.0        1.0  0.0000   3.3052   \n75509   cp dchg -10.605400  0.006998        24.0        1.0  0.0707   3.3062   \n75510   cp dchg -21.304646  0.019728        12.0        1.0  0.0710   3.2934   \n75511    cp chg  10.583456  0.033140         8.0        1.0  0.0235   3.2803   \n75512      rest   0.000000  0.000000        16.0        1.0  0.0000   3.3042   \n75513   cp dchg -10.609808  0.006909        24.0        1.0  0.0707   3.3051   \n75514   cp dchg -21.314385  0.021530        12.0        1.0  0.0711   3.2923   \n75515    cp chg  10.585844  0.034612         8.0        1.0  0.0235   3.2793   \n75516      rest   0.000000  0.000000        16.0        1.0  0.0000   3.3030   \n75517   cp dchg -10.616476  0.007327        36.0        1.0  0.1062   3.3040   \n75518   cp dchg -86.624511  0.592796         8.0        1.0  0.1928   3.2901   \n75519   cp dchg -54.074052  0.071959        24.0        1.0  0.3604   3.2173   \n\n       E_last    E_mean     T_mean T_min T_max        Datetime_min  \\\n75500  3.3070  3.293433  44.866667  44.8  44.9 2024-05-09 04:53:09   \n75501  3.2740  3.275994  44.827273  44.8  44.9 2024-05-09 04:53:17   \n75502  3.3357  3.322200  44.788889  44.7  44.8 2024-05-09 04:53:49   \n75503  3.3073  3.305876  44.802222  44.7  45.0 2024-05-09 04:53:57   \n75504  3.3084  3.307829  44.788235  44.7  44.8 2024-05-09 04:54:41   \n75505  3.2946  3.297345       44.8  44.8  44.8 2024-05-09 04:54:57   \n75506  3.2815  3.284631       44.8  44.8  44.8 2024-05-09 04:55:25   \n75507  3.3116  3.305267       44.8  44.8  44.8 2024-05-09 04:55:37   \n75508  3.3062  3.305329       44.8  44.8  44.8 2024-05-09 04:55:45   \n75509  3.2935  3.295900     44.796  44.7  44.8 2024-05-09 04:56:01   \n75510  3.2803  3.283477       44.8  44.8  44.8 2024-05-09 04:55:29   \n75511  3.3105  3.304133       44.8  44.8  44.8 2024-05-09 04:55:36   \n75512  3.3051  3.304218  44.782353  44.7  44.8 2024-05-09 04:55:44   \n75513  3.2923  3.294772     44.788  44.7  44.8 2024-05-09 04:56:00   \n75514  3.2792  3.282338  44.761538  44.7  44.8 2024-05-09 04:56:24   \n75515  3.3094  3.303078  44.788889  44.7  44.8 2024-05-09 04:56:36   \n75516  3.3040  3.303159  44.788235  44.7  44.8 2024-05-09 04:56:44   \n75517  3.2901  3.292649  44.762162  44.7  44.8 2024-05-09 04:57:00   \n75518  3.2174  3.232378  44.788889  44.7  44.8 2024-05-09 04:57:36   \n75519  3.2337  3.235408     44.792  44.7  44.8 2024-05-09 04:57:44   \n\n             Datetime_max  Energy_max      P_mean    P_last   Net Q  \\\n75500 2024-05-09 04:53:17      0.1555   69.971044   69.9536  0.0471   \n75501 2024-05-09 04:53:49      0.6218  -69.953394  -69.9593 -0.1899   \n75502 2024-05-09 04:53:57      0.3111  139.984044  139.9583  0.0935   \n75503 2024-05-09 04:54:41      0.0000    0.000000    0.0000  0.0000   \n75504 2024-05-09 04:54:57      0.0000    0.000000    0.0000  0.0000   \n75505 2024-05-09 04:55:25      0.2719  -34.957007  -34.9599 -0.0825   \n75506 2024-05-09 04:55:37      0.2332  -69.960769  -69.9666 -0.0710   \n75507 2024-05-09 04:55:45      0.0777   34.960578   34.9655  0.0235   \n75508 2024-05-09 04:56:01      0.0000    0.000000    0.0000  0.0000   \n75509 2024-05-09 04:56:25      0.2330  -34.954308  -34.9420 -0.0707   \n75510 2024-05-09 04:56:29      0.2332  -69.953192  -69.9523 -0.0710   \n75511 2024-05-09 04:55:44      0.0777   34.968878   34.9683  0.0235   \n75512 2024-05-09 04:56:00      0.0000    0.000000    0.0000  0.0000   \n75513 2024-05-09 04:56:24      0.2330  -34.956876  -34.9625 -0.0707   \n75514 2024-05-09 04:56:36      0.2332  -69.960908  -69.9988 -0.0711   \n75515 2024-05-09 04:56:44      0.0777   34.965622   34.9596  0.0235   \n75516 2024-05-09 04:57:00      0.0000    0.000000    0.0000  0.0000   \n75517 2024-05-09 04:57:36      0.3496  -34.956311  -34.9583 -0.1062   \n75518 2024-05-09 04:57:44      0.6222 -279.991278 -279.9536 -0.1928   \n75519 2024-05-09 04:58:08      1.1663 -174.951356 -174.9393 -0.3604   \n\n       Net Energy  \n75500      0.1555  \n75501     -0.6218  \n75502      0.3111  \n75503      0.0000  \n75504      0.0000  \n75505     -0.2719  \n75506     -0.2332  \n75507      0.0777  \n75508      0.0000  \n75509     -0.2330  \n75510     -0.2332  \n75511      0.0777  \n75512      0.0000  \n75513     -0.2330  \n75514     -0.2332  \n75515      0.0777  \n75516      0.0000  \n75517     -0.3496  \n75518     -0.6222  \n75519     -1.1663  ",
      "text/html": "<div>\n<style scoped>\n    .dataframe tbody tr th:only-of-type {\n        vertical-align: middle;\n    }\n\n    .dataframe tbody tr th {\n        vertical-align: top;\n    }\n\n    .dataframe thead th {\n        text-align: right;\n    }\n</style>\n<table border=\"1\" class=\"dataframe\">\n  <thead>\n    <tr style=\"text-align: right;\">\n      <th></th>\n      <th>Step Type</th>\n      <th>I_mean</th>\n      <th>I_std</th>\n      <th>Time_range</th>\n      <th>Time_diff</th>\n      <th>Q_max</th>\n      <th>E_first</th>\n      <th>E_last</th>\n      <th>E_mean</th>\n      <th>T_mean</th>\n      <th>T_min</th>\n      <th>T_max</th>\n      <th>Datetime_min</th>\n      <th>Datetime_max</th>\n      <th>Energy_max</th>\n      <th>P_mean</th>\n      <th>P_last</th>\n      <th>Net Q</th>\n      <th>Net Energy</th>\n    </tr>\n  </thead>\n  <tbody>\n    <tr>\n      <th>75500</th>\n      <td>cp chg</td>\n      <td>21.246444</td>\n      <td>0.140481</td>\n      <td>8.0</td>\n      <td>1.0</td>\n      <td>0.0471</td>\n      <td>3.2393</td>\n      <td>3.3070</td>\n      <td>3.293433</td>\n      <td>44.866667</td>\n      <td>44.8</td>\n      <td>44.9</td>\n      <td>2024-05-09 04:53:09</td>\n      <td>2024-05-09 04:53:17</td>\n      <td>0.1555</td>\n      <td>69.971044</td>\n      <td>69.9536</td>\n      <td>0.0471</td>\n      <td>0.1555</td>\n    </tr>\n    <tr>\n      <th>75501</th>\n      <td>cp dchg</td>\n      <td>-21.353391</td>\n      <td>0.034357</td>\n      <td>32.0</td>\n      <td>1.0</td>\n      <td>0.1899</td>\n      <td>3.3072</td>\n      <td>3.2740</td>\n      <td>3.275994</td>\n      <td>44.827273</td>\n      <td>44.8</td>\n      <td>44.9</td>\n      <td>2024-05-09 04:53:17</td>\n      <td>2024-05-09 04:53:49</td>\n      <td>0.6218</td>\n      <td>-69.953394</td>\n      <td>-69.9593</td>\n      <td>-0.1899</td>\n      <td>-0.6218</td>\n    </tr>\n    <tr>\n      <th>75502</th>\n      <td>cp chg</td>\n      <td>42.137178</td>\n      <td>0.244954</td>\n      <td>8.0</td>\n      <td>1.0</td>\n      <td>0.0935</td>\n      <td>3.2740</td>\n      <td>3.3357</td>\n      <td>3.322200</td>\n      <td>44.788889</td>\n      <td>44.7</td>\n      <td>44.8</td>\n      <td>2024-05-09 04:53:49</td>\n      <td>2024-05-09 04:53:57</td>\n      <td>0.3111</td>\n      <td>139.984044</td>\n      <td>139.9583</td>\n      <td>0.0935</td>\n      <td>0.3111</td>\n    </tr>\n    <tr>\n      <th>75503</th>\n      <td>rest</td>\n      <td>0.000000</td>\n      <td>0.000000</td>\n      <td>44.0</td>\n      <td>1.0</td>\n      <td>0.0000</td>\n      <td>3.3101</td>\n      <td>3.3073</td>\n      <td>3.305876</td>\n      <td>44.802222</td>\n      <td>44.7</td>\n      <td>45.0</td>\n      <td>2024-05-09 04:53:57</td>\n      <td>2024-05-09 04:54:41</td>\n      <td>0.0000</td>\n      <td>0.000000</td>\n      <td>0.0000</td>\n      <td>0.0000</td>\n      <td>0.0000</td>\n    </tr>\n    <tr>\n      <th>75504</th>\n      <td>rest</td>\n      <td>0.000000</td>\n      <td>0.000000</td>\n      <td>16.0</td>\n      <td>1.0</td>\n      <td>0.0000</td>\n      <td>3.3073</td>\n      <td>3.3084</td>\n      <td>3.307829</td>\n      <td>44.788235</td>\n      <td>44.7</td>\n      <td>44.8</td>\n      <td>2024-05-09 04:54:41</td>\n      <td>2024-05-09 04:54:57</td>\n      <td>0.0000</td>\n      <td>0.000000</td>\n      <td>0.0000</td>\n      <td>0.0000</td>\n      <td>0.0000</td>\n    </tr>\n    <tr>\n      <th>75505</th>\n      <td>cp dchg</td>\n      <td>-10.601572</td>\n      <td>0.007603</td>\n      <td>28.0</td>\n      <td>1.0</td>\n      <td>0.0825</td>\n      <td>3.3084</td>\n      <td>3.2946</td>\n      <td>3.297345</td>\n      <td>44.8</td>\n      <td>44.8</td>\n      <td>44.8</td>\n      <td>2024-05-09 04:54:57</td>\n      <td>2024-05-09 04:55:25</td>\n      <td>0.2719</td>\n      <td>-34.957007</td>\n      <td>-34.9599</td>\n      <td>-0.0825</td>\n      <td>-0.2719</td>\n    </tr>\n    <tr>\n      <th>75506</th>\n      <td>cp dchg</td>\n      <td>-21.299454</td>\n      <td>0.020659</td>\n      <td>12.0</td>\n      <td>1.0</td>\n      <td>0.0710</td>\n      <td>3.2946</td>\n      <td>3.2815</td>\n      <td>3.284631</td>\n      <td>44.8</td>\n      <td>44.8</td>\n      <td>44.8</td>\n      <td>2024-05-09 04:55:25</td>\n      <td>2024-05-09 04:55:37</td>\n      <td>0.2332</td>\n      <td>-69.960769</td>\n      <td>-69.9666</td>\n      <td>-0.0710</td>\n      <td>-0.2332</td>\n    </tr>\n    <tr>\n      <th>75507</th>\n      <td>cp chg</td>\n      <td>10.577322</td>\n      <td>0.034052</td>\n      <td>8.0</td>\n      <td>1.0</td>\n      <td>0.0235</td>\n      <td>3.2814</td>\n      <td>3.3116</td>\n      <td>3.305267</td>\n      <td>44.8</td>\n      <td>44.8</td>\n      <td>44.8</td>\n      <td>2024-05-09 04:55:37</td>\n      <td>2024-05-09 04:55:45</td>\n      <td>0.0777</td>\n      <td>34.960578</td>\n      <td>34.9655</td>\n      <td>0.0235</td>\n      <td>0.0777</td>\n    </tr>\n    <tr>\n      <th>75508</th>\n      <td>rest</td>\n      <td>0.000000</td>\n      <td>0.000000</td>\n      <td>16.0</td>\n      <td>1.0</td>\n      <td>0.0000</td>\n      <td>3.3052</td>\n      <td>3.3062</td>\n      <td>3.305329</td>\n      <td>44.8</td>\n      <td>44.8</td>\n      <td>44.8</td>\n      <td>2024-05-09 04:55:45</td>\n      <td>2024-05-09 04:56:01</td>\n      <td>0.0000</td>\n      <td>0.000000</td>\n      <td>0.0000</td>\n      <td>0.0000</td>\n      <td>0.0000</td>\n    </tr>\n    <tr>\n      <th>75509</th>\n      <td>cp dchg</td>\n      <td>-10.605400</td>\n      <td>0.006998</td>\n      <td>24.0</td>\n      <td>1.0</td>\n      <td>0.0707</td>\n      <td>3.3062</td>\n      <td>3.2935</td>\n      <td>3.295900</td>\n      <td>44.796</td>\n      <td>44.7</td>\n      <td>44.8</td>\n      <td>2024-05-09 04:56:01</td>\n      <td>2024-05-09 04:56:25</td>\n      <td>0.2330</td>\n      <td>-34.954308</td>\n      <td>-34.9420</td>\n      <td>-0.0707</td>\n      <td>-0.2330</td>\n    </tr>\n    <tr>\n      <th>75510</th>\n      <td>cp dchg</td>\n      <td>-21.304646</td>\n      <td>0.019728</td>\n      <td>12.0</td>\n      <td>1.0</td>\n      <td>0.0710</td>\n      <td>3.2934</td>\n      <td>3.2803</td>\n      <td>3.283477</td>\n      <td>44.8</td>\n      <td>44.8</td>\n      <td>44.8</td>\n      <td>2024-05-09 04:55:29</td>\n      <td>2024-05-09 04:56:29</td>\n      <td>0.2332</td>\n      <td>-69.953192</td>\n      <td>-69.9523</td>\n      <td>-0.0710</td>\n      <td>-0.2332</td>\n    </tr>\n    <tr>\n      <th>75511</th>\n      <td>cp chg</td>\n      <td>10.583456</td>\n      <td>0.033140</td>\n      <td>8.0</td>\n      <td>1.0</td>\n      <td>0.0235</td>\n      <td>3.2803</td>\n      <td>3.3105</td>\n      <td>3.304133</td>\n      <td>44.8</td>\n      <td>44.8</td>\n      <td>44.8</td>\n      <td>2024-05-09 04:55:36</td>\n      <td>2024-05-09 04:55:44</td>\n      <td>0.0777</td>\n      <td>34.968878</td>\n      <td>34.9683</td>\n      <td>0.0235</td>\n      <td>0.0777</td>\n    </tr>\n    <tr>\n      <th>75512</th>\n      <td>rest</td>\n      <td>0.000000</td>\n      <td>0.000000</td>\n      <td>16.0</td>\n      <td>1.0</td>\n      <td>0.0000</td>\n      <td>3.3042</td>\n      <td>3.3051</td>\n      <td>3.304218</td>\n      <td>44.782353</td>\n      <td>44.7</td>\n      <td>44.8</td>\n      <td>2024-05-09 04:55:44</td>\n      <td>2024-05-09 04:56:00</td>\n      <td>0.0000</td>\n      <td>0.000000</td>\n      <td>0.0000</td>\n      <td>0.0000</td>\n      <td>0.0000</td>\n    </tr>\n    <tr>\n      <th>75513</th>\n      <td>cp dchg</td>\n      <td>-10.609808</td>\n      <td>0.006909</td>\n      <td>24.0</td>\n      <td>1.0</td>\n      <td>0.0707</td>\n      <td>3.3051</td>\n      <td>3.2923</td>\n      <td>3.294772</td>\n      <td>44.788</td>\n      <td>44.7</td>\n      <td>44.8</td>\n      <td>2024-05-09 04:56:00</td>\n      <td>2024-05-09 04:56:24</td>\n      <td>0.2330</td>\n      <td>-34.956876</td>\n      <td>-34.9625</td>\n      <td>-0.0707</td>\n      <td>-0.2330</td>\n    </tr>\n    <tr>\n      <th>75514</th>\n      <td>cp dchg</td>\n      <td>-21.314385</td>\n      <td>0.021530</td>\n      <td>12.0</td>\n      <td>1.0</td>\n      <td>0.0711</td>\n      <td>3.2923</td>\n      <td>3.2792</td>\n      <td>3.282338</td>\n      <td>44.761538</td>\n      <td>44.7</td>\n      <td>44.8</td>\n      <td>2024-05-09 04:56:24</td>\n      <td>2024-05-09 04:56:36</td>\n      <td>0.2332</td>\n      <td>-69.960908</td>\n      <td>-69.9988</td>\n      <td>-0.0711</td>\n      <td>-0.2332</td>\n    </tr>\n    <tr>\n      <th>75515</th>\n      <td>cp chg</td>\n      <td>10.585844</td>\n      <td>0.034612</td>\n      <td>8.0</td>\n      <td>1.0</td>\n      <td>0.0235</td>\n      <td>3.2793</td>\n      <td>3.3094</td>\n      <td>3.303078</td>\n      <td>44.788889</td>\n      <td>44.7</td>\n      <td>44.8</td>\n      <td>2024-05-09 04:56:36</td>\n      <td>2024-05-09 04:56:44</td>\n      <td>0.0777</td>\n      <td>34.965622</td>\n      <td>34.9596</td>\n      <td>0.0235</td>\n      <td>0.0777</td>\n    </tr>\n    <tr>\n      <th>75516</th>\n      <td>rest</td>\n      <td>0.000000</td>\n      <td>0.000000</td>\n      <td>16.0</td>\n      <td>1.0</td>\n      <td>0.0000</td>\n      <td>3.3030</td>\n      <td>3.3040</td>\n      <td>3.303159</td>\n      <td>44.788235</td>\n      <td>44.7</td>\n      <td>44.8</td>\n      <td>2024-05-09 04:56:44</td>\n      <td>2024-05-09 04:57:00</td>\n      <td>0.0000</td>\n      <td>0.000000</td>\n      <td>0.0000</td>\n      <td>0.0000</td>\n      <td>0.0000</td>\n    </tr>\n    <tr>\n      <th>75517</th>\n      <td>cp dchg</td>\n      <td>-10.616476</td>\n      <td>0.007327</td>\n      <td>36.0</td>\n      <td>1.0</td>\n      <td>0.1062</td>\n      <td>3.3040</td>\n      <td>3.2901</td>\n      <td>3.292649</td>\n      <td>44.762162</td>\n      <td>44.7</td>\n      <td>44.8</td>\n      <td>2024-05-09 04:57:00</td>\n      <td>2024-05-09 04:57:36</td>\n      <td>0.3496</td>\n      <td>-34.956311</td>\n      <td>-34.9583</td>\n      <td>-0.1062</td>\n      <td>-0.3496</td>\n    </tr>\n    <tr>\n      <th>75518</th>\n      <td>cp dchg</td>\n      <td>-86.624511</td>\n      <td>0.592796</td>\n      <td>8.0</td>\n      <td>1.0</td>\n      <td>0.1928</td>\n      <td>3.2901</td>\n      <td>3.2174</td>\n      <td>3.232378</td>\n      <td>44.788889</td>\n      <td>44.7</td>\n      <td>44.8</td>\n      <td>2024-05-09 04:57:36</td>\n      <td>2024-05-09 04:57:44</td>\n      <td>0.6222</td>\n      <td>-279.991278</td>\n      <td>-279.9536</td>\n      <td>-0.1928</td>\n      <td>-0.6222</td>\n    </tr>\n    <tr>\n      <th>75519</th>\n      <td>cp dchg</td>\n      <td>-54.074052</td>\n      <td>0.071959</td>\n      <td>24.0</td>\n      <td>1.0</td>\n      <td>0.3604</td>\n      <td>3.2173</td>\n      <td>3.2337</td>\n      <td>3.235408</td>\n      <td>44.792</td>\n      <td>44.7</td>\n      <td>44.8</td>\n      <td>2024-05-09 04:57:44</td>\n      <td>2024-05-09 04:58:08</td>\n      <td>1.1663</td>\n      <td>-174.951356</td>\n      <td>-174.9393</td>\n      <td>-0.3604</td>\n      <td>-1.1663</td>\n    </tr>\n  </tbody>\n</table>\n</div>"
     },
     "execution_count": 54,
     "metadata": {},
     "output_type": "execute_result"
    }
   ],
   "source": [
    "np.where(statistics['Datetime_min'] < statistics['Datetime_min'].shift(), )[0]\n",
    "\n",
    "statistics[75500:75520]"
   ],
   "metadata": {
    "collapsed": false,
    "ExecuteTime": {
     "end_time": "2024-06-06T17:33:13.251946100Z",
     "start_time": "2024-06-06T17:33:13.227043500Z"
    }
   }
  },
  {
   "cell_type": "code",
   "execution_count": 111,
   "outputs": [],
   "source": [
    "# dataset = pd.concat(data,ignore_index=True)\n",
    "# bp.rename_columns(dataset, {'Power(W)':'P'})\n",
    "# bp.parse_time(dataset, time_column='Time', datetime_column='Datetime')\n",
    "# bp.parse_time(dataset, time_column='Total Time')\n",
    "# statistics = bp.generate_statistics(dataset, group_marker=(dataset['Time'] < dataset['Time'].shift()).cumsum(), statistics_pattern=statistic_pattern)\n",
    "# statistics['Net Q'] = np.sign(statistics['I_mean'])*statistics['Q_max']\n",
    "# statistics['Net Energy'] = np.sign(statistics['I_mean'])*statistics['Energy_max']\n",
    "# bp.rename_columns(statistics, {'Step Type_unique_values':'Step Type'})\n",
    "# statistics['Step Type'] = statistics['Step Type'].str.lower()\n"
   ],
   "metadata": {
    "collapsed": false,
    "ExecuteTime": {
     "end_time": "2024-06-06T20:35:05.816677700Z",
     "start_time": "2024-06-06T20:34:36.372331800Z"
    }
   }
  },
  {
   "cell_type": "code",
   "execution_count": 7,
   "outputs": [
    {
     "name": "stdout",
     "output_type": "stream",
     "text": [
      "LFP1 1\n",
      "LFP1 2\n",
      "LFP1 3\n",
      "LFP1 4\n",
      "LFP2 1\n",
      "LFP2 2\n",
      "LFP2 3\n",
      "LFP2 4\n",
      "LFP3 1\n",
      "LFP3 2\n",
      "LFP3 3\n",
      "LFP3 4\n",
      "LFP4 1\n",
      "LFP4 2\n",
      "LFP4 3\n",
      "LFP4 4\n",
      "LFP5 1\n",
      "LFP5 2\n",
      "LFP5 3\n",
      "LFP5 4\n",
      "LFP6 1\n",
      "LFP6 2\n",
      "LFP6 3\n",
      "LFP6 4\n",
      "LFP7 1\n",
      "LFP7 2\n",
      "LFP7 3\n",
      "LFP7 4\n",
      "LFP8 1\n",
      "LFP8 2\n",
      "LFP8 3\n",
      "LFP8 4\n",
      "LTO11 1\n",
      "LTO11 2\n",
      "LTO11 3\n",
      "LTO11 4\n",
      "LTO12 1\n",
      "LTO12 2\n",
      "LTO12 3\n",
      "LTO12 4\n",
      "LTO13 1\n",
      "LTO13 2\n",
      "LTO13 3\n",
      "LTO13 4\n",
      "LTO3 1\n",
      "LTO3 2\n",
      "LTO3 3\n",
      "LTO3 4\n",
      "LTO4 1\n",
      "LTO4 2\n",
      "LTO4 3\n",
      "LTO4 4\n",
      "LTO5 1\n",
      "LTO5 2\n",
      "LTO5 3\n",
      "LTO5 4\n",
      "LTO6 1\n",
      "LTO6 2\n",
      "LTO6 3\n",
      "LTO6 4\n",
      "LTO7 1\n",
      "LTO7 2\n",
      "LTO7 3\n",
      "LTO7 4\n",
      "NMC10 1\n",
      "NMC10 2\n",
      "NMC10 3\n",
      "NMC10 4\n",
      "NMC11 1\n",
      "NMC11 2\n",
      "NMC11 3\n",
      "NMC11 4\n",
      "NMC12 1\n",
      "NMC12 2\n",
      "NMC12 3\n",
      "NMC12 4\n",
      "NMC13 1\n",
      "NMC13 2\n",
      "NMC13 3\n",
      "NMC13 4\n",
      "NMC14 1\n",
      "NMC14 2\n",
      "NMC14 3\n",
      "NMC14 4\n",
      "NMC15 1\n",
      "NMC15 2\n",
      "NMC15 3\n",
      "NMC15 4\n",
      "NMC6 1\n",
      "NMC6 2\n",
      "NMC6 3\n",
      "NMC6 4\n",
      "NMC7 1\n",
      "NMC7 2\n",
      "NMC7 3\n",
      "NMC7 4\n"
     ]
    }
   ],
   "source": [
    "data_path = r'D:\\!Science\\Физтех\\Циклирования\\Результаты\\Данные'\n",
    "slices = [i for i in result.groupby(['ID', 'Step_id'])]\n",
    "data = {}\n",
    "for slice in slices:\n",
    "    pouch, step = slice[0]\n",
    "    print(pouch, step)\n",
    "    filepath = fr'{data_path}\\{step}\\{pouch}.csv'\n",
    "    data[slice[0]] = bp.exporting.load_experiment(filepath, parse_dates = ['Datetime'])"
   ],
   "metadata": {
    "collapsed": false,
    "ExecuteTime": {
     "end_time": "2024-06-10T10:18:07.690762500Z",
     "start_time": "2024-06-10T10:16:16.096236600Z"
    }
   }
  },
  {
   "cell_type": "code",
   "execution_count": 24,
   "outputs": [],
   "source": [
    "for key, dataset in data.items():\n",
    "    pouch, step = key\n",
    "    statistics = bp.generate_statistics(dataset, group_marker=[(dataset['Time'] < dataset['Time'].shift()).cumsum(), (dataset['Step Type'] != dataset['Step Type'].shift()).cumsum()], statistics_pattern=statistic_pattern)\n",
    "    statistics['Net Q'] = np.sign(statistics['I_mean'])*statistics['Q_max']\n",
    "    statistics['Net Energy'] = np.sign(statistics['I_mean'])*statistics['Energy_max']\n",
    "    bp.rename_columns(statistics, {'Step Type_unique_values':'Step Type'})\n",
    "    statistics['Step Type'] = statistics['Step Type'].str.lower()\n",
    "    statistics.reset_index(drop=True, inplace=True)\n",
    "    check_time_consequence(statistics,)\n",
    "    save_path = fr'D:\\!Science\\Физтех\\Циклирования\\Результаты\\Статистика\\{step}\\{pouch}.csv'\n",
    "    bp.exporting.save_experiment(statistics, save_path)"
   ],
   "metadata": {
    "collapsed": false,
    "ExecuteTime": {
     "end_time": "2024-06-10T11:05:00.597996Z",
     "start_time": "2024-06-10T11:02:11.723759700Z"
    }
   }
  }
 ],
 "metadata": {
  "kernelspec": {
   "display_name": "Python 3",
   "language": "python",
   "name": "python3"
  },
  "language_info": {
   "codemirror_mode": {
    "name": "ipython",
    "version": 2
   },
   "file_extension": ".py",
   "mimetype": "text/x-python",
   "name": "python",
   "nbconvert_exporter": "python",
   "pygments_lexer": "ipython2",
   "version": "2.7.6"
  }
 },
 "nbformat": 4,
 "nbformat_minor": 0
}
