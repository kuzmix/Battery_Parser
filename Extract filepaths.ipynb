{
 "cells": [
  {
   "cell_type": "code",
   "execution_count": 1,
   "metadata": {
    "collapsed": true,
    "ExecuteTime": {
     "end_time": "2024-06-06T10:11:15.717813200Z",
     "start_time": "2024-06-06T10:11:12.507653600Z"
    }
   },
   "outputs": [],
   "source": [
    "import battery_parser as bp\n",
    "import os\n",
    "import pandas as pd\n",
    "import numpy as np\n",
    "import re\n",
    "import copy\n",
    "import itertools"
   ]
  },
  {
   "cell_type": "code",
   "execution_count": 2,
   "outputs": [],
   "source": [
    "\n",
    "root_dir  = r'D:\\!Science\\Физтех\\Циклирования\\28.05.24 - результаты'\n",
    "\n"
   ],
   "metadata": {
    "collapsed": false,
    "ExecuteTime": {
     "end_time": "2024-06-06T10:11:18.906521900Z",
     "start_time": "2024-06-06T10:11:18.884825200Z"
    }
   }
  },
  {
   "cell_type": "code",
   "execution_count": 13,
   "outputs": [],
   "source": [
    "files = bp.list_files(directory=root_dir, filetype='xlsx') #TODO добавить ключ, по которому можно будет регулировать глубину погружения\n"
   ],
   "metadata": {
    "collapsed": false,
    "ExecuteTime": {
     "end_time": "2024-06-06T11:03:20.123914Z",
     "start_time": "2024-06-06T11:03:20.098346Z"
    }
   }
  },
  {
   "cell_type": "code",
   "execution_count": 6,
   "outputs": [],
   "source": [],
   "metadata": {
    "collapsed": false,
    "ExecuteTime": {
     "end_time": "2024-06-06T11:01:15.494489Z",
     "start_time": "2024-06-06T11:01:15.490468300Z"
    }
   }
  },
  {
   "cell_type": "code",
   "execution_count": 80,
   "outputs": [
    {
     "name": "stdout",
     "output_type": "stream",
     "text": [
      "([A-Z]{3})\\\\([^\\\\]*)\\\\([0-9][^\\\\]*)\\\\.?([0-9]?[0-9])\\\\.*-(13[0-9])-.-([0-9]).*-([0-9]{14})\n",
      "Warning! For \n",
      " D:\\!Science\\Физтех\\Циклирования\\28.05.24 - результаты\\LFP\\Заявка №73 Старение+45 2-3\\4. п.5 Циклирование 28 дней\\разряд Приложение Б\\BTS82-133-1-7-99-20240416085854-Разряд профилем Б.xlsx \n",
      " found 0 entries!\n",
      "Warning! For \n",
      " D:\\!Science\\Физтех\\Циклирования\\28.05.24 - результаты\\LFP\\Заявка №73 Старение+45 2-3\\4. п.5 Циклирование 28 дней\\разряд Приложение Б\\BTS82-133-1-8-99-20240416085912-Разряд профилем Б.xlsx \n",
      " found 0 entries!\n"
     ]
    },
    {
     "data": {
      "text/plain": "    Chem                        Tech                                Step  \\\n0    LFP  Заявка №73 Старение+45 2-3                      1. Пункт 1-4.1   \n1    LFP  Заявка №73 Старение+45 2-3                              2. 4.1   \n2    LFP     Заявка №76 Старение НКУ                 4. п 5 Циклирование   \n3    LFP     Заявка №76 Старение НКУ                          5. Пункт 6   \n4    LFP  Заявка №73 Старение+45 2-3                      1. Пункт 1-4.1   \n..   ...                         ...                                 ...   \n117  LFP  Заявка №73 Старение+45 2-3         4. п.5 Циклирование 28 дней   \n118  LFP  Заявка №73 Старение+45 2-3         4. п.5 Циклирование 28 дней   \n119  LFP  Заявка №73 Старение+45 2-3         4. п.5 Циклирование 28 дней   \n120  LFP  Заявка №73 Старение+45 2-3  5. Испытание рабочих характеристик   \n121  LFP  Заявка №73 Старение+45 2-3                             3.п 4.2   \n\n    Pouch Potentiostat Channel     Datetime_id  \\\n0       2          130       1  20240408143806   \n1       2          130       1  20240412131532   \n2       8          130       1  20240417095316   \n3       8          130       1  20240514100637   \n4       3          130       2  20240408143819   \n..    ...          ...     ...             ...   \n117     3          133       8  20240416103846   \n118     3          133       8  20240416103846   \n119     3          133       8  20240416103846   \n120     3          133       8  20240513133513   \n121     3          133       8  20240415102037   \n\n                                                  Path  \n0    D:\\!Science\\Физтех\\Циклирования\\28.05.24 - рез...  \n1    D:\\!Science\\Физтех\\Циклирования\\28.05.24 - рез...  \n2    D:\\!Science\\Физтех\\Циклирования\\28.05.24 - рез...  \n3    D:\\!Science\\Физтех\\Циклирования\\28.05.24 - рез...  \n4    D:\\!Science\\Физтех\\Циклирования\\28.05.24 - рез...  \n..                                                 ...  \n117  D:\\!Science\\Физтех\\Циклирования\\28.05.24 - рез...  \n118  D:\\!Science\\Физтех\\Циклирования\\28.05.24 - рез...  \n119  D:\\!Science\\Физтех\\Циклирования\\28.05.24 - рез...  \n120  D:\\!Science\\Физтех\\Циклирования\\28.05.24 - рез...  \n121  D:\\!Science\\Физтех\\Циклирования\\28.05.24 - рез...  \n\n[122 rows x 8 columns]",
      "text/html": "<div>\n<style scoped>\n    .dataframe tbody tr th:only-of-type {\n        vertical-align: middle;\n    }\n\n    .dataframe tbody tr th {\n        vertical-align: top;\n    }\n\n    .dataframe thead th {\n        text-align: right;\n    }\n</style>\n<table border=\"1\" class=\"dataframe\">\n  <thead>\n    <tr style=\"text-align: right;\">\n      <th></th>\n      <th>Chem</th>\n      <th>Tech</th>\n      <th>Step</th>\n      <th>Pouch</th>\n      <th>Potentiostat</th>\n      <th>Channel</th>\n      <th>Datetime_id</th>\n      <th>Path</th>\n    </tr>\n  </thead>\n  <tbody>\n    <tr>\n      <th>0</th>\n      <td>LFP</td>\n      <td>Заявка №73 Старение+45 2-3</td>\n      <td>1. Пункт 1-4.1</td>\n      <td>2</td>\n      <td>130</td>\n      <td>1</td>\n      <td>20240408143806</td>\n      <td>D:\\!Science\\Физтех\\Циклирования\\28.05.24 - рез...</td>\n    </tr>\n    <tr>\n      <th>1</th>\n      <td>LFP</td>\n      <td>Заявка №73 Старение+45 2-3</td>\n      <td>2. 4.1</td>\n      <td>2</td>\n      <td>130</td>\n      <td>1</td>\n      <td>20240412131532</td>\n      <td>D:\\!Science\\Физтех\\Циклирования\\28.05.24 - рез...</td>\n    </tr>\n    <tr>\n      <th>2</th>\n      <td>LFP</td>\n      <td>Заявка №76 Старение НКУ</td>\n      <td>4. п 5 Циклирование</td>\n      <td>8</td>\n      <td>130</td>\n      <td>1</td>\n      <td>20240417095316</td>\n      <td>D:\\!Science\\Физтех\\Циклирования\\28.05.24 - рез...</td>\n    </tr>\n    <tr>\n      <th>3</th>\n      <td>LFP</td>\n      <td>Заявка №76 Старение НКУ</td>\n      <td>5. Пункт 6</td>\n      <td>8</td>\n      <td>130</td>\n      <td>1</td>\n      <td>20240514100637</td>\n      <td>D:\\!Science\\Физтех\\Циклирования\\28.05.24 - рез...</td>\n    </tr>\n    <tr>\n      <th>4</th>\n      <td>LFP</td>\n      <td>Заявка №73 Старение+45 2-3</td>\n      <td>1. Пункт 1-4.1</td>\n      <td>3</td>\n      <td>130</td>\n      <td>2</td>\n      <td>20240408143819</td>\n      <td>D:\\!Science\\Физтех\\Циклирования\\28.05.24 - рез...</td>\n    </tr>\n    <tr>\n      <th>...</th>\n      <td>...</td>\n      <td>...</td>\n      <td>...</td>\n      <td>...</td>\n      <td>...</td>\n      <td>...</td>\n      <td>...</td>\n      <td>...</td>\n    </tr>\n    <tr>\n      <th>117</th>\n      <td>LFP</td>\n      <td>Заявка №73 Старение+45 2-3</td>\n      <td>4. п.5 Циклирование 28 дней</td>\n      <td>3</td>\n      <td>133</td>\n      <td>8</td>\n      <td>20240416103846</td>\n      <td>D:\\!Science\\Физтех\\Циклирования\\28.05.24 - рез...</td>\n    </tr>\n    <tr>\n      <th>118</th>\n      <td>LFP</td>\n      <td>Заявка №73 Старение+45 2-3</td>\n      <td>4. п.5 Циклирование 28 дней</td>\n      <td>3</td>\n      <td>133</td>\n      <td>8</td>\n      <td>20240416103846</td>\n      <td>D:\\!Science\\Физтех\\Циклирования\\28.05.24 - рез...</td>\n    </tr>\n    <tr>\n      <th>119</th>\n      <td>LFP</td>\n      <td>Заявка №73 Старение+45 2-3</td>\n      <td>4. п.5 Циклирование 28 дней</td>\n      <td>3</td>\n      <td>133</td>\n      <td>8</td>\n      <td>20240416103846</td>\n      <td>D:\\!Science\\Физтех\\Циклирования\\28.05.24 - рез...</td>\n    </tr>\n    <tr>\n      <th>120</th>\n      <td>LFP</td>\n      <td>Заявка №73 Старение+45 2-3</td>\n      <td>5. Испытание рабочих характеристик</td>\n      <td>3</td>\n      <td>133</td>\n      <td>8</td>\n      <td>20240513133513</td>\n      <td>D:\\!Science\\Физтех\\Циклирования\\28.05.24 - рез...</td>\n    </tr>\n    <tr>\n      <th>121</th>\n      <td>LFP</td>\n      <td>Заявка №73 Старение+45 2-3</td>\n      <td>3.п 4.2</td>\n      <td>3</td>\n      <td>133</td>\n      <td>8</td>\n      <td>20240415102037</td>\n      <td>D:\\!Science\\Физтех\\Циклирования\\28.05.24 - рез...</td>\n    </tr>\n  </tbody>\n</table>\n<p>122 rows × 8 columns</p>\n</div>"
     },
     "execution_count": 80,
     "metadata": {},
     "output_type": "execute_result"
    }
   ],
   "source": [
    "patterns = [r'([A-Z]{3})', r'([^\\\\]*)', r'([0-9][^\\\\]*)', r'.?([0-9]?[0-9])', r'.*-(13[0-9])-.-([0-9]).*-([0-9]{14})']\n",
    "column_names = ['Chem','Tech', 'Step', 'Pouch','Potentiostat', 'Channel', 'Datetime_id']\n",
    "pattern = r'\\\\'.join(patterns)\n",
    "print(pattern)\n",
    "parser = Regex_parse()\n",
    "result = parser(strings=files,pattern=pattern,column_names= column_names)\n",
    "result"
   ],
   "metadata": {
    "collapsed": false,
    "ExecuteTime": {
     "end_time": "2024-06-06T12:16:35.424513500Z",
     "start_time": "2024-06-06T12:16:35.412829500Z"
    }
   }
  },
  {
   "cell_type": "code",
   "execution_count": 81,
   "outputs": [],
   "source": [
    "type_convert = {i:str for i in result.columns}\n",
    "result = result.astype({'Pouch':int}, copy=True)\n",
    "result = result.astype(type_convert, copy=True)\n",
    "\n",
    "result['ID'] = result['Chem']+result['Pouch']\n",
    "result.insert(0, 'ID', result.pop('ID'))\n",
    "\n",
    "\n",
    "thermos ={'1':['NMC14', 'NMC15', 'LTO7', 'LTO6', 'LFP4', 'LFP5'],\n",
    "          '2':['LFP2', 'LFP3', 'NMC6', 'NMC7', 'LTO11', 'LTO12'],\n",
    "          '3':['NMC12', 'NMC13', 'LTO13', 'LTO3', 'LFP6', 'LFP7']}\n",
    "protocol = {'gost45':['NMC6', 'NMC7', 'LTO11', 'LTO12', 'LFP2', 'LFP3'],\n",
    "          'gost60':['NMC12', 'NMC13', 'LTO13', 'LTO3', 'LFP6', 'LFP7'],\n",
    "          'Imax45':['NMC14', 'NMC15', 'LTO7', 'LTO6', 'LFP4', 'LFP5'],\n",
    "          'CCroom':['NMC10', 'NMC11', 'LTO4', 'LTO5', 'LFP1', 'LFP8']}\n"
   ],
   "metadata": {
    "collapsed": false,
    "ExecuteTime": {
     "end_time": "2024-06-06T12:16:42.011459500Z",
     "start_time": "2024-06-06T12:16:42.009089900Z"
    }
   }
  },
  {
   "cell_type": "code",
   "execution_count": 82,
   "outputs": [],
   "source": [],
   "metadata": {
    "collapsed": false,
    "ExecuteTime": {
     "end_time": "2024-06-06T12:16:44.905250200Z",
     "start_time": "2024-06-06T12:16:44.897158600Z"
    }
   }
  },
  {
   "cell_type": "code",
   "execution_count": 83,
   "outputs": [],
   "source": [
    "if check_dict_intersection(thermos) or check_dict_intersection(protocol):\n",
    "    print('Intersection!')\n",
    "\n",
    "class Find_key:\n",
    "    def __init__(self, check_dict):\n",
    "        self.dictionary = check_dict\n",
    "\n",
    "\n",
    "    def __call__(self, element):\n",
    "        result = [key for key, value in self.dictionary.items() if element in value]\n",
    "        if len(result) == 1:\n",
    "            return result[0]\n",
    "        return result\n",
    "\n",
    "thermos_creator = Find_key(thermos)\n",
    "technique_creator = Find_key(protocol)"
   ],
   "metadata": {
    "collapsed": false,
    "ExecuteTime": {
     "end_time": "2024-06-06T12:16:47.717452Z",
     "start_time": "2024-06-06T12:16:47.713953700Z"
    }
   }
  },
  {
   "cell_type": "code",
   "execution_count": 84,
   "outputs": [],
   "source": [
    "result['Protocol'] = result['ID'].apply(technique_creator)\n",
    "result.insert(2, 'Protocol', result.pop('Protocol'))\n",
    "result['Thermos'] = result['ID'].apply(thermos_creator)\n",
    "result.insert(6, 'Thermos', result.pop('Thermos'))\n"
   ],
   "metadata": {
    "collapsed": false,
    "ExecuteTime": {
     "end_time": "2024-06-06T12:16:50.811151900Z",
     "start_time": "2024-06-06T12:16:50.786524400Z"
    }
   }
  },
  {
   "cell_type": "code",
   "execution_count": 85,
   "outputs": [
    {
     "data": {
      "text/plain": "        ID Chem Protocol                         Tech  \\\n60    LTO3  LTO   gost60        7. Заявка № 71 К3 К13   \n65   LTO13  LTO   gost60        7. Заявка № 71 К3 К13   \n95    NMC7  NMC   gost45     Заявка №57 KAMAZ 006-007   \n91    NMC6  NMC   gost45     Заявка №57 KAMAZ 006-007   \n52   NMC15  NMC   Imax45   Заявка №64 C-NMC №014 №015   \n..     ...  ...      ...                          ...   \n115   LFP2  LFP   gost45   Заявка №73 Старение+45 2-3   \n85    LFP6  LFP   gost60      Заявка №75 Старение +60   \n110   LFP5  LFP   Imax45  Заявка №74 Старение +45 4-5   \n81    LFP1  LFP   CCroom      Заявка №76 Старение НКУ   \n3     LFP8  LFP   CCroom      Заявка №76 Старение НКУ   \n\n                                   Step Pouch Thermos Potentiostat Channel  \\\n60                             1 п1-4.1     3       3          131       7   \n65                             1 п1-4.1    13       3          131       8   \n95                       1. Пункт 1-4.1     7       2          133       2   \n91                       1. Пункт 1-4.1     6       2          133       1   \n52                       1. Пункт 1-4.1    15       1          131       6   \n..                                  ...   ...     ...          ...     ...   \n115  5. Испытание рабочих характеристик     2       2          133       7   \n85   5. Испытание рабочих характеристик     6       3          132       7   \n110  5. Испытание рабочих характеристик     5       1          133       6   \n81                           5. Пункт 6     1      []          132       6   \n3                            5. Пункт 6     8      []          130       1   \n\n        Datetime_id                                               Path  \n60   20240403111709  D:\\!Science\\Физтех\\Циклирования\\28.05.24 - рез...  \n65   20240403111718  D:\\!Science\\Физтех\\Циклирования\\28.05.24 - рез...  \n95   20240314161946  D:\\!Science\\Физтех\\Циклирования\\28.05.24 - рез...  \n91   20240314161930  D:\\!Science\\Физтех\\Циклирования\\28.05.24 - рез...  \n52   20240325102602  D:\\!Science\\Физтех\\Циклирования\\28.05.24 - рез...  \n..              ...                                                ...  \n115  20240513133440  D:\\!Science\\Физтех\\Циклирования\\28.05.24 - рез...  \n85   20240520102038  D:\\!Science\\Физтех\\Циклирования\\28.05.24 - рез...  \n110  20240513144931  D:\\!Science\\Физтех\\Циклирования\\28.05.24 - рез...  \n81   20240514100556  D:\\!Science\\Физтех\\Циклирования\\28.05.24 - рез...  \n3    20240514100637  D:\\!Science\\Физтех\\Циклирования\\28.05.24 - рез...  \n\n[122 rows x 11 columns]",
      "text/html": "<div>\n<style scoped>\n    .dataframe tbody tr th:only-of-type {\n        vertical-align: middle;\n    }\n\n    .dataframe tbody tr th {\n        vertical-align: top;\n    }\n\n    .dataframe thead th {\n        text-align: right;\n    }\n</style>\n<table border=\"1\" class=\"dataframe\">\n  <thead>\n    <tr style=\"text-align: right;\">\n      <th></th>\n      <th>ID</th>\n      <th>Chem</th>\n      <th>Protocol</th>\n      <th>Tech</th>\n      <th>Step</th>\n      <th>Pouch</th>\n      <th>Thermos</th>\n      <th>Potentiostat</th>\n      <th>Channel</th>\n      <th>Datetime_id</th>\n      <th>Path</th>\n    </tr>\n  </thead>\n  <tbody>\n    <tr>\n      <th>60</th>\n      <td>LTO3</td>\n      <td>LTO</td>\n      <td>gost60</td>\n      <td>7. Заявка № 71 К3 К13</td>\n      <td>1 п1-4.1</td>\n      <td>3</td>\n      <td>3</td>\n      <td>131</td>\n      <td>7</td>\n      <td>20240403111709</td>\n      <td>D:\\!Science\\Физтех\\Циклирования\\28.05.24 - рез...</td>\n    </tr>\n    <tr>\n      <th>65</th>\n      <td>LTO13</td>\n      <td>LTO</td>\n      <td>gost60</td>\n      <td>7. Заявка № 71 К3 К13</td>\n      <td>1 п1-4.1</td>\n      <td>13</td>\n      <td>3</td>\n      <td>131</td>\n      <td>8</td>\n      <td>20240403111718</td>\n      <td>D:\\!Science\\Физтех\\Циклирования\\28.05.24 - рез...</td>\n    </tr>\n    <tr>\n      <th>95</th>\n      <td>NMC7</td>\n      <td>NMC</td>\n      <td>gost45</td>\n      <td>Заявка №57 KAMAZ 006-007</td>\n      <td>1. Пункт 1-4.1</td>\n      <td>7</td>\n      <td>2</td>\n      <td>133</td>\n      <td>2</td>\n      <td>20240314161946</td>\n      <td>D:\\!Science\\Физтех\\Циклирования\\28.05.24 - рез...</td>\n    </tr>\n    <tr>\n      <th>91</th>\n      <td>NMC6</td>\n      <td>NMC</td>\n      <td>gost45</td>\n      <td>Заявка №57 KAMAZ 006-007</td>\n      <td>1. Пункт 1-4.1</td>\n      <td>6</td>\n      <td>2</td>\n      <td>133</td>\n      <td>1</td>\n      <td>20240314161930</td>\n      <td>D:\\!Science\\Физтех\\Циклирования\\28.05.24 - рез...</td>\n    </tr>\n    <tr>\n      <th>52</th>\n      <td>NMC15</td>\n      <td>NMC</td>\n      <td>Imax45</td>\n      <td>Заявка №64 C-NMC №014 №015</td>\n      <td>1. Пункт 1-4.1</td>\n      <td>15</td>\n      <td>1</td>\n      <td>131</td>\n      <td>6</td>\n      <td>20240325102602</td>\n      <td>D:\\!Science\\Физтех\\Циклирования\\28.05.24 - рез...</td>\n    </tr>\n    <tr>\n      <th>...</th>\n      <td>...</td>\n      <td>...</td>\n      <td>...</td>\n      <td>...</td>\n      <td>...</td>\n      <td>...</td>\n      <td>...</td>\n      <td>...</td>\n      <td>...</td>\n      <td>...</td>\n      <td>...</td>\n    </tr>\n    <tr>\n      <th>115</th>\n      <td>LFP2</td>\n      <td>LFP</td>\n      <td>gost45</td>\n      <td>Заявка №73 Старение+45 2-3</td>\n      <td>5. Испытание рабочих характеристик</td>\n      <td>2</td>\n      <td>2</td>\n      <td>133</td>\n      <td>7</td>\n      <td>20240513133440</td>\n      <td>D:\\!Science\\Физтех\\Циклирования\\28.05.24 - рез...</td>\n    </tr>\n    <tr>\n      <th>85</th>\n      <td>LFP6</td>\n      <td>LFP</td>\n      <td>gost60</td>\n      <td>Заявка №75 Старение +60</td>\n      <td>5. Испытание рабочих характеристик</td>\n      <td>6</td>\n      <td>3</td>\n      <td>132</td>\n      <td>7</td>\n      <td>20240520102038</td>\n      <td>D:\\!Science\\Физтех\\Циклирования\\28.05.24 - рез...</td>\n    </tr>\n    <tr>\n      <th>110</th>\n      <td>LFP5</td>\n      <td>LFP</td>\n      <td>Imax45</td>\n      <td>Заявка №74 Старение +45 4-5</td>\n      <td>5. Испытание рабочих характеристик</td>\n      <td>5</td>\n      <td>1</td>\n      <td>133</td>\n      <td>6</td>\n      <td>20240513144931</td>\n      <td>D:\\!Science\\Физтех\\Циклирования\\28.05.24 - рез...</td>\n    </tr>\n    <tr>\n      <th>81</th>\n      <td>LFP1</td>\n      <td>LFP</td>\n      <td>CCroom</td>\n      <td>Заявка №76 Старение НКУ</td>\n      <td>5. Пункт 6</td>\n      <td>1</td>\n      <td>[]</td>\n      <td>132</td>\n      <td>6</td>\n      <td>20240514100556</td>\n      <td>D:\\!Science\\Физтех\\Циклирования\\28.05.24 - рез...</td>\n    </tr>\n    <tr>\n      <th>3</th>\n      <td>LFP8</td>\n      <td>LFP</td>\n      <td>CCroom</td>\n      <td>Заявка №76 Старение НКУ</td>\n      <td>5. Пункт 6</td>\n      <td>8</td>\n      <td>[]</td>\n      <td>130</td>\n      <td>1</td>\n      <td>20240514100637</td>\n      <td>D:\\!Science\\Физтех\\Циклирования\\28.05.24 - рез...</td>\n    </tr>\n  </tbody>\n</table>\n<p>122 rows × 11 columns</p>\n</div>"
     },
     "execution_count": 85,
     "metadata": {},
     "output_type": "execute_result"
    }
   ],
   "source": [
    "result.sort_values('Step', inplace=True)\n",
    "result"
   ],
   "metadata": {
    "collapsed": false,
    "ExecuteTime": {
     "end_time": "2024-06-06T12:16:55.588875200Z",
     "start_time": "2024-06-06T12:16:55.582726400Z"
    }
   }
  },
  {
   "cell_type": "code",
   "execution_count": 86,
   "outputs": [
    {
     "data": {
      "text/plain": "91   2024-09-10 16:19:30\n95   2024-09-10 16:19:46\n22   2024-09-21 10:01:27\n28   2024-09-21 10:01:38\n34   2024-09-21 10:17:03\n40   2024-09-21 10:17:17\n46   2024-09-21 10:25:50\n52   2024-09-21 10:26:02\n23   2024-09-30 11:05:46\n29   2024-09-30 11:05:58\n35   2024-09-30 11:11:26\n41   2024-09-30 11:11:36\n47   2024-09-30 11:14:05\n53   2024-09-30 11:14:15\n60   2024-09-30 11:17:09\n65   2024-09-30 11:17:18\n0    2024-10-05 14:38:06\n4    2024-10-05 14:38:19\n6    2024-10-05 14:48:13\n8    2024-10-05 14:48:24\n10   2024-10-05 14:57:29\n13   2024-10-05 14:57:42\n16   2024-10-06 16:14:38\n19   2024-10-06 16:14:49\nName: Start_time, dtype: datetime64[ns]"
     },
     "execution_count": 86,
     "metadata": {},
     "output_type": "execute_result"
    }
   ],
   "source": [
    "#TODO Перенести потом в реализацию\n",
    "test_mask = result['Step'].str.findall(r'1.*1.*-.*4\\.').explode().notna()\n",
    "result['Start_time'] = pd.to_datetime(result['Datetime_id'])\n",
    "time_cycling = pd.Timedelta('180 days')\n",
    "result['Start_time'][test_mask].sort_values()+time_cycling"
   ],
   "metadata": {
    "collapsed": false,
    "ExecuteTime": {
     "end_time": "2024-06-06T12:17:53.802747500Z",
     "start_time": "2024-06-06T12:17:53.789335500Z"
    }
   }
  },
  {
   "cell_type": "code",
   "execution_count": 87,
   "outputs": [
    {
     "data": {
      "text/plain": "        ID Chem Protocol                         Tech  \\\n60    LTO3  LTO   gost60        7. Заявка № 71 К3 К13   \n65   LTO13  LTO   gost60        7. Заявка № 71 К3 К13   \n95    NMC7  NMC   gost45     Заявка №57 KAMAZ 006-007   \n91    NMC6  NMC   gost45     Заявка №57 KAMAZ 006-007   \n52   NMC15  NMC   Imax45   Заявка №64 C-NMC №014 №015   \n..     ...  ...      ...                          ...   \n115   LFP2  LFP   gost45   Заявка №73 Старение+45 2-3   \n85    LFP6  LFP   gost60      Заявка №75 Старение +60   \n110   LFP5  LFP   Imax45  Заявка №74 Старение +45 4-5   \n81    LFP1  LFP   CCroom      Заявка №76 Старение НКУ   \n3     LFP8  LFP   CCroom      Заявка №76 Старение НКУ   \n\n                                   Step Pouch Thermos Potentiostat Channel  \\\n60                             1 п1-4.1     3       3          131       7   \n65                             1 п1-4.1    13       3          131       8   \n95                       1. Пункт 1-4.1     7       2          133       2   \n91                       1. Пункт 1-4.1     6       2          133       1   \n52                       1. Пункт 1-4.1    15       1          131       6   \n..                                  ...   ...     ...          ...     ...   \n115  5. Испытание рабочих характеристик     2       2          133       7   \n85   5. Испытание рабочих характеристик     6       3          132       7   \n110  5. Испытание рабочих характеристик     5       1          133       6   \n81                           5. Пункт 6     1      []          132       6   \n3                            5. Пункт 6     8      []          130       1   \n\n        Datetime_id                                               Path  \\\n60   20240403111709  D:\\!Science\\Физтех\\Циклирования\\28.05.24 - рез...   \n65   20240403111718  D:\\!Science\\Физтех\\Циклирования\\28.05.24 - рез...   \n95   20240314161946  D:\\!Science\\Физтех\\Циклирования\\28.05.24 - рез...   \n91   20240314161930  D:\\!Science\\Физтех\\Циклирования\\28.05.24 - рез...   \n52   20240325102602  D:\\!Science\\Физтех\\Циклирования\\28.05.24 - рез...   \n..              ...                                                ...   \n115  20240513133440  D:\\!Science\\Физтех\\Циклирования\\28.05.24 - рез...   \n85   20240520102038  D:\\!Science\\Физтех\\Циклирования\\28.05.24 - рез...   \n110  20240513144931  D:\\!Science\\Физтех\\Циклирования\\28.05.24 - рез...   \n81   20240514100556  D:\\!Science\\Физтех\\Циклирования\\28.05.24 - рез...   \n3    20240514100637  D:\\!Science\\Физтех\\Циклирования\\28.05.24 - рез...   \n\n             Start_time  \n60  2024-04-03 11:17:09  \n65  2024-04-03 11:17:18  \n95  2024-03-14 16:19:46  \n91  2024-03-14 16:19:30  \n52  2024-03-25 10:26:02  \n..                  ...  \n115 2024-05-13 13:34:40  \n85  2024-05-20 10:20:38  \n110 2024-05-13 14:49:31  \n81  2024-05-14 10:05:56  \n3   2024-05-14 10:06:37  \n\n[122 rows x 12 columns]",
      "text/html": "<div>\n<style scoped>\n    .dataframe tbody tr th:only-of-type {\n        vertical-align: middle;\n    }\n\n    .dataframe tbody tr th {\n        vertical-align: top;\n    }\n\n    .dataframe thead th {\n        text-align: right;\n    }\n</style>\n<table border=\"1\" class=\"dataframe\">\n  <thead>\n    <tr style=\"text-align: right;\">\n      <th></th>\n      <th>ID</th>\n      <th>Chem</th>\n      <th>Protocol</th>\n      <th>Tech</th>\n      <th>Step</th>\n      <th>Pouch</th>\n      <th>Thermos</th>\n      <th>Potentiostat</th>\n      <th>Channel</th>\n      <th>Datetime_id</th>\n      <th>Path</th>\n      <th>Start_time</th>\n    </tr>\n  </thead>\n  <tbody>\n    <tr>\n      <th>60</th>\n      <td>LTO3</td>\n      <td>LTO</td>\n      <td>gost60</td>\n      <td>7. Заявка № 71 К3 К13</td>\n      <td>1 п1-4.1</td>\n      <td>3</td>\n      <td>3</td>\n      <td>131</td>\n      <td>7</td>\n      <td>20240403111709</td>\n      <td>D:\\!Science\\Физтех\\Циклирования\\28.05.24 - рез...</td>\n      <td>2024-04-03 11:17:09</td>\n    </tr>\n    <tr>\n      <th>65</th>\n      <td>LTO13</td>\n      <td>LTO</td>\n      <td>gost60</td>\n      <td>7. Заявка № 71 К3 К13</td>\n      <td>1 п1-4.1</td>\n      <td>13</td>\n      <td>3</td>\n      <td>131</td>\n      <td>8</td>\n      <td>20240403111718</td>\n      <td>D:\\!Science\\Физтех\\Циклирования\\28.05.24 - рез...</td>\n      <td>2024-04-03 11:17:18</td>\n    </tr>\n    <tr>\n      <th>95</th>\n      <td>NMC7</td>\n      <td>NMC</td>\n      <td>gost45</td>\n      <td>Заявка №57 KAMAZ 006-007</td>\n      <td>1. Пункт 1-4.1</td>\n      <td>7</td>\n      <td>2</td>\n      <td>133</td>\n      <td>2</td>\n      <td>20240314161946</td>\n      <td>D:\\!Science\\Физтех\\Циклирования\\28.05.24 - рез...</td>\n      <td>2024-03-14 16:19:46</td>\n    </tr>\n    <tr>\n      <th>91</th>\n      <td>NMC6</td>\n      <td>NMC</td>\n      <td>gost45</td>\n      <td>Заявка №57 KAMAZ 006-007</td>\n      <td>1. Пункт 1-4.1</td>\n      <td>6</td>\n      <td>2</td>\n      <td>133</td>\n      <td>1</td>\n      <td>20240314161930</td>\n      <td>D:\\!Science\\Физтех\\Циклирования\\28.05.24 - рез...</td>\n      <td>2024-03-14 16:19:30</td>\n    </tr>\n    <tr>\n      <th>52</th>\n      <td>NMC15</td>\n      <td>NMC</td>\n      <td>Imax45</td>\n      <td>Заявка №64 C-NMC №014 №015</td>\n      <td>1. Пункт 1-4.1</td>\n      <td>15</td>\n      <td>1</td>\n      <td>131</td>\n      <td>6</td>\n      <td>20240325102602</td>\n      <td>D:\\!Science\\Физтех\\Циклирования\\28.05.24 - рез...</td>\n      <td>2024-03-25 10:26:02</td>\n    </tr>\n    <tr>\n      <th>...</th>\n      <td>...</td>\n      <td>...</td>\n      <td>...</td>\n      <td>...</td>\n      <td>...</td>\n      <td>...</td>\n      <td>...</td>\n      <td>...</td>\n      <td>...</td>\n      <td>...</td>\n      <td>...</td>\n      <td>...</td>\n    </tr>\n    <tr>\n      <th>115</th>\n      <td>LFP2</td>\n      <td>LFP</td>\n      <td>gost45</td>\n      <td>Заявка №73 Старение+45 2-3</td>\n      <td>5. Испытание рабочих характеристик</td>\n      <td>2</td>\n      <td>2</td>\n      <td>133</td>\n      <td>7</td>\n      <td>20240513133440</td>\n      <td>D:\\!Science\\Физтех\\Циклирования\\28.05.24 - рез...</td>\n      <td>2024-05-13 13:34:40</td>\n    </tr>\n    <tr>\n      <th>85</th>\n      <td>LFP6</td>\n      <td>LFP</td>\n      <td>gost60</td>\n      <td>Заявка №75 Старение +60</td>\n      <td>5. Испытание рабочих характеристик</td>\n      <td>6</td>\n      <td>3</td>\n      <td>132</td>\n      <td>7</td>\n      <td>20240520102038</td>\n      <td>D:\\!Science\\Физтех\\Циклирования\\28.05.24 - рез...</td>\n      <td>2024-05-20 10:20:38</td>\n    </tr>\n    <tr>\n      <th>110</th>\n      <td>LFP5</td>\n      <td>LFP</td>\n      <td>Imax45</td>\n      <td>Заявка №74 Старение +45 4-5</td>\n      <td>5. Испытание рабочих характеристик</td>\n      <td>5</td>\n      <td>1</td>\n      <td>133</td>\n      <td>6</td>\n      <td>20240513144931</td>\n      <td>D:\\!Science\\Физтех\\Циклирования\\28.05.24 - рез...</td>\n      <td>2024-05-13 14:49:31</td>\n    </tr>\n    <tr>\n      <th>81</th>\n      <td>LFP1</td>\n      <td>LFP</td>\n      <td>CCroom</td>\n      <td>Заявка №76 Старение НКУ</td>\n      <td>5. Пункт 6</td>\n      <td>1</td>\n      <td>[]</td>\n      <td>132</td>\n      <td>6</td>\n      <td>20240514100556</td>\n      <td>D:\\!Science\\Физтех\\Циклирования\\28.05.24 - рез...</td>\n      <td>2024-05-14 10:05:56</td>\n    </tr>\n    <tr>\n      <th>3</th>\n      <td>LFP8</td>\n      <td>LFP</td>\n      <td>CCroom</td>\n      <td>Заявка №76 Старение НКУ</td>\n      <td>5. Пункт 6</td>\n      <td>8</td>\n      <td>[]</td>\n      <td>130</td>\n      <td>1</td>\n      <td>20240514100637</td>\n      <td>D:\\!Science\\Физтех\\Циклирования\\28.05.24 - рез...</td>\n      <td>2024-05-14 10:06:37</td>\n    </tr>\n  </tbody>\n</table>\n<p>122 rows × 12 columns</p>\n</div>"
     },
     "execution_count": 87,
     "metadata": {},
     "output_type": "execute_result"
    }
   ],
   "source": [
    "result"
   ],
   "metadata": {
    "collapsed": false,
    "ExecuteTime": {
     "end_time": "2024-06-06T12:18:20.241762100Z",
     "start_time": "2024-06-06T12:18:20.235210300Z"
    }
   }
  },
  {
   "cell_type": "code",
   "execution_count": 79,
   "outputs": [
    {
     "name": "stdout",
     "output_type": "stream",
     "text": [
      "['1. Пункт 1-4.1' '2. 4.1' '3.п 4.2' '4. п.5 Циклирование 28 дней'\n",
      " '5. Испытание рабочих характеристик']\n",
      "4                          1. Пункт 1-4.1\n",
      "5                                  2. 4.1\n",
      "121                               3.п 4.2\n",
      "117           4. п.5 Циклирование 28 дней\n",
      "118           4. п.5 Циклирование 28 дней\n",
      "119           4. п.5 Циклирование 28 дней\n",
      "120    5. Испытание рабочих характеристик\n",
      "Name: Step, dtype: object\n",
      "4      1\n",
      "5      2\n",
      "121    2\n",
      "117    3\n",
      "118    3\n",
      "119    3\n",
      "120    4\n",
      "Name: Step, dtype: int64\n"
     ]
    }
   ],
   "source": [
    "#TODO check protocol-thermos consistence"
   ],
   "metadata": {
    "collapsed": false,
    "ExecuteTime": {
     "end_time": "2024-06-06T12:06:57.646504300Z",
     "start_time": "2024-06-06T12:06:57.633092Z"
    }
   }
  },
  {
   "cell_type": "code",
   "execution_count": 128,
   "outputs": [],
   "source": [
    "\n"
   ],
   "metadata": {
    "collapsed": false,
    "ExecuteTime": {
     "end_time": "2024-06-06T12:42:23.435780400Z",
     "start_time": "2024-06-06T12:42:23.427845700Z"
    }
   }
  },
  {
   "cell_type": "markdown",
   "source": [
    "Testing"
   ],
   "metadata": {
    "collapsed": false
   }
  },
  {
   "cell_type": "code",
   "execution_count": 129,
   "outputs": [
    {
     "name": "stdout",
     "output_type": "stream",
     "text": [
      "      ID Chem Protocol                     Tech  Step_id  \\\n",
      "10  LFP6  LFP   gost60  Заявка №75 Старение +60        1   \n",
      "11  LFP6  LFP   gost60  Заявка №75 Старение +60        2   \n",
      "82  LFP6  LFP   gost60  Заявка №75 Старение +60        3   \n",
      "84  LFP6  LFP   gost60  Заявка №75 Старение +60        4   \n",
      "83  LFP6  LFP   gost60  Заявка №75 Старение +60        4   \n",
      "85  LFP6  LFP   gost60  Заявка №75 Старение +60        5   \n",
      "\n",
      "                                               Step Pouch Thermos  \\\n",
      "10                                   1. Пункт 1-4.1     6       3   \n",
      "11                                          2. п4.1     6       3   \n",
      "82  3. Измерение динамической разрядной емкости +60     6       3   \n",
      "84                      4.Циклирование 28 суток +60     6       3   \n",
      "83                      4.Циклирование 28 суток +60     6       3   \n",
      "85               5. Испытание рабочих характеристик     6       3   \n",
      "\n",
      "   Potentiostat Channel     Datetime_id  \\\n",
      "10          130       5  20240408145729   \n",
      "11          130       5  20240412132239   \n",
      "82          132       7  20240416105626   \n",
      "84          132       7  20240417085805   \n",
      "83          132       7  20240417085805   \n",
      "85          132       7  20240520102038   \n",
      "\n",
      "                                                 Path          Start_time  \n",
      "10  D:\\!Science\\Физтех\\Циклирования\\28.05.24 - рез... 2024-04-08 14:57:29  \n",
      "11  D:\\!Science\\Физтех\\Циклирования\\28.05.24 - рез... 2024-04-12 13:22:39  \n",
      "82  D:\\!Science\\Физтех\\Циклирования\\28.05.24 - рез... 2024-04-16 10:56:26  \n",
      "84  D:\\!Science\\Физтех\\Циклирования\\28.05.24 - рез... 2024-04-17 08:58:05  \n",
      "83  D:\\!Science\\Физтех\\Циклирования\\28.05.24 - рез... 2024-04-17 08:58:05  \n",
      "85  D:\\!Science\\Физтех\\Циклирования\\28.05.24 - рез... 2024-05-20 10:20:38  \n"
     ]
    },
    {
     "data": {
      "text/plain": "10    1\n11    2\n82    2\n84    3\n83    3\n85    4\nName: Step, dtype: int64"
     },
     "execution_count": 129,
     "metadata": {},
     "output_type": "execute_result"
    }
   ],
   "source": [
    "pouch = 'LFP6'\n",
    "selection = result[result['ID']== 'LFP6']\n",
    "print(selection)\n",
    "step_id_creator(selection)"
   ],
   "metadata": {
    "collapsed": false,
    "ExecuteTime": {
     "end_time": "2024-06-06T12:42:25.445538900Z",
     "start_time": "2024-06-06T12:42:25.435147Z"
    }
   }
  },
  {
   "cell_type": "code",
   "execution_count": 130,
   "outputs": [],
   "source": [
    "step_id = [step_id_creator(pouch) for name, pouch in result.groupby('ID')]\n",
    "result['Step_id'] = pd.concat(step_id, )\n",
    "result.insert(4, 'Step_id', result.pop('Step_id'))"
   ],
   "metadata": {
    "collapsed": false,
    "ExecuteTime": {
     "end_time": "2024-06-06T12:42:36.534188900Z",
     "start_time": "2024-06-06T12:42:36.525439Z"
    }
   }
  },
  {
   "cell_type": "code",
   "execution_count": 136,
   "outputs": [
    {
     "name": "stdout",
     "output_type": "stream",
     "text": [
      "('LFP1', 1) Index([19], dtype='int64')\n",
      "('LFP1', 2) Index([20, 21], dtype='int64')\n",
      "('LFP1', 3) Index([80], dtype='int64')\n",
      "('LFP1', 4) Index([81], dtype='int64')\n",
      "('LFP2', 1) Index([0], dtype='int64')\n",
      "('LFP2', 2) Index([1, 116], dtype='int64')\n",
      "('LFP2', 3) Index([114, 113, 112], dtype='int64')\n",
      "('LFP2', 4) Index([115], dtype='int64')\n",
      "('LFP3', 1) Index([4], dtype='int64')\n",
      "('LFP3', 2) Index([5, 121], dtype='int64')\n",
      "('LFP3', 3) Index([117, 118, 119], dtype='int64')\n",
      "('LFP3', 4) Index([120], dtype='int64')\n",
      "('LFP4', 1) Index([6], dtype='int64')\n",
      "('LFP4', 2) Index([7, 108], dtype='int64')\n",
      "('LFP4', 3) Index([106], dtype='int64')\n",
      "('LFP4', 4) Index([107], dtype='int64')\n",
      "('LFP5', 1) Index([8], dtype='int64')\n",
      "('LFP5', 2) Index([9, 111], dtype='int64')\n",
      "('LFP5', 3) Index([109], dtype='int64')\n",
      "('LFP5', 4) Index([110], dtype='int64')\n",
      "('LFP6', 1) Index([10], dtype='int64')\n",
      "('LFP6', 2) Index([11, 82], dtype='int64')\n",
      "('LFP6', 3) Index([84, 83], dtype='int64')\n",
      "('LFP6', 4) Index([85], dtype='int64')\n",
      "('LFP7', 1) Index([13], dtype='int64')\n",
      "('LFP7', 2) Index([14, 86], dtype='int64')\n",
      "('LFP7', 3) Index([88, 87], dtype='int64')\n",
      "('LFP7', 4) Index([89], dtype='int64')\n",
      "('LFP8', 1) Index([16], dtype='int64')\n",
      "('LFP8', 2) Index([17, 18], dtype='int64')\n",
      "('LFP8', 3) Index([2], dtype='int64')\n",
      "('LFP8', 4) Index([3], dtype='int64')\n",
      "('LTO11', 1) Index([35], dtype='int64')\n",
      "('LTO11', 2) Index([36], dtype='int64')\n",
      "('LTO11', 3) Index([38, 37], dtype='int64')\n",
      "('LTO11', 4) Index([39], dtype='int64')\n",
      "('LTO12', 1) Index([41], dtype='int64')\n",
      "('LTO12', 2) Index([42], dtype='int64')\n",
      "('LTO12', 3) Index([44, 43], dtype='int64')\n",
      "('LTO12', 4) Index([45], dtype='int64')\n",
      "('LTO13', 1) Index([65], dtype='int64')\n",
      "('LTO13', 2) Index([66], dtype='int64')\n",
      "('LTO13', 3) Index([76, 75], dtype='int64')\n",
      "('LTO13', 4) Index([77], dtype='int64')\n",
      "('LTO3', 1) Index([60], dtype='int64')\n",
      "('LTO3', 2) Index([61], dtype='int64')\n",
      "('LTO3', 3) Index([62, 63], dtype='int64')\n",
      "('LTO3', 4) Index([64], dtype='int64')\n",
      "('LTO4', 1) Index([23], dtype='int64')\n",
      "('LTO4', 2) Index([12], dtype='int64')\n",
      "('LTO4', 3) Index([73], dtype='int64')\n",
      "('LTO4', 4) Index([74], dtype='int64')\n",
      "('LTO5', 1) Index([29], dtype='int64')\n",
      "('LTO5', 2) Index([15], dtype='int64')\n",
      "('LTO5', 3) Index([78], dtype='int64')\n",
      "('LTO5', 4) Index([79], dtype='int64')\n",
      "('LTO6', 1) Index([47], dtype='int64')\n",
      "('LTO6', 2) Index([104], dtype='int64')\n",
      "('LTO6', 3) Index([102], dtype='int64')\n",
      "('LTO6', 4) Index([103], dtype='int64')\n",
      "('LTO7', 1) Index([53], dtype='int64')\n",
      "('LTO7', 2) Index([101], dtype='int64')\n",
      "('LTO7', 3) Index([105], dtype='int64')\n",
      "('LTO7', 4) Index([99], dtype='int64')\n",
      "('NMC10', 1) Index([22], dtype='int64')\n",
      "('NMC10', 2) Index([96], dtype='int64')\n",
      "('NMC10', 3) Index([68, 67], dtype='int64')\n",
      "('NMC10', 4) Index([69], dtype='int64')\n",
      "('NMC11', 1) Index([28], dtype='int64')\n",
      "('NMC11', 2) Index([100], dtype='int64')\n",
      "('NMC11', 3) Index([71, 70], dtype='int64')\n",
      "('NMC11', 4) Index([72], dtype='int64')\n",
      "('NMC12', 1) Index([34], dtype='int64')\n",
      "('NMC12', 2) Index([48], dtype='int64')\n",
      "('NMC12', 3) Index([50, 49], dtype='int64')\n",
      "('NMC12', 4) Index([51], dtype='int64')\n",
      "('NMC13', 1) Index([40], dtype='int64')\n",
      "('NMC13', 2) Index([54], dtype='int64')\n",
      "('NMC13', 3) Index([58, 57, 56, 55], dtype='int64')\n",
      "('NMC13', 4) Index([59], dtype='int64')\n",
      "('NMC14', 1) Index([46], dtype='int64')\n",
      "('NMC14', 2) Index([92], dtype='int64')\n",
      "('NMC14', 3) Index([93], dtype='int64')\n",
      "('NMC14', 4) Index([90], dtype='int64')\n",
      "('NMC15', 1) Index([52], dtype='int64')\n",
      "('NMC15', 2) Index([97], dtype='int64')\n",
      "('NMC15', 3) Index([98], dtype='int64')\n",
      "('NMC15', 4) Index([94], dtype='int64')\n",
      "('NMC6', 1) Index([91], dtype='int64')\n",
      "('NMC6', 2) Index([24], dtype='int64')\n",
      "('NMC6', 3) Index([26, 25], dtype='int64')\n",
      "('NMC6', 4) Index([27], dtype='int64')\n",
      "('NMC7', 1) Index([95], dtype='int64')\n",
      "('NMC7', 2) Index([30], dtype='int64')\n",
      "('NMC7', 3) Index([31, 32], dtype='int64')\n",
      "('NMC7', 4) Index([33], dtype='int64')\n"
     ]
    }
   ],
   "source": [
    "for i in result.groupby(['ID', 'Step_id']):\n",
    "    print(i[0], i[1].index)"
   ],
   "metadata": {
    "collapsed": false,
    "ExecuteTime": {
     "end_time": "2024-06-06T12:49:00.110399800Z",
     "start_time": "2024-06-06T12:49:00.097946Z"
    }
   }
  }
 ],
 "metadata": {
  "kernelspec": {
   "display_name": "Python 3",
   "language": "python",
   "name": "python3"
  },
  "language_info": {
   "codemirror_mode": {
    "name": "ipython",
    "version": 2
   },
   "file_extension": ".py",
   "mimetype": "text/x-python",
   "name": "python",
   "nbconvert_exporter": "python",
   "pygments_lexer": "ipython2",
   "version": "2.7.6"
  }
 },
 "nbformat": 4,
 "nbformat_minor": 0
}
