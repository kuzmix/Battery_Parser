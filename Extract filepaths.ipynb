{
 "cells": [
  {
   "cell_type": "code",
   "metadata": {
    "collapsed": true,
    "ExecuteTime": {
     "end_time": "2024-06-25T10:03:13.711069Z",
     "start_time": "2024-06-25T10:03:13.085691Z"
    }
   },
   "source": [
    "import battery_parser as bp\n",
    "import os\n",
    "import pandas as pd\n",
    "import numpy as np\n",
    "import re\n",
    "import copy\n",
    "import itertools"
   ],
   "outputs": [],
   "execution_count": 1
  },
  {
   "cell_type": "code",
   "source": [
    "\n",
    "root_dir  = r'D:\\!Science\\Физтех\\Циклирования\\28.05.24 - результаты'\n",
    "\n"
   ],
   "metadata": {
    "collapsed": false,
    "ExecuteTime": {
     "end_time": "2024-06-25T10:03:13.716008Z",
     "start_time": "2024-06-25T10:03:13.712076Z"
    }
   },
   "outputs": [],
   "execution_count": 2
  },
  {
   "cell_type": "code",
   "source": [
    "files = bp.list_files(directory=root_dir, filetype='xlsx') #TODO добавить ключ, по которому можно будет регулировать глубину погружения\n"
   ],
   "metadata": {
    "collapsed": false,
    "ExecuteTime": {
     "end_time": "2024-06-25T10:03:13.739818Z",
     "start_time": "2024-06-25T10:03:13.717017Z"
    }
   },
   "outputs": [],
   "execution_count": 3
  },
  {
   "cell_type": "code",
   "source": [
    "patterns = [r'([A-Z]{3})', r'([^\\\\]*)', r'([0-9][^\\\\]*)', r'.?([0-9]?[0-9])[^\\\\]*', r'.*-(13[0-9])-.-([0-9]).*-([0-9]{14})']\n",
    "column_names = ['Chem','Tech', 'Step', 'Pouch','Potentiostat', 'Channel', 'Datetime_id']\n",
    "pattern = r'\\\\'.join(patterns)\n",
    "print(pattern)\n",
    "parser = bp.importing.Regex_parse()\n",
    "result = parser(strings=files,pattern=pattern,column_names= column_names)"
   ],
   "metadata": {
    "collapsed": false,
    "ExecuteTime": {
     "end_time": "2024-06-25T10:03:14.449703Z",
     "start_time": "2024-06-25T10:03:14.442917Z"
    }
   },
   "outputs": [
    {
     "name": "stdout",
     "output_type": "stream",
     "text": [
      "([A-Z]{3})\\\\([^\\\\]*)\\\\([0-9][^\\\\]*)\\\\.?([0-9]?[0-9])[^\\\\]*\\\\.*-(13[0-9])-.-([0-9]).*-([0-9]{14})\n",
      "Warning! For \n",
      " D:\\!Science\\Физтех\\Циклирования\\28.05.24 - результаты\\LFP\\Заявка №73 Старение+45 2-3\\4. п.5 Циклирование 28 дней\\разряд Приложение Б\\BTS82-133-1-7-99-20240416085854-Разряд профилем Б.xlsx \n",
      " found 0 entries!\n",
      "Warning! For \n",
      " D:\\!Science\\Физтех\\Циклирования\\28.05.24 - результаты\\LFP\\Заявка №73 Старение+45 2-3\\4. п.5 Циклирование 28 дней\\разряд Приложение Б\\BTS82-133-1-8-99-20240416085912-Разряд профилем Б.xlsx \n",
      " found 0 entries!\n"
     ]
    }
   ],
   "execution_count": 4
  },
  {
   "cell_type": "code",
   "source": [
    "type_convert = {i:str for i in result.columns}\n",
    "result = result.astype({'Pouch':int}, copy=True)\n",
    "result = result.astype(type_convert, copy=True)\n",
    "\n",
    "result['ID'] = result['Chem']+result['Pouch']\n",
    "result.insert(0, 'ID', result.pop('ID'))\n",
    "\n",
    "\n",
    "thermos ={'1':['NMC14', 'NMC15', 'LTO7', 'LTO6', 'LFP4', 'LFP5'],\n",
    "          '2':['LFP2', 'LFP3', 'NMC6', 'NMC7', 'LTO11', 'LTO12'],\n",
    "          '3':['NMC12', 'NMC13', 'LTO13', 'LTO3', 'LFP6', 'LFP7']}\n",
    "protocol = {'gost45':['NMC6', 'NMC7', 'LTO11', 'LTO12', 'LFP2', 'LFP3'],\n",
    "          'gost60':['NMC12', 'NMC13', 'LTO13', 'LTO3', 'LFP6', 'LFP7'],\n",
    "          'Imax45':['NMC14', 'NMC15', 'LTO7', 'LTO6', 'LFP4', 'LFP5'],\n",
    "          'CCroom':['NMC10', 'NMC11', 'LTO4', 'LTO5', 'LFP1', 'LFP8']}\n"
   ],
   "metadata": {
    "collapsed": false,
    "ExecuteTime": {
     "end_time": "2024-06-25T10:03:15.783670Z",
     "start_time": "2024-06-25T10:03:15.769887Z"
    }
   },
   "outputs": [],
   "execution_count": 5
  },
  {
   "cell_type": "code",
   "source": [
    "if bp.modifications.check_dict_intersection(thermos) or bp.modifications.check_dict_intersection(protocol):\n",
    "    print('Intersection!')\n",
    "\n",
    "class Find_key:\n",
    "    def __init__(self, check_dict):\n",
    "        self.dictionary = check_dict\n",
    "\n",
    "\n",
    "    def __call__(self, element):\n",
    "        result = [key for key, value in self.dictionary.items() if element in value]\n",
    "        if len(result) == 1:\n",
    "            return result[0]\n",
    "        return result\n",
    "\n",
    "thermos_creator = Find_key(thermos)\n",
    "technique_creator = Find_key(protocol)"
   ],
   "metadata": {
    "collapsed": false,
    "ExecuteTime": {
     "end_time": "2024-06-25T10:03:17.489183Z",
     "start_time": "2024-06-25T10:03:17.483649Z"
    }
   },
   "outputs": [],
   "execution_count": 6
  },
  {
   "cell_type": "code",
   "source": [
    "result['Protocol'] = result['ID'].apply(technique_creator)\n",
    "result.insert(2, 'Protocol', result.pop('Protocol'))\n",
    "result['Thermos'] = result['ID'].apply(thermos_creator)\n",
    "result.insert(6, 'Thermos', result.pop('Thermos'))\n"
   ],
   "metadata": {
    "collapsed": false,
    "ExecuteTime": {
     "end_time": "2024-06-25T10:03:18.786085Z",
     "start_time": "2024-06-25T10:03:18.779278Z"
    }
   },
   "outputs": [],
   "execution_count": 7
  },
  {
   "cell_type": "code",
   "source": "result.sort_values('Step', inplace=True)",
   "metadata": {
    "collapsed": false,
    "ExecuteTime": {
     "end_time": "2024-06-25T10:03:21.609249Z",
     "start_time": "2024-06-25T10:03:21.604804Z"
    }
   },
   "outputs": [],
   "execution_count": 8
  },
  {
   "cell_type": "code",
   "source": [
    "step_id = [bp.modifications.step_id_creator(pouch) for name, pouch in result.groupby('ID')]\n",
    "result['Step_id'] = pd.concat(step_id, )\n",
    "result.insert(4, 'Step_id', result.pop('Step_id'))"
   ],
   "metadata": {
    "collapsed": false,
    "ExecuteTime": {
     "end_time": "2024-06-25T10:04:15.121779Z",
     "start_time": "2024-06-25T10:04:15.109364Z"
    }
   },
   "outputs": [],
   "execution_count": 9
  },
  {
   "metadata": {
    "ExecuteTime": {
     "end_time": "2024-06-25T10:05:18.976197Z",
     "start_time": "2024-06-25T10:05:18.961018Z"
    }
   },
   "cell_type": "code",
   "source": [
    "result_path = os.path.join(r'D:\\!Science\\Физтех\\Циклирования\\Результаты', 'File_statistics.csv')\n",
    "bp.exporting.save_experiment(result, result_path)\n"
   ],
   "outputs": [],
   "execution_count": 10
  }
 ],
 "metadata": {
  "kernelspec": {
   "display_name": "Python 3",
   "language": "python",
   "name": "python3"
  },
  "language_info": {
   "codemirror_mode": {
    "name": "ipython",
    "version": 2
   },
   "file_extension": ".py",
   "mimetype": "text/x-python",
   "name": "python",
   "nbconvert_exporter": "python",
   "pygments_lexer": "ipython2",
   "version": "2.7.6"
  }
 },
 "nbformat": 4,
 "nbformat_minor": 0
}
