{
 "cells": [
  {
   "cell_type": "code",
   "id": "initial_id",
   "metadata": {
    "collapsed": true,
    "ExecuteTime": {
     "end_time": "2024-10-18T08:35:06.698856Z",
     "start_time": "2024-10-18T08:35:06.067089Z"
    }
   },
   "source": [
    "import battery_parser as bp\n",
    "import pandas as pd\n",
    "import os\n",
    "from pathlib import Path\n",
    "        "
   ],
   "outputs": [],
   "execution_count": 1
  },
  {
   "metadata": {},
   "cell_type": "markdown",
   "source": "Ниже формируется словарь для переименования по номеру файла",
   "id": "4a2059a06334cba1"
  },
  {
   "metadata": {
    "ExecuteTime": {
     "end_time": "2024-10-18T14:37:54.008247Z",
     "start_time": "2024-10-18T14:37:54.002665Z"
    }
   },
   "cell_type": "code",
   "source": [
    "p = r'D:\\!Science\\Физтех\\Циклирования\\Разобрать эксперименты\\Эксперименты 04.09.24\\NMC-C\\Заявка № 60 Образцы C-NMC № 010, 011\\2. Пункт 4.2\\010\\BTS82-133-1-2-90-20240402115336-Программа.ndax'\n",
    "p = Path(p)\n",
    "s = r'D:\\!Science\\Физтех\\Циклирования'\n",
    "s = Path(s)\n",
    "print(p.relative_to(s))\n",
    "p = Path(Path(p))"
   ],
   "id": "1f73a65f7f182f31",
   "outputs": [
    {
     "name": "stdout",
     "output_type": "stream",
     "text": [
      "Разобрать эксперименты\\Эксперименты 04.09.24\\NMC-C\\Заявка № 60 Образцы C-NMC № 010, 011\\2. Пункт 4.2\\010\\BTS82-133-1-2-90-20240402115336-Программа.ndax\n"
     ]
    }
   ],
   "execution_count": 13
  },
  {
   "metadata": {
    "ExecuteTime": {
     "end_time": "2024-10-18T09:12:41.983102Z",
     "start_time": "2024-10-18T09:12:41.976582Z"
    }
   },
   "cell_type": "code",
   "source": [
    "def find_common_root(path1: Path, path2: Path) -> Path:\n",
    "    # Получаем набор родительских директорий для обоих путей\n",
    "    parents1 = set(path1.resolve().parents, )\n",
    "    parents2 = set(path2.resolve().parents, )\n",
    "    parents1.add(path1)\n",
    "    parents2.add(path2)\n",
    "\n",
    "    # Ищем пересечение двух наборов родительских директорий\n",
    "    common_parents = parents1 & parents2\n",
    "\n",
    "    # Возвращаем наибольший общий путь\n",
    "    if common_parents:\n",
    "        return max(common_parents, key=lambda p: len(str(p)))\n",
    "    else:\n",
    "        return None\n",
    "print(find_common_root(p, s))"
   ],
   "id": "e1f3f8fcb99d11a3",
   "outputs": [
    {
     "name": "stdout",
     "output_type": "stream",
     "text": [
      "D:\\!Science\\Физтех\\Циклирования\n"
     ]
    }
   ],
   "execution_count": 10
  },
  {
   "metadata": {
    "ExecuteTime": {
     "end_time": "2024-10-15T15:46:35.473150Z",
     "start_time": "2024-10-15T15:46:35.441085Z"
    }
   },
   "cell_type": "code",
   "source": [
    "files = bp.importing.list_files(r'D:\\!Science\\Физтех\\Мои тексты\\ПМИ\\Мои ПМИ', filetype = ['doc', 'docx'])\n",
    "table = pd.read_excel(r'D:\\!Science\\Физтех\\Мои тексты\\ПМИ\\Таблица соответствия ПМ 2024-10-15.xlsx')\n",
    "\n",
    "temp_df = pd.concat([table['№ п/п'].astype(str).str.zfill(2)+'.',table['Объект испытания'] + ' - ' + table['Методика'].str.replace('\\n', '')], axis=1)\n",
    "rename_dict = dict(zip(temp_df['№ п/п'], temp_df[0]))"
   ],
   "id": "a748b07dd0a6a870",
   "outputs": [],
   "execution_count": 32
  },
  {
   "metadata": {
    "ExecuteTime": {
     "end_time": "2024-10-15T15:46:38.348890Z",
     "start_time": "2024-10-15T15:46:38.343353Z"
    }
   },
   "cell_type": "code",
   "source": "files = [Path(f) for f in files]\n",
   "id": "5d1db3a17b776ce2",
   "outputs": [],
   "execution_count": 33
  },
  {
   "metadata": {
    "ExecuteTime": {
     "end_time": "2024-10-15T15:46:47.494829Z",
     "start_time": "2024-10-15T15:46:47.478700Z"
    }
   },
   "cell_type": "code",
   "source": [
    "for number, new_name in rename_dict.items():\n",
    "    found_files = [file for file in files if number in file.stem]\n",
    "    if found_files:\n",
    "        # print(f\"Найдены файлы, содержащие '{number}' {len(found_files)} в названии:\")\n",
    "        # for file in found_files:\n",
    "        #     print(file.name)\n",
    "        if len(found_files) == 1:\n",
    "            initial_file, = found_files\n",
    "            file_ext = initial_file.suffix\n",
    "            new_name = number + new_name + file_ext\n",
    "            new_name = initial_file.parents[0] / new_name\n",
    "            print(new_name)\n",
    "            initial_file.rename(new_name)\n",
    "    else:\n",
    "        print(f\"Файлы с '{number}' в названии не найдены.\")"
   ],
   "id": "ec706683f25106be",
   "outputs": [
    {
     "name": "stdout",
     "output_type": "stream",
     "text": [
      "Файлы с '01.' в названии не найдены.\n",
      "Файлы с '02.' в названии не найдены.\n",
      "Файлы с '03.' в названии не найдены.\n",
      "Файлы с '04.' в названии не найдены.\n",
      "Файлы с '05.' в названии не найдены.\n",
      "Файлы с '06.' в названии не найдены.\n",
      "Файлы с '07.' в названии не найдены.\n",
      "Файлы с '08.' в названии не найдены.\n",
      "Файлы с '09.' в названии не найдены.\n",
      "Файлы с '10.' в названии не найдены.\n",
      "Файлы с '11.' в названии не найдены.\n",
      "Файлы с '12.' в названии не найдены.\n",
      "Файлы с '13.' в названии не найдены.\n",
      "Файлы с '14.' в названии не найдены.\n",
      "Файлы с '15.' в названии не найдены.\n",
      "Файлы с '16.' в названии не найдены.\n",
      "Файлы с '17.' в названии не найдены.\n",
      "Файлы с '18.' в названии не найдены.\n",
      "Файлы с '19.' в названии не найдены.\n",
      "Файлы с '20.' в названии не найдены.\n",
      "Файлы с '21.' в названии не найдены.\n",
      "Файлы с '22.' в названии не найдены.\n",
      "Файлы с '23.' в названии не найдены.\n",
      "Файлы с '24.' в названии не найдены.\n",
      "Файлы с '25.' в названии не найдены.\n",
      "Файлы с '26.' в названии не найдены.\n",
      "Файлы с '27.' в названии не найдены.\n",
      "Файлы с '28.' в названии не найдены.\n",
      "Файлы с '29.' в названии не найдены.\n",
      "Файлы с '30.' в названии не найдены.\n",
      "Файлы с '31.' в названии не найдены.\n",
      "Файлы с '32.' в названии не найдены.\n",
      "D:\\!Science\\Физтех\\Мои тексты\\ПМИ\\Мои ПМИ\\33.Электрический привод и тяговая батарея электротранспорта - Испытание  электрического привода и систем запасания энергии для электротранспортных средств категорий M и N на безопасности использования.doc\n",
      "D:\\!Science\\Физтех\\Мои тексты\\ПМИ\\Мои ПМИ\\34.Литий-ионный аккумулятор  - Испытание безопасности литий-ионных аккумуляторов для электромобилей.doc\n",
      "D:\\!Science\\Физтех\\Мои тексты\\ПМИ\\Мои ПМИ\\35.Литий-ионный аккумулятор и блок аккумуляторов - Испытание безопасности литий-ионных аккумуляторов и блоков для электромобилей.doc\n",
      "D:\\!Science\\Физтех\\Мои тексты\\ПМИ\\Мои ПМИ\\36.Литий-ионный аккумулятор и литий-ионная аккумуляторная батарея  - Испытание безопасности литий-ионных аккумуляторов и батарей при транспортировке.doc\n",
      "D:\\!Science\\Физтех\\Мои тексты\\ПМИ\\Мои ПМИ\\37.Электрический привод и тяговая батарея электротранспорта - Испытания обеспечения безопасности электропривода и батареи для электотранспорта категории L.doc\n",
      "D:\\!Science\\Физтех\\Мои тексты\\ПМИ\\Мои ПМИ\\38.Литий-ионная аккумуляторная батарея - Испытания рабочих характеристик батареи для электотранспорта.doc\n",
      "D:\\!Science\\Физтех\\Мои тексты\\ПМИ\\Мои ПМИ\\39.Литий-ионный аккумулятор  - Испытание рабочих характеристик литий-ионного аккумулятора для электромобилей.doc\n",
      "D:\\!Science\\Физтех\\Мои тексты\\ПМИ\\Мои ПМИ\\40.Тяговая  батарея для электротранспорта - Испытание безопасности перезаряжаемых систем накопления энергии для электротранспорта.docx\n",
      "D:\\!Science\\Физтех\\Мои тексты\\ПМИ\\Мои ПМИ\\41.Тяговая батарея и электрические компоненты электротранспорта - Испытание устойчивости батарей и электрических компонентов электротранспорта к внешним воздействующим факторам.docx\n"
     ]
    }
   ],
   "execution_count": 34
  },
  {
   "metadata": {},
   "cell_type": "code",
   "outputs": [],
   "execution_count": null,
   "source": "",
   "id": "af1760e72e412ba9"
  }
 ],
 "metadata": {
  "kernelspec": {
   "display_name": "Python 3",
   "language": "python",
   "name": "python3"
  },
  "language_info": {
   "codemirror_mode": {
    "name": "ipython",
    "version": 2
   },
   "file_extension": ".py",
   "mimetype": "text/x-python",
   "name": "python",
   "nbconvert_exporter": "python",
   "pygments_lexer": "ipython2",
   "version": "2.7.6"
  }
 },
 "nbformat": 4,
 "nbformat_minor": 5
}
