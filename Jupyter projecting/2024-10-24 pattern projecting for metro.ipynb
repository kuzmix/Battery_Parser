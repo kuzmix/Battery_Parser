{
 "cells": [
  {
   "cell_type": "code",
   "id": "initial_id",
   "metadata": {
    "collapsed": true,
    "ExecuteTime": {
     "end_time": "2024-10-24T09:40:35.068657Z",
     "start_time": "2024-10-24T09:40:35.061633Z"
    }
   },
   "source": "",
   "outputs": [],
   "execution_count": 1
  },
  {
   "metadata": {
    "ExecuteTime": {
     "end_time": "2024-10-24T09:40:47.600891Z",
     "start_time": "2024-10-24T09:40:47.595204Z"
    }
   },
   "cell_type": "code",
   "source": [
    "patterns = [r'([A-Z]{3})', r'[^\\\\]+№\\s?(\\d\\d)[^\\\\]*', r'(\\d\\d)[^\\\\]*', r'[^\\\\]*?([0-9]?[0-9])\\\\?[^\\\\]*?',\n",
    "            r'[^\\\\]*-(13[0-9])-.-([0-9]).*-([0-9]{14})']\n",
    "column_names = ['Chem', 'Tech', 'Step_id', 'Pouch', 'Potentiostat', 'Channel', 'Datetime_id']\n",
    "pattern = r'\\\\'.join(patterns)\n",
    "print(pattern)\n"
   ],
   "id": "6317751cc259ccf9",
   "outputs": [
    {
     "name": "stdout",
     "output_type": "stream",
     "text": [
      "([A-Z]{3})\\\\[^\\\\]+№\\s?(\\d\\d)[^\\\\]*\\\\(\\d\\d)[^\\\\]*\\\\[^\\\\]*?([0-9]?[0-9])[^\\\\]*\\\\[^\\\\]*-(13[0-9])-.-([0-9]).*-([0-9]{14})\n"
     ]
    }
   ],
   "execution_count": 2
  },
  {
   "metadata": {
    "ExecuteTime": {
     "end_time": "2024-10-24T09:41:24.763273Z",
     "start_time": "2024-10-24T09:41:24.757750Z"
    }
   },
   "cell_type": "code",
   "source": [
    "pattern_test = r'([A-Z]{3})\\\\[^\\\\]+№\\s?(\\d\\d)[^\\\\]*\\\\(\\d\\d)[^\\\\]*\\\\[^\\\\]*?([0-9]?[0-9])\\\\?[^\\\\]*?\\\\[^\\\\]*-(13[0-9])-.-([0-9]).*-([0-9]{14})'.split(\n",
    "    '\\\\')"
   ],
   "id": "f3ea608bdaccf528",
   "outputs": [],
   "execution_count": 3
  },
  {
   "metadata": {
    "ExecuteTime": {
     "end_time": "2024-10-24T10:34:42.126876Z",
     "start_time": "2024-10-24T10:34:42.121860Z"
    }
   },
   "cell_type": "code",
   "source": [
    "test = 'D:\\\\!Science\\\\Физтех\\\\Циклирования\\\\Эксперименты_метро\\\\NMC\\\\Заявка № 60 Образцы C-NMC № 010, 011\\\\01.Испытание рабочих характеристик - этап 0\\\\010\\\\BTS82-131-1-1-2818575908-20240325100127-пункт 1-4.1.xlsx'\n",
    "print(test)"
   ],
   "id": "663442d2ab4e71dc",
   "outputs": [
    {
     "name": "stdout",
     "output_type": "stream",
     "text": [
      "D:\\!Science\\Физтех\\Циклирования\\Эксперименты_метро\\NMC\\Заявка № 60 Образцы C-NMC № 010, 011\\01.Испытание рабочих характеристик - этап 0\\010\\BTS82-131-1-1-2818575908-20240325100127-пункт 1-4.1.xlsx\n"
     ]
    }
   ],
   "execution_count": 2
  }
 ],
 "metadata": {
  "kernelspec": {
   "display_name": "Python 3",
   "language": "python",
   "name": "python3"
  },
  "language_info": {
   "codemirror_mode": {
    "name": "ipython",
    "version": 2
   },
   "file_extension": ".py",
   "mimetype": "text/x-python",
   "name": "python",
   "nbconvert_exporter": "python",
   "pygments_lexer": "ipython2",
   "version": "2.7.6"
  }
 },
 "nbformat": 4,
 "nbformat_minor": 5
}
